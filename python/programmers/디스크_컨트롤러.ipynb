{
 "cells": [
  {
   "cell_type": "markdown",
   "id": "719d51f5",
   "metadata": {},
   "source": [
    "- 문제: https://school.programmers.co.kr/learn/courses/30/parts/12117\n",
    "- 못품"
   ]
  },
  {
   "cell_type": "code",
   "execution_count": 52,
   "id": "60fb4830",
   "metadata": {},
   "outputs": [
    {
     "name": "stdout",
     "output_type": "stream",
     "text": [
      "CPU times: user 46 µs, sys: 0 ns, total: 46 µs\n",
      "Wall time: 50.1 µs\n"
     ]
    },
    {
     "data": {
      "text/plain": [
       "9"
      ]
     },
     "execution_count": 52,
     "metadata": {},
     "output_type": "execute_result"
    }
   ],
   "source": [
    "%%time\n",
    "from heapq import heappush, heappop\n",
    "\n",
    "def solution(jobs):\n",
    "    answer, now, i = 0, 0, 0\n",
    "    start = -1\n",
    "    heap = []\n",
    "    \n",
    "    while i < len(jobs):\n",
    "        for j in jobs:\n",
    "            if start < j[0] <= now:\n",
    "                heappush(heap, [j[1], j[0]])\n",
    "        if len(heap):\n",
    "            current = heappop(heap)\n",
    "            start = now\n",
    "            now += current[0]\n",
    "            answer += (now - current[1])\n",
    "            i += 1\n",
    "        else:\n",
    "            now += 1\n",
    "    \n",
    "    return int(answer / len(jobs))\n",
    "\n",
    "solution([[0, 3], [1, 9], [2, 6]])"
   ]
  },
  {
   "cell_type": "code",
   "execution_count": null,
   "id": "7b07b60e",
   "metadata": {},
   "outputs": [],
   "source": []
  }
 ],
 "metadata": {
  "kernelspec": {
   "display_name": "Python 3 (ipykernel)",
   "language": "python",
   "name": "python3"
  },
  "language_info": {
   "codemirror_mode": {
    "name": "ipython",
    "version": 3
   },
   "file_extension": ".py",
   "mimetype": "text/x-python",
   "name": "python",
   "nbconvert_exporter": "python",
   "pygments_lexer": "ipython3",
   "version": "3.9.7"
  }
 },
 "nbformat": 4,
 "nbformat_minor": 5
}
