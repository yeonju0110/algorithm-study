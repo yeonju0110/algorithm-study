{
 "cells": [
  {
   "cell_type": "markdown",
   "id": "6ef3995c",
   "metadata": {},
   "source": [
    "- 문제: https://school.programmers.co.kr/learn/courses/30/lessons/42862"
   ]
  },
  {
   "cell_type": "code",
   "execution_count": 32,
   "id": "c358c82b",
   "metadata": {},
   "outputs": [],
   "source": [
    "def solution(n, lost, reserve):\n",
    "    # 1. 여벌 체육복을 가져온 학생이 체육복을 도난당한 경우 제외\n",
    "    ll = [l for l in lost if l not in reserve]\n",
    "    rr = [r for r in reserve if r not in lost]\n",
    "    \n",
    "    rr.sort() # 2. ✨ 정렬 후 탐색\n",
    "    for r in rr:\n",
    "        if r - 1 in ll: # 3. 왼쪽 학생부터 빌려줄 수 있나 확인\n",
    "            ll.remove(r - 1)\n",
    "        elif r + 1 in ll:\n",
    "            ll.remove(r + 1)\n",
    "    \n",
    "    return n - len(ll) # 정답: 전체 학생 수 - 체육복을 빌리지 못한 학생 수"
   ]
  }
 ],
 "metadata": {
  "kernelspec": {
   "display_name": "Python 3 (ipykernel)",
   "language": "python",
   "name": "python3"
  },
  "language_info": {
   "codemirror_mode": {
    "name": "ipython",
    "version": 3
   },
   "file_extension": ".py",
   "mimetype": "text/x-python",
   "name": "python",
   "nbconvert_exporter": "python",
   "pygments_lexer": "ipython3",
   "version": "3.9.7"
  }
 },
 "nbformat": 4,
 "nbformat_minor": 5
}
