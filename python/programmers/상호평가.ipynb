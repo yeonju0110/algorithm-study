{
 "cells": [
  {
   "cell_type": "code",
   "execution_count": 8,
   "id": "20b2f1dd",
   "metadata": {},
   "outputs": [
    {
     "data": {
      "text/plain": [
       "'CFD'"
      ]
     },
     "execution_count": 8,
     "metadata": {},
     "output_type": "execute_result"
    }
   ],
   "source": [
    "from collections import defaultdict\n",
    "\n",
    "def solution(scores):\n",
    "    a = [] # 평균들\n",
    "    grade = \"\" # 학점들\n",
    "    n = len(scores)\n",
    "    \n",
    "    \n",
    "    for j in range(n):\n",
    "        my_scores = [] # 나를 포함한 학생들이 평가한 내 점수\n",
    "        \n",
    "        for i in range(n):\n",
    "            my_scores.append(scores[i][j])\n",
    "            \n",
    "        me = my_scores[j] # 내가 평가한 내 점수\n",
    "        if me == max(my_scores) or me == min(my_scores): # 내가 평가한 점수가 최댓값 혹은 최솟값이고\n",
    "            if my_scores.count(me) == 1: # 유일하다면\n",
    "                my_scores.remove(me) # 그 값을 제거\n",
    "        \n",
    "        a.append(sum(my_scores) / len(my_scores))\n",
    "    \n",
    "    for score in a:\n",
    "        if score >= 90:\n",
    "            grade += 'A'\n",
    "        elif score >= 80:\n",
    "            grade += 'B'\n",
    "        elif score >= 70:\n",
    "            grade += 'C'\n",
    "        elif score >= 50:\n",
    "            grade += 'D'\n",
    "        else:\n",
    "            grade += 'F'\n",
    "    \n",
    "    return grade\n",
    "\n",
    "# solution([[100,90,98,88,65],[50,45,99,85,77],[47,88,95,80,67],[61,57,100,80,65],[24,90,94,75,65]]) # \"FBABD\"\n",
    "solution([[50,90],[50,87]]) # DA\n",
    "solution([[70,49,90],[68,50,38],[73,31,100]]) # CFD"
   ]
  },
  {
   "cell_type": "code",
   "execution_count": null,
   "id": "b3ee3d59",
   "metadata": {},
   "outputs": [],
   "source": []
  }
 ],
 "metadata": {
  "kernelspec": {
   "display_name": "Python 3 (ipykernel)",
   "language": "python",
   "name": "python3"
  },
  "language_info": {
   "codemirror_mode": {
    "name": "ipython",
    "version": 3
   },
   "file_extension": ".py",
   "mimetype": "text/x-python",
   "name": "python",
   "nbconvert_exporter": "python",
   "pygments_lexer": "ipython3",
   "version": "3.9.7"
  }
 },
 "nbformat": 4,
 "nbformat_minor": 5
}
