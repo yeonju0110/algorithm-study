{
 "cells": [
  {
   "cell_type": "markdown",
   "id": "f3b11ece",
   "metadata": {},
   "source": [
    "- 문제: https://school.programmers.co.kr/learn/courses/30/lessons/42895"
   ]
  },
  {
   "cell_type": "code",
   "execution_count": 8,
   "id": "a0bde188",
   "metadata": {},
   "outputs": [
    {
     "name": "stdout",
     "output_type": "stream",
     "text": [
      "CPU times: user 75 µs, sys: 0 ns, total: 75 µs\n",
      "Wall time: 78.9 µs\n"
     ]
    },
    {
     "data": {
      "text/plain": [
       "4"
      ]
     },
     "execution_count": 8,
     "metadata": {},
     "output_type": "execute_result"
    }
   ],
   "source": [
    "%%time\n",
    "def solution(N, number):\n",
    "    answer = -1\n",
    "    dp = []\n",
    "    \n",
    "    for i in range (1,9) : \n",
    "    # i = N의 개수\n",
    "        all_case = set()\n",
    "        check_number = int(str(N)* i)  # 5, 55, 555 넣어줌\n",
    "        all_case.add(check_number)\n",
    "        \n",
    "        for j in range(0,i-1):\n",
    "        # j 개를 사용해서 만든 값들\n",
    "            for op1 in dp[j]:\n",
    "                for op2 in dp[-j-1] :\n",
    "                    all_case.add(op1 - op2)\n",
    "                    all_case.add(op1 + op2)\n",
    "                    all_case.add(op1 * op2)\n",
    "                    if op2 != 0:\n",
    "                        all_case.add(op1 // op2)\n",
    "                        \n",
    "        if number in all_case:\n",
    "            answer = i\n",
    "            break\n",
    "            \n",
    "        dp.append(all_case) \n",
    "        \n",
    "        \n",
    "    return answer\n",
    "solution(5, 12)\n"
   ]
  },
  {
   "cell_type": "code",
   "execution_count": null,
   "id": "845e55a0",
   "metadata": {},
   "outputs": [],
   "source": []
  }
 ],
 "metadata": {
  "kernelspec": {
   "display_name": "Python 3 (ipykernel)",
   "language": "python",
   "name": "python3"
  },
  "language_info": {
   "codemirror_mode": {
    "name": "ipython",
    "version": 3
   },
   "file_extension": ".py",
   "mimetype": "text/x-python",
   "name": "python",
   "nbconvert_exporter": "python",
   "pygments_lexer": "ipython3",
   "version": "3.9.7"
  }
 },
 "nbformat": 4,
 "nbformat_minor": 5
}
