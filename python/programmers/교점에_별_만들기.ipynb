{
 "cells": [
  {
   "cell_type": "markdown",
   "id": "01b3b451",
   "metadata": {},
   "source": [
    "- 문제: https://school.programmers.co.kr/learn/courses/30/lessons/87377"
   ]
  },
  {
   "cell_type": "code",
   "execution_count": null,
   "id": "c1c1cce5",
   "metadata": {},
   "outputs": [],
   "source": [
    "from itertools import combinations\n",
    "\n",
    "def solution(line):\n",
    "    stars = []\n",
    "    INF = int(1e12) # 무한을 의미하는 값으로 10억을 설정\n",
    "    x_max, x_min = -INF, INF\n",
    "    y_max, y_min = -INF, INF\n",
    "    \n",
    "    cbs = list(combinations(line, 2)) # 두 직선을 조합한 배열\n",
    "    \n",
    "    for cb in cbs:\n",
    "        a, b, e = cb[0]\n",
    "        c, d, f = cb[1]\n",
    "        # 두 직선이 평행하면 건너뜀\n",
    "        m = (a * d) - (b * c) # 분모\n",
    "        if m == 0:\n",
    "            continue\n",
    "        x = ((b * f) - (e * d)) / m\n",
    "        y = ((e * c) - (a * f)) / m\n",
    "        \n",
    "        if x == int(x) and y == int(y):\n",
    "            stars.append([int(x), int(y)])\n",
    "            x_max, x_min = max(x_max, int(x)), min(x_min, int(x))\n",
    "            y_max, y_min = max(y_max, int(y)), min(y_min, int(y))\n",
    "\n",
    "    ss = set(map(tuple, stars))\n",
    "    ss = list(map(list, ss))\n",
    "    \n",
    "    # 모두 .으로 초기화\n",
    "    answer = ['.' * (x_max - x_min + 1)] * (y_max - y_min + 1)\n",
    "    for point in ss:\n",
    "        x, y = point\n",
    "        answer[y_max - y] = answer[y_max - y][:(x - x_min)] + '*' + answer[y_max - y][(x - x_min + 1):]\n",
    "    \n",
    "    return answer"
   ]
  }
 ],
 "metadata": {
  "kernelspec": {
   "display_name": "Python 3 (ipykernel)",
   "language": "python",
   "name": "python3"
  },
  "language_info": {
   "codemirror_mode": {
    "name": "ipython",
    "version": 3
   },
   "file_extension": ".py",
   "mimetype": "text/x-python",
   "name": "python",
   "nbconvert_exporter": "python",
   "pygments_lexer": "ipython3",
   "version": "3.9.7"
  }
 },
 "nbformat": 4,
 "nbformat_minor": 5
}
