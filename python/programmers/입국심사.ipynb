{
 "cells": [
  {
   "cell_type": "markdown",
   "id": "5d45ad4c",
   "metadata": {},
   "source": [
    "- 문제: https://school.programmers.co.kr/learn/courses/30/lessons/43238"
   ]
  },
  {
   "cell_type": "code",
   "execution_count": 6,
   "id": "b5ab93e2",
   "metadata": {},
   "outputs": [
    {
     "name": "stdout",
     "output_type": "stream",
     "text": [
      "CPU times: user 30 µs, sys: 1e+03 ns, total: 31 µs\n",
      "Wall time: 34.1 µs\n"
     ]
    },
    {
     "data": {
      "text/plain": [
       "28"
      ]
     },
     "execution_count": 6,
     "metadata": {},
     "output_type": "execute_result"
    }
   ],
   "source": [
    "%%time\n",
    "def solution(n, times):\n",
    "    answer = 0\n",
    "    # right: 가장 비효율적으로 심사했을 때 걸리는 시간\n",
    "    left, right = 1, max(times) * n\n",
    "    while left <= right:\n",
    "        mid = (left + right) // 2\n",
    "        people = 0\n",
    "        for time in times:\n",
    "            people += mid // time # 모든 심사관들이 mid분동안 심사한 사람 수\n",
    "            if people >= n: # 모든 심사관을 거치지 않아도 n명 이상 검사할 수 있으면 반복문 탈출\n",
    "                break\n",
    "            \n",
    "        if people >= n: # 심사한 사람의 수 >= 심사받아야할 사람의 수\n",
    "            answer = mid\n",
    "            right = mid - 1\n",
    "        elif people < n: # 심사한 사람의 수 < 심사받아야할 사람의 수\n",
    "            left = mid + 1\n",
    "            \n",
    "    return answer\n",
    "\n",
    "solution(6, [7, 10])"
   ]
  },
  {
   "cell_type": "code",
   "execution_count": null,
   "id": "3bf89649",
   "metadata": {},
   "outputs": [],
   "source": []
  }
 ],
 "metadata": {
  "kernelspec": {
   "display_name": "Python 3 (ipykernel)",
   "language": "python",
   "name": "python3"
  },
  "language_info": {
   "codemirror_mode": {
    "name": "ipython",
    "version": 3
   },
   "file_extension": ".py",
   "mimetype": "text/x-python",
   "name": "python",
   "nbconvert_exporter": "python",
   "pygments_lexer": "ipython3",
   "version": "3.9.7"
  }
 },
 "nbformat": 4,
 "nbformat_minor": 5
}
