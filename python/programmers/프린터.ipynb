{
 "cells": [
  {
   "cell_type": "markdown",
   "id": "608d58fe",
   "metadata": {},
   "source": [
    "- 문제: https://school.programmers.co.kr/learn/courses/30/lessons/42587"
   ]
  },
  {
   "cell_type": "code",
   "execution_count": 49,
   "id": "6f1dc492",
   "metadata": {},
   "outputs": [
    {
     "name": "stdout",
     "output_type": "stream",
     "text": [
      "CPU times: user 44 µs, sys: 1e+03 ns, total: 45 µs\n",
      "Wall time: 49.8 µs\n"
     ]
    },
    {
     "data": {
      "text/plain": [
       "1"
      ]
     },
     "execution_count": 49,
     "metadata": {},
     "output_type": "execute_result"
    }
   ],
   "source": [
    "%%time\n",
    "from collections import deque\n",
    "\n",
    "def solution(priorities, location):\n",
    "    queue = deque([[i, v] for i, v in enumerate(priorities)])\n",
    "    prints = []\n",
    "    \n",
    "    while queue:\n",
    "        x = queue.popleft()\n",
    "        if not queue:\n",
    "            prints.append(x)\n",
    "        elif x[1] >= max([i[1] for i in queue]): # queue 맨 앞의 요소가 우선순위가 젤 높다면\n",
    "            prints.append(x)\n",
    "        else:\n",
    "            queue.append(x)\n",
    "            \n",
    "    for i, p in enumerate(prints):\n",
    "        if p[0] == location:\n",
    "            return i + 1\n",
    "        \n",
    "    return\n",
    "\n",
    "solution([2, 1, 3, 2], 2)\n",
    "# solution([1, 1, 9, 1, 1, 1], 0)"
   ]
  },
  {
   "cell_type": "code",
   "execution_count": 54,
   "id": "45b78b97",
   "metadata": {},
   "outputs": [
    {
     "name": "stdout",
     "output_type": "stream",
     "text": [
      "CPU times: user 49 µs, sys: 1e+03 ns, total: 50 µs\n",
      "Wall time: 55.1 µs\n"
     ]
    },
    {
     "data": {
      "text/plain": [
       "5"
      ]
     },
     "execution_count": 54,
     "metadata": {},
     "output_type": "execute_result"
    }
   ],
   "source": [
    "%%time\n",
    "from collections import deque\n",
    "\n",
    "def solution(priorities, location):\n",
    "    queue = deque([[i, v] for i, v in enumerate(priorities)])\n",
    "    answer = 0\n",
    "    \n",
    "    while queue:\n",
    "        x = queue.popleft() # 첫 요소 꺼내기\n",
    "        if not queue: # 마지막 요소라면\n",
    "            answer += 1 # 출력\n",
    "            return answer\n",
    "        elif x[1] >= max([i[1] for i in queue]): # 꺼낸 요소 우선순위 >= 남은 요소 우선순위\n",
    "            answer += 1 # 출력\n",
    "            if x[0] == location: # 내가 인쇄를 요청한 문서라면 종료\n",
    "                return answer\n",
    "        else:\n",
    "            queue.append(x)\n",
    "\n",
    "# solution([2, 1, 3, 2], 2)\n",
    "solution([1, 1, 9, 1, 1, 1], 0)"
   ]
  },
  {
   "cell_type": "code",
   "execution_count": null,
   "id": "397174af",
   "metadata": {},
   "outputs": [],
   "source": []
  }
 ],
 "metadata": {
  "kernelspec": {
   "display_name": "Python 3 (ipykernel)",
   "language": "python",
   "name": "python3"
  },
  "language_info": {
   "codemirror_mode": {
    "name": "ipython",
    "version": 3
   },
   "file_extension": ".py",
   "mimetype": "text/x-python",
   "name": "python",
   "nbconvert_exporter": "python",
   "pygments_lexer": "ipython3",
   "version": "3.9.7"
  }
 },
 "nbformat": 4,
 "nbformat_minor": 5
}
