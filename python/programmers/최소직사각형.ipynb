{
 "cells": [
  {
   "cell_type": "markdown",
   "id": "0f467e13",
   "metadata": {},
   "source": [
    "## 최소직사각형\n",
    "- 문제: https://school.programmers.co.kr/learn/courses/30/lessons/86491"
   ]
  },
  {
   "cell_type": "markdown",
   "id": "a52d8f6e",
   "metadata": {},
   "source": [
    "### 아이디어\n",
    "- 너무 어렵게 생각했었다.\n",
    "- 명함의 가로, 세로 길이 중 (더 큰 값의 최댓값) * (더 작은 값의 최댓값) = 지갑의 "
   ]
  },
  {
   "cell_type": "code",
   "execution_count": 25,
   "id": "8789de1d",
   "metadata": {},
   "outputs": [
    {
     "name": "stdout",
     "output_type": "stream",
     "text": [
      "CPU times: user 24 µs, sys: 1 µs, total: 25 µs\n",
      "Wall time: 28.8 µs\n"
     ]
    },
    {
     "data": {
      "text/plain": [
       "4000"
      ]
     },
     "execution_count": 25,
     "metadata": {},
     "output_type": "execute_result"
    }
   ],
   "source": [
    "%%time\n",
    "def solution(sizes):\n",
    "    maxs = []\n",
    "    mins = []\n",
    "    for w, h in sizes:\n",
    "        if w >= h:\n",
    "            maxs.append(w)\n",
    "            mins.append(h)\n",
    "        else:\n",
    "            maxs.append(h)\n",
    "            mins.append(w)\n",
    "        \n",
    "    return max(maxs) * max(mins)\n",
    "\n",
    "tests = [[60, 50], [30, 70], [60, 30], [80, 40]]\n",
    "solution(tests)"
   ]
  },
  {
   "cell_type": "code",
   "execution_count": 26,
   "id": "2f5247a0",
   "metadata": {},
   "outputs": [
    {
     "name": "stdout",
     "output_type": "stream",
     "text": [
      "[[60, 50], [30, 70], [60, 30], [80, 40]]\n",
      "[60, 70, 60, 80]\n",
      "CPU times: user 487 µs, sys: 358 µs, total: 845 µs\n",
      "Wall time: 572 µs\n"
     ]
    },
    {
     "data": {
      "text/plain": [
       "4000"
      ]
     },
     "execution_count": 26,
     "metadata": {},
     "output_type": "execute_result"
    }
   ],
   "source": [
    "%%time\n",
    "def solution(sizes):\n",
    "    print([x for x in sizes])\n",
    "    print([max(x) for x in sizes])\n",
    "    return max(max(x) for x in sizes) * max(min(x) for x in sizes)\n",
    "\n",
    "tests = [[60, 50], [30, 70], [60, 30], [80, 40]]\n",
    "solution(tests)"
   ]
  },
  {
   "cell_type": "code",
   "execution_count": null,
   "id": "03ab14ba",
   "metadata": {},
   "outputs": [],
   "source": []
  }
 ],
 "metadata": {
  "kernelspec": {
   "display_name": "Python 3 (ipykernel)",
   "language": "python",
   "name": "python3"
  },
  "language_info": {
   "codemirror_mode": {
    "name": "ipython",
    "version": 3
   },
   "file_extension": ".py",
   "mimetype": "text/x-python",
   "name": "python",
   "nbconvert_exporter": "python",
   "pygments_lexer": "ipython3",
   "version": "3.9.7"
  }
 },
 "nbformat": 4,
 "nbformat_minor": 5
}
