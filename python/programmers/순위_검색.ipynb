{
 "cells": [
  {
   "cell_type": "markdown",
   "id": "19e90061",
   "metadata": {},
   "source": [
    "- 문제: https://school.programmers.co.kr/learn/courses/30/lessons/72412"
   ]
  },
  {
   "cell_type": "markdown",
   "id": "816a8cf9",
   "metadata": {},
   "source": [
    "## 풀이 1: 정확성 테스트 O, 효율성 테스트 X"
   ]
  },
  {
   "cell_type": "code",
   "execution_count": 9,
   "id": "22e9fb57",
   "metadata": {},
   "outputs": [
    {
     "name": "stdout",
     "output_type": "stream",
     "text": [
      "37.2 µs ± 1.42 µs per loop (mean ± std. dev. of 7 runs, 10000 loops each)\n"
     ]
    }
   ],
   "source": [
    "%%timeit\n",
    "from bisect import bisect_left\n",
    "\n",
    "def exclude_and(value):\n",
    "    return value != 'and'\n",
    "\n",
    "def convert_to_int_if_digit(value):\n",
    "    return int(value) if value.isdigit() else value\n",
    "\n",
    "def solution(infos, query):\n",
    "    answer = []\n",
    "    \n",
    "    # 지원자 정보 string을 list자료형으로 변환\n",
    "    infos = [list(map(convert_to_int_if_digit, info.split())) for info in infos]\n",
    "    \n",
    "    infos.sort(key = lambda x:x[-1]) # 지원자 점수순으로 정렬\n",
    "        \n",
    "    for q in query:\n",
    "        # query문을 list 자료형으로 변환\n",
    "        processed_query = list(filter(exclude_and, q.split()))\n",
    "        processed_query = list(map(convert_to_int_if_digit, processed_query))\n",
    "        score_cut = processed_query[-1] # 넘어야 하는 점수\n",
    "        \n",
    "        target = bisect_left([info[-1] for info in infos], score_cut)\n",
    "        \n",
    "        result = 0\n",
    "        for i in range(target, len(infos)):\n",
    "            for k in range(0, 4):\n",
    "                if processed_query[k] == '-':\n",
    "                    continue\n",
    "                \n",
    "                if processed_query[k] != infos[i][k]:\n",
    "                    break\n",
    "            else:\n",
    "                result += 1\n",
    "        \n",
    "        answer.append(result)\n",
    "        \n",
    "    return answer\n",
    "\n",
    "solution([\"java backend junior pizza 150\", \"python frontend senior chicken 210\", \"python frontend senior chicken 150\", \"cpp backend senior pizza 260\", \"java backend junior chicken 80\", \"python backend senior chicken 50\"], [\"java and backend and junior and pizza 100\", \"python and frontend and senior and chicken 200\", \"cpp and - and senior and pizza 250\", \"- and backend and senior and - 150\", \"- and - and - and chicken 100\", \"- and - and - and - 150\"])"
   ]
  },
  {
   "cell_type": "markdown",
   "id": "c3fe68d8",
   "metadata": {},
   "source": [
    "## 풀이 2: 이진 탐색 -> 정확성 테스트 O, 효율성 테스트 O\n",
    "\n",
    "우선, 매 문의 조건마다 INFO 배열에서 조건에 해당하는 지원자들을 찾으면서 X점 이상 받은 사람은 몇 명인지 구한다면 정확성 테스트를 통과할 수 있습니다.\n",
    "그러나 효율성 테스트의 경우에는 위와 같은 방식으로 매번 지원자들을 찾는다면 통과할 수 없습니다. 문제 해결을 위해서, 지원자들을 그룹별로 적절하게 미리 분류해두면 매 문의 조건마다 지원자들을 INFO 배열에서 찾지 않아도 됩니다.\n",
    "\n",
    "예를 들어, “java backend junior pizza 150” 지원자의 경우 16가지 그룹에 속하게 됩니다."
   ]
  },
  {
   "cell_type": "code",
   "execution_count": 10,
   "id": "b0e30ad1",
   "metadata": {},
   "outputs": [
    {
     "name": "stdout",
     "output_type": "stream",
     "text": [
      "61 µs ± 1.85 µs per loop (mean ± std. dev. of 7 runs, 10000 loops each)\n"
     ]
    }
   ],
   "source": [
    "%%timeit\n",
    "\n",
    "from collections import defaultdict\n",
    "from bisect import bisect_left\n",
    "\n",
    "def solution(infos, queries):\n",
    "    answer = []\n",
    "    \n",
    "    # 정보를 기반으로 가능한 모든 조합을 생성하고 점수를 저장\n",
    "    info_dict = defaultdict(list)\n",
    "    for info in infos:\n",
    "        info_parts = info.split()\n",
    "        score = int(info_parts[-1])\n",
    "        info_parts = info_parts[:-1]\n",
    "\n",
    "        # 각 부분에서 '-'를 포함한 모든 조합 생성\n",
    "        for lang in [info_parts[0], '-']:\n",
    "            for part in [info_parts[1], '-']:\n",
    "                for career in [info_parts[2], '-']:\n",
    "                    for food in [info_parts[3], '-']:\n",
    "                        info_key = ''.join([lang, part, career, food])\n",
    "                        info_dict[info_key].append(score)\n",
    "    \n",
    "    # 각 조합별 점수를 정렬하여 이진 탐색 준비\n",
    "    for scores in info_dict.values():\n",
    "        scores.sort()\n",
    "        \n",
    "    for query in queries:\n",
    "        # 'and'를 제거하여 query_key 생성\n",
    "        query_parts = query.replace(' and', '').split()\n",
    "        query_score = int(query_parts[-1])\n",
    "        query_key = ''.join(query_parts[:-1])\n",
    "        \n",
    "        # 점수 기준 이진 탐색으로 해당 점수 이상의 지원자 수 계산\n",
    "        scores = info_dict[query_key]\n",
    "        pass_count = len(scores) - bisect_left(scores, query_score)\n",
    "        \n",
    "        answer.append(pass_count)\n",
    "        \n",
    "    return answer\n",
    "\n",
    "solution([\"java backend junior pizza 150\", \"python frontend senior chicken 210\", \"python frontend senior chicken 150\", \"cpp backend senior pizza 260\", \"java backend junior chicken 80\", \"python backend senior chicken 50\"], [\"java and backend and junior and pizza 100\", \"python and frontend and senior and chicken 200\", \"cpp and - and senior and pizza 250\", \"- and backend and senior and - 150\", \"- and - and - and chicken 100\", \"- and - and - and - 150\"])"
   ]
  },
  {
   "cell_type": "code",
   "execution_count": null,
   "id": "bde4e537",
   "metadata": {},
   "outputs": [],
   "source": []
  }
 ],
 "metadata": {
  "kernelspec": {
   "display_name": "Python 3 (ipykernel)",
   "language": "python",
   "name": "python3"
  },
  "language_info": {
   "codemirror_mode": {
    "name": "ipython",
    "version": 3
   },
   "file_extension": ".py",
   "mimetype": "text/x-python",
   "name": "python",
   "nbconvert_exporter": "python",
   "pygments_lexer": "ipython3",
   "version": "3.9.7"
  }
 },
 "nbformat": 4,
 "nbformat_minor": 5
}
