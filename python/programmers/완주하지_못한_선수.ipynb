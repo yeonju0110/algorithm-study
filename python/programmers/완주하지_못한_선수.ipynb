{
 "cells": [
  {
   "cell_type": "markdown",
   "id": "787841d7",
   "metadata": {},
   "source": [
    "- 문제: https://school.programmers.co.kr/learn/courses/30/lessons/42576"
   ]
  },
  {
   "cell_type": "code",
   "execution_count": 38,
   "id": "3df7629b",
   "metadata": {},
   "outputs": [
    {
     "name": "stdout",
     "output_type": "stream",
     "text": [
      "CPU times: user 43 µs, sys: 1 µs, total: 44 µs\n",
      "Wall time: 48.2 µs\n"
     ]
    },
    {
     "data": {
      "text/plain": [
       "'leo'"
      ]
     },
     "execution_count": 38,
     "metadata": {},
     "output_type": "execute_result"
    }
   ],
   "source": [
    "%%time\n",
    "from collections import defaultdict\n",
    "\n",
    "def solution(participant, completion):\n",
    "    answer = ''\n",
    "    \n",
    "    graph = defaultdict(int)\n",
    "    for p in participant:\n",
    "        graph[p] += 1\n",
    "        \n",
    "    for c in completion:\n",
    "        graph[c] -= 1\n",
    "        \n",
    "    idx = [i for i, v in enumerate(graph.values()) if v == 1]\n",
    "    names = graph.keys()\n",
    "    answer = list(names)[int(idx[0])]\n",
    "    \n",
    "    return answer\n",
    "\n",
    "solution([\"leo\", \"kiki\", \"eden\"], [\"eden\", \"kiki\"])"
   ]
  },
  {
   "cell_type": "code",
   "execution_count": 45,
   "id": "2db049a5",
   "metadata": {},
   "outputs": [
    {
     "name": "stdout",
     "output_type": "stream",
     "text": [
      "CPU times: user 54 µs, sys: 1 µs, total: 55 µs\n",
      "Wall time: 58.2 µs\n"
     ]
    },
    {
     "data": {
      "text/plain": [
       "'leo'"
      ]
     },
     "execution_count": 45,
     "metadata": {},
     "output_type": "execute_result"
    }
   ],
   "source": [
    "%%time\n",
    "from collections import Counter\n",
    "\n",
    "def solution(participant, completion):\n",
    "    cnt1 = Counter(participant)\n",
    "    cnt2 = Counter(completion)\n",
    "    \n",
    "    return list((cnt1 - cnt2).keys())[0]\n",
    "\n",
    "solution([\"leo\", \"kiki\", \"eden\"], [\"eden\", \"kiki\"])"
   ]
  },
  {
   "cell_type": "code",
   "execution_count": null,
   "id": "ae817167",
   "metadata": {},
   "outputs": [],
   "source": []
  }
 ],
 "metadata": {
  "kernelspec": {
   "display_name": "Python 3 (ipykernel)",
   "language": "python",
   "name": "python3"
  },
  "language_info": {
   "codemirror_mode": {
    "name": "ipython",
    "version": 3
   },
   "file_extension": ".py",
   "mimetype": "text/x-python",
   "name": "python",
   "nbconvert_exporter": "python",
   "pygments_lexer": "ipython3",
   "version": "3.9.7"
  }
 },
 "nbformat": 4,
 "nbformat_minor": 5
}
