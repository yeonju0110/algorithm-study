{
 "cells": [
  {
   "cell_type": "markdown",
   "id": "35cc2de9",
   "metadata": {},
   "source": [
    "- 문제: https://school.programmers.co.kr/learn/courses/30/lessons/49993"
   ]
  },
  {
   "cell_type": "markdown",
   "id": "31a7150c",
   "metadata": {},
   "source": [
    "## 풀이 1"
   ]
  },
  {
   "cell_type": "markdown",
   "id": "f22ca303",
   "metadata": {},
   "source": [
    "### for-else\n",
    "```py\n",
    "for x in [1, 2, 3, 4]:\n",
    "     if x % 3:\n",
    "         print(x)  # x가 3의 배수가 아니면 출력\n",
    "     else:\n",
    "         break  # x가 3의 배수이면 반복문에서 빠져나감\n",
    " else:\n",
    "     print(\"리스트의 원소를 모두 출력했어요\")\n",
    "```\n",
    "여기서는 반복문을 break했는데, 그럴 때는 else 블록이 실행되지 않습니다."
   ]
  },
  {
   "cell_type": "code",
   "execution_count": 6,
   "id": "49f77177",
   "metadata": {},
   "outputs": [
    {
     "name": "stdout",
     "output_type": "stream",
     "text": [
      "2.32 µs ± 136 ns per loop (mean ± std. dev. of 7 runs, 100000 loops each)\n"
     ]
    }
   ],
   "source": [
    "%%timeit\n",
    "\n",
    "def solution(skill, skill_trees):\n",
    "    answer = 0\n",
    "    \n",
    "    for skill_tree in skill_trees:\n",
    "        skill_list = list(skill)\n",
    "        \n",
    "        for s in skill_tree:\n",
    "            if s in skill:\n",
    "                if s != skill_list.pop(0):\n",
    "                    break\n",
    "        else:\n",
    "            answer += 1\n",
    "        \n",
    "    return answer\n",
    "\n",
    "solution(\"CBD\", [\"BACDE\", \"CBADF\", \"AECB\", \"BDA\"])"
   ]
  },
  {
   "cell_type": "markdown",
   "id": "1c4f4ce4",
   "metadata": {},
   "source": [
    "### if s in skill 연산은 비용이 많이 드는 작업\n",
    "    - 특히 스킬 문자열이 길 경우, skill_tree의 각 문자에 대해 skill 문자열을 선형 탐색해야 하기 때문\n",
    "    - 이를 최적화하기 위해, 스킬이 필요한 skill 순서에 있는지 빠르게 확인하기 위한 세트(set)를 사용하고, 각 스킬이 skill 순서에서 어느 위치에 있는지 즉각적으로 알 수 있도록 인덱스를 저장하는 딕셔너리를 사용합니다.\n",
    " \n",
    "이렇게 하면 스킬이 스킬 시퀀스에 포함되어 있는지 상수 시간 내에 확인할 수 있고, 시퀀스 내에서 해당 스킬의 인덱스도 상수 시간 내에 얻을 수 있습니다."
   ]
  },
  {
   "cell_type": "markdown",
   "id": "2d2f3e77",
   "metadata": {},
   "source": [
    "### list와 set의 차이\n",
    "list와 set의 주된 차이점은 내부 구현에 있습니다. 이러한 구현 차이로 인해, 특정 작업들의 수행 시간이 달라지는데, 특히 요소의 존재 여부를 확인하는 작업에서 그 차이가 두드러집니다.\n",
    "\n",
    "List\n",
    "리스트는 요소의 순서가 유지되는 컬렉션입니다. 리스트에서 특정 요소의 존재 여부를 확인하려면, 리스트의 시작부터 끝까지 요소를 순차적으로 검사해야 합니다. 이 과정은 최악의 경우 모든 요소를 검사해야 하므로 시간 복잡도가 O(n)입니다.\n",
    "\n",
    "Set\n",
    "세트는 순서가 유지되지 않는 유일한 요소의 집합으로, 대부분의 경우 해시 테이블을 기반으로 구현됩니다. 해시 테이블은 각 요소의 \"해시값\"을 계산하고, 이 값을 사용하여 요소를 저장하고 검색합니다. 해시 테이블을 사용하면 대부분의 경우 특정 요소의 존재 여부를 평균적으로 O(1) 시간 내에 확인할 수 있습니다. 그러나 해시 충돌이 발생하면 이 시간이 늘어날 수 있지만, 일반적인 경우에는 여전히 매우 효율적입니다.\n",
    "\n",
    "요약\n",
    "리스트는 순서가 중요하고, 요소의 중복을 허용하는 반면, 세트는 순서를 유지하지 않으며 중복 요소를 허용하지 않습니다.\n",
    "세트는 해시 테이블을 사용하여 구현되기 때문에 요소의 존재 여부를 평균적으로 상수 시간 내에 확인할 수 있습니다. 이는 리스트와 비교했을 때, 특히 큰 데이터 세트에서 요소의 존재 여부를 빠르게 확인할 필요가 있을 때 매우 유용합니다.\n",
    "이러한 차이 때문에, 특정 요소의 존재 여부를 자주 확인해야 하는 경우 세트를 사용하는 것이 리스트보다 훨씬 효율적입니다."
   ]
  },
  {
   "cell_type": "markdown",
   "id": "7a078ca6",
   "metadata": {},
   "source": [
    "## 풀이2: 시간복잡도 개선"
   ]
  },
  {
   "cell_type": "code",
   "execution_count": 9,
   "id": "8cffacda",
   "metadata": {},
   "outputs": [
    {
     "name": "stdout",
     "output_type": "stream",
     "text": [
      "2.58 µs ± 124 ns per loop (mean ± std. dev. of 7 runs, 100000 loops each)\n"
     ]
    }
   ],
   "source": [
    "%%timeit\n",
    "\n",
    "def solution(skill, skill_trees):\n",
    "    answer = 0\n",
    "    skill_to_index = {skill: index for index, skill in enumerate(skill)}\n",
    "    skills_set = set(skill)  # 필요한 스킬의 집합\n",
    "\n",
    "    for tree in skill_trees:\n",
    "        current_skill_level = 0  # 현재 스킬 레벨을 추적\n",
    "        for skill in tree:\n",
    "            if skill in skills_set:  # 스킬이 필요한 스킬 시퀀스에 있는지 확인\n",
    "                # 스킬이 현재 필요한 다음 스킬인지 확인\n",
    "                if skill_to_index[skill] == current_skill_level:\n",
    "                    current_skill_level += 1  # 스킬 시퀀스에서 다음 스킬로 이동\n",
    "                else:\n",
    "                    break  # 스킬 순서가 맞지 않으면 다음 스킬 트리로 이동\n",
    "        else:\n",
    "            # 모든 스킬이 순서대로 있거나 시퀀스에 없으면 유효한 스킬 트리\n",
    "            answer += 1\n",
    "\n",
    "    return answer\n",
    "\n",
    "\n",
    "\n",
    "solution(\"CBD\", [\"BACDE\", \"CBADF\", \"AECB\", \"BDA\"])"
   ]
  },
  {
   "cell_type": "code",
   "execution_count": null,
   "id": "21ec808d",
   "metadata": {},
   "outputs": [],
   "source": []
  }
 ],
 "metadata": {
  "kernelspec": {
   "display_name": "Python 3 (ipykernel)",
   "language": "python",
   "name": "python3"
  },
  "language_info": {
   "codemirror_mode": {
    "name": "ipython",
    "version": 3
   },
   "file_extension": ".py",
   "mimetype": "text/x-python",
   "name": "python",
   "nbconvert_exporter": "python",
   "pygments_lexer": "ipython3",
   "version": "3.9.7"
  }
 },
 "nbformat": 4,
 "nbformat_minor": 5
}
