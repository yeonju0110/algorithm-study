{
 "cells": [
  {
   "cell_type": "markdown",
   "id": "786d7f61",
   "metadata": {},
   "source": [
    "- 문제: https://school.programmers.co.kr/learn/courses/30/lessons/12940"
   ]
  },
  {
   "cell_type": "markdown",
   "id": "7fafa29a",
   "metadata": {},
   "source": [
    "## 유클리드 호재법?"
   ]
  },
  {
   "cell_type": "code",
   "execution_count": 1,
   "id": "44bf5586",
   "metadata": {},
   "outputs": [],
   "source": [
    "def gcd(a, b):\n",
    "    if a % b == 0:\n",
    "        return b\n",
    "    else:\n",
    "        return gcd(b, a % b)\n",
    "\n",
    "def lcm(a, b):\n",
    "    return (a * b) // gcd(a, b)"
   ]
  },
  {
   "cell_type": "markdown",
   "id": "c51f9ea7",
   "metadata": {},
   "source": [
    "## 풀이"
   ]
  },
  {
   "cell_type": "code",
   "execution_count": 4,
   "id": "019e6720",
   "metadata": {},
   "outputs": [
    {
     "name": "stdout",
     "output_type": "stream",
     "text": [
      "[3, 12]\n",
      "CPU times: user 557 µs, sys: 710 µs, total: 1.27 ms\n",
      "Wall time: 701 µs\n"
     ]
    }
   ],
   "source": [
    "%%time\n",
    "\n",
    "def gcd(a, b):\n",
    "    if a % b == 0:\n",
    "        return b\n",
    "    else:\n",
    "        return gcd(b, a % b) \n",
    "\n",
    "def lcm(a, b):\n",
    "    return (a * b) // gcd(a, b)\n",
    "\n",
    "def solution(n, m):\n",
    "    answer = [gcd(n, m), lcm(n, m)]\n",
    "    return answer\n",
    "\n",
    "n = 3\n",
    "m = 12\n",
    "print(solution(n, m))"
   ]
  },
  {
   "cell_type": "code",
   "execution_count": null,
   "id": "b6ed0771",
   "metadata": {},
   "outputs": [],
   "source": []
  }
 ],
 "metadata": {
  "kernelspec": {
   "display_name": "Python 3 (ipykernel)",
   "language": "python",
   "name": "python3"
  },
  "language_info": {
   "codemirror_mode": {
    "name": "ipython",
    "version": 3
   },
   "file_extension": ".py",
   "mimetype": "text/x-python",
   "name": "python",
   "nbconvert_exporter": "python",
   "pygments_lexer": "ipython3",
   "version": "3.9.7"
  }
 },
 "nbformat": 4,
 "nbformat_minor": 5
}
