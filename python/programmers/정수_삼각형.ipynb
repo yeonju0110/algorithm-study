{
 "cells": [
  {
   "cell_type": "markdown",
   "id": "3ca911c6",
   "metadata": {},
   "source": [
    "- 문제: https://school.programmers.co.kr/learn/courses/30/lessons/43105"
   ]
  },
  {
   "cell_type": "markdown",
   "id": "44ec1b33",
   "metadata": {},
   "source": [
    "방법: DP 이용"
   ]
  },
  {
   "cell_type": "code",
   "execution_count": 19,
   "id": "a9a4b052",
   "metadata": {},
   "outputs": [
    {
     "name": "stdout",
     "output_type": "stream",
     "text": [
      "CPU times: user 59 µs, sys: 1 µs, total: 60 µs\n",
      "Wall time: 64.1 µs\n"
     ]
    },
    {
     "data": {
      "text/plain": [
       "30"
      ]
     },
     "execution_count": 19,
     "metadata": {},
     "output_type": "execute_result"
    }
   ],
   "source": [
    "%%time\n",
    "def solution(triangle):\n",
    "    answer = 0\n",
    "    triangle = [[0] + t + [0] for t in triangle] # 테두리를 0으로 감싸줌 -> 바깥 노드의 경우 따로 case 분리안해줘도 됨\n",
    "    \n",
    "    for i in range(1, len(triangle)): \n",
    "        for j in range(1, i+2):\n",
    "            triangle[i][j] += max(triangle[i-1][j-1], triangle[i-1][j]) # 최대값으로 갱신\n",
    "            \n",
    "    answer = max(triangle[-1])\n",
    "    \n",
    "    return answer\n",
    "\n",
    "solution([[7], [3, 8], [8, 1, 0], [2, 7, 4, 4], [4, 5, 2, 6, 5]])"
   ]
  },
  {
   "cell_type": "code",
   "execution_count": null,
   "id": "dc1a154d",
   "metadata": {},
   "outputs": [],
   "source": []
  }
 ],
 "metadata": {
  "kernelspec": {
   "display_name": "Python 3 (ipykernel)",
   "language": "python",
   "name": "python3"
  },
  "language_info": {
   "codemirror_mode": {
    "name": "ipython",
    "version": 3
   },
   "file_extension": ".py",
   "mimetype": "text/x-python",
   "name": "python",
   "nbconvert_exporter": "python",
   "pygments_lexer": "ipython3",
   "version": "3.9.7"
  }
 },
 "nbformat": 4,
 "nbformat_minor": 5
}
