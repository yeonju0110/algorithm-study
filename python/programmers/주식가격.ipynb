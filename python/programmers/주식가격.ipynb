{
 "cells": [
  {
   "cell_type": "markdown",
   "id": "ec3e4c44",
   "metadata": {},
   "source": [
    "- 문제: https://school.programmers.co.kr/learn/courses/30/lessons/42584"
   ]
  },
  {
   "cell_type": "code",
   "execution_count": 47,
   "id": "262cefa6",
   "metadata": {},
   "outputs": [
    {
     "name": "stdout",
     "output_type": "stream",
     "text": [
      "CPU times: user 35 µs, sys: 1 µs, total: 36 µs\n",
      "Wall time: 39.1 µs\n"
     ]
    },
    {
     "data": {
      "text/plain": [
       "[1, 1, 1, 1, 0]"
      ]
     },
     "execution_count": 47,
     "metadata": {},
     "output_type": "execute_result"
    }
   ],
   "source": [
    "%%time\n",
    "from collections import deque\n",
    "\n",
    "def solution(prices):\n",
    "    answer = []\n",
    "    queue = deque(prices)\n",
    "    \n",
    "    while queue:\n",
    "        cnt = 0\n",
    "        current_price = queue.popleft()\n",
    "        \n",
    "        for next_price in queue:\n",
    "            if next_price >= current_price:\n",
    "                cnt += 1\n",
    "            else:\n",
    "                cnt += 1\n",
    "                break\n",
    "                \n",
    "        answer.append(cnt)\n",
    "        \n",
    "            \n",
    "    return answer\n",
    "\n",
    "# solution([1, 2, 3, 2, 3])\n",
    "# solution([1, 2, 3, 2, 3, 1])\n",
    "solution([5,4,3,2,5]) # [1,1,1,1,0]"
   ]
  },
  {
   "cell_type": "code",
   "execution_count": 48,
   "id": "002a33da",
   "metadata": {},
   "outputs": [
    {
     "name": "stdout",
     "output_type": "stream",
     "text": [
      "CPU times: user 26 µs, sys: 5 µs, total: 31 µs\n",
      "Wall time: 40.8 µs\n"
     ]
    },
    {
     "data": {
      "text/plain": [
       "[1, 1, 1, 1, 0]"
      ]
     },
     "execution_count": 48,
     "metadata": {},
     "output_type": "execute_result"
    }
   ],
   "source": [
    "%%time\n",
    "def solution(prices):\n",
    "    answer = [0] * len(prices)\n",
    "    \n",
    "    for i in range(len(prices)):\n",
    "        for j in range(i+1, len(prices)):\n",
    "            if prices[i] <= prices[j]:\n",
    "                answer[i] += 1\n",
    "            else:\n",
    "                answer[i] += 1\n",
    "                break\n",
    "            \n",
    "    return answer\n",
    "\n",
    "# solution([1, 2, 3, 2, 3])\n",
    "# solution([1, 2, 3, 2, 3, 1])\n",
    "solution([5,4,3,2,5]) # [1,1,1,1,0]"
   ]
  },
  {
   "cell_type": "code",
   "execution_count": null,
   "id": "8a0d90bc",
   "metadata": {},
   "outputs": [],
   "source": []
  }
 ],
 "metadata": {
  "kernelspec": {
   "display_name": "Python 3 (ipykernel)",
   "language": "python",
   "name": "python3"
  },
  "language_info": {
   "codemirror_mode": {
    "name": "ipython",
    "version": 3
   },
   "file_extension": ".py",
   "mimetype": "text/x-python",
   "name": "python",
   "nbconvert_exporter": "python",
   "pygments_lexer": "ipython3",
   "version": "3.9.7"
  }
 },
 "nbformat": 4,
 "nbformat_minor": 5
}
