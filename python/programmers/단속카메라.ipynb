{
 "cells": [
  {
   "cell_type": "markdown",
   "id": "ad7a1bc5",
   "metadata": {},
   "source": [
    "- 문제: https://school.programmers.co.kr/learn/courses/30/lessons/42884"
   ]
  },
  {
   "cell_type": "markdown",
   "id": "d99fde7b",
   "metadata": {},
   "source": [
    "방법: 그리디 - 진출 지점에만 확인하면 되지 않을까?\n",
    "\n",
    "1. 진출 지점에 대해서 오름차순으로 정렬한 후 첫번째 진출 지점에 카메라를 설치한다.\n",
    "\n",
    "2. 이후에 진출한 차들의 진입 시점이 그 전의 진출 지점, 즉 카메라가 설치되어 있는 지점보다 늦게 진입했다면 추가로 카메라를 설치한다.\n",
    "    - 이 때도 해당 경로의 진출 지점(끝)에 카메라를 설치하도록 한다. (카메라를 최소로 설치하기 위해)"
   ]
  },
  {
   "cell_type": "code",
   "execution_count": 1,
   "id": "3b108ee1",
   "metadata": {},
   "outputs": [],
   "source": [
    "def solution(routes):\n",
    "    routes.sort(key=lambda x: x[1]) # 진출지점에 대해서 오름차순 정렬\n",
    "    key = -30001\n",
    "    res = 0  # 필요한 카메라 수\n",
    "    \n",
    "    for r in routes:\n",
    "        if r[0] > key: # 기준(카메라)보다 진입지점이 뒤에 있으면\n",
    "            res += 1 # 단속이 안되기에 카메라 하나 더 필요\n",
    "            key = r[1] # 새로운 기준은 해당 경로의 진출지점(맨끝)\n",
    "            \n",
    "    return res"
   ]
  },
  {
   "cell_type": "code",
   "execution_count": null,
   "id": "81bd0633",
   "metadata": {},
   "outputs": [],
   "source": []
  }
 ],
 "metadata": {
  "kernelspec": {
   "display_name": "Python 3 (ipykernel)",
   "language": "python",
   "name": "python3"
  },
  "language_info": {
   "codemirror_mode": {
    "name": "ipython",
    "version": 3
   },
   "file_extension": ".py",
   "mimetype": "text/x-python",
   "name": "python",
   "nbconvert_exporter": "python",
   "pygments_lexer": "ipython3",
   "version": "3.9.7"
  }
 },
 "nbformat": 4,
 "nbformat_minor": 5
}
