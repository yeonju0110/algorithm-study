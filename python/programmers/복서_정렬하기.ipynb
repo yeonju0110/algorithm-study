{
 "cells": [
  {
   "cell_type": "code",
   "execution_count": 53,
   "id": "40d3df96",
   "metadata": {},
   "outputs": [
    {
     "data": {
      "text/plain": [
       "[3, 4, 1, 2]"
      ]
     },
     "execution_count": 53,
     "metadata": {},
     "output_type": "execute_result"
    }
   ],
   "source": [
    "def solution(weights, head2head):\n",
    "    n = len(weights)\n",
    "    \n",
    "    # 본인번호, 전체대결,이긴횟수,자기보다무거운복서, 본인몸무게\n",
    "    res = [[i+1, 0, 0, 0, weights[i]] for i in range(n)] \n",
    "    \n",
    "    for me in range(n):\n",
    "        li = list(head2head[me])\n",
    "        \n",
    "        for other in range(n):\n",
    "            if me != other: # 본인vs본인 제외\n",
    "                \n",
    "                if li[other] == 'W': # 본인이 이겼을 때,\n",
    "                    res[me][1] += 1\n",
    "                    res[me][2] += 1\n",
    "                    if weights[other] > weights[me]:\n",
    "                        res[me][3] += 1\n",
    "                        \n",
    "                elif li[other] == 'L':\n",
    "                    res[me][1] += 1\n",
    "       \n",
    "    ans = []\n",
    "    for r in res:\n",
    "        if r[1] != 0:\n",
    "            r[1] = r[2] / r[1] * 100\n",
    "        ans.append(r[0:2] + r[3:]) # 본인번호, 승률, 자기보다무거운복서, 본인몸무게\n",
    "\n",
    "    \n",
    "    ans = sorted(ans, key=lambda x: (-x[1], -x[2], -x[3], x[0]))\n",
    "    return [i[0] for i in ans]\n",
    "\n",
    "solution([50,82,75,120],[\"NLWL\",\"WNLL\",\"LWNW\",\"WWLN\"]) # [3,4,1,2]\n",
    "# solution([145,92,86],[\"NLW\",\"WNL\",\"LWN\"]) # [2,3,1]\n",
    "# solution([60,70,60],[\"NNN\",\"NNN\",\"NNN\"]) # [2,1,3]"
   ]
  },
  {
   "cell_type": "code",
   "execution_count": null,
   "id": "e1f73a03",
   "metadata": {},
   "outputs": [],
   "source": []
  }
 ],
 "metadata": {
  "kernelspec": {
   "display_name": "Python 3 (ipykernel)",
   "language": "python",
   "name": "python3"
  },
  "language_info": {
   "codemirror_mode": {
    "name": "ipython",
    "version": 3
   },
   "file_extension": ".py",
   "mimetype": "text/x-python",
   "name": "python",
   "nbconvert_exporter": "python",
   "pygments_lexer": "ipython3",
   "version": "3.9.7"
  }
 },
 "nbformat": 4,
 "nbformat_minor": 5
}
