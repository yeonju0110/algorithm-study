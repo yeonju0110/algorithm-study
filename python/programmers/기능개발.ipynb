{
 "cells": [
  {
   "cell_type": "markdown",
   "id": "9437d5d9",
   "metadata": {},
   "source": [
    "- 문제: https://school.programmers.co.kr/learn/courses/30/lessons/42586"
   ]
  },
  {
   "cell_type": "code",
   "execution_count": 57,
   "id": "16f8c25b",
   "metadata": {},
   "outputs": [
    {
     "name": "stdout",
     "output_type": "stream",
     "text": [
      "CPU times: user 72 µs, sys: 3 µs, total: 75 µs\n",
      "Wall time: 78.7 µs\n"
     ]
    },
    {
     "data": {
      "text/plain": [
       "[1, 3, 2]"
      ]
     },
     "execution_count": 57,
     "metadata": {},
     "output_type": "execute_result"
    }
   ],
   "source": [
    "%%time\n",
    "from collections import deque\n",
    "\n",
    "def solution(progresses, speeds):\n",
    "    p_queue = deque(progresses)\n",
    "    s_queue = deque(speeds)\n",
    "    answer = []\n",
    "    \n",
    "    while p_queue:\n",
    "        today = 0 # 하루 시작\n",
    "        for i, q in enumerate(p_queue):\n",
    "            if q < 100: # 100이 넘으면 작업 안함\n",
    "                p_queue[i] += s_queue[i] # 하루 작업\n",
    "                \n",
    "        # 하루의 끝에 점검 시작\n",
    "        while p_queue and p_queue[0] >= 100: # 첫 번째 기능이 준비가 되었을 때, 다음 기능들도 준비가 되었다면 같이 배포\n",
    "            p_queue.popleft()\n",
    "            s_queue.popleft()\n",
    "            today += 1\n",
    "            \n",
    "        if today:\n",
    "            answer.append(today)\n",
    "    \n",
    "    return answer\n",
    "\n",
    "solution([93, 30, 55], [1, 30, 5])\n",
    "solution([95, 90, 99, 99, 80, 99], [1, 1, 1, 1, 1, 1])"
   ]
  },
  {
   "cell_type": "code",
   "execution_count": null,
   "id": "235ebd42",
   "metadata": {},
   "outputs": [],
   "source": []
  }
 ],
 "metadata": {
  "kernelspec": {
   "display_name": "Python 3 (ipykernel)",
   "language": "python",
   "name": "python3"
  },
  "language_info": {
   "codemirror_mode": {
    "name": "ipython",
    "version": 3
   },
   "file_extension": ".py",
   "mimetype": "text/x-python",
   "name": "python",
   "nbconvert_exporter": "python",
   "pygments_lexer": "ipython3",
   "version": "3.9.7"
  }
 },
 "nbformat": 4,
 "nbformat_minor": 5
}
