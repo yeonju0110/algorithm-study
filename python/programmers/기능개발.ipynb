{
 "cells": [
  {
   "cell_type": "markdown",
   "id": "9437d5d9",
   "metadata": {},
   "source": [
    "- 문제: https://school.programmers.co.kr/learn/courses/30/lessons/42586"
   ]
  },
  {
   "cell_type": "markdown",
   "id": "35fe18ce",
   "metadata": {},
   "source": [
    "## 풀이1"
   ]
  },
  {
   "cell_type": "code",
   "execution_count": 4,
   "id": "16f8c25b",
   "metadata": {},
   "outputs": [
    {
     "name": "stdout",
     "output_type": "stream",
     "text": [
      "17.1 µs ± 255 ns per loop (mean ± std. dev. of 7 runs, 100000 loops each)\n"
     ]
    }
   ],
   "source": [
    "%%timeit\n",
    "from collections import deque\n",
    "\n",
    "def solution(progresses, speeds):\n",
    "    p_queue = deque(progresses)\n",
    "    s_queue = deque(speeds)\n",
    "    answer = []\n",
    "    \n",
    "    while p_queue:\n",
    "        today = 0 # 하루 시작\n",
    "        for i, q in enumerate(p_queue):\n",
    "            if q < 100: # 100이 넘으면 작업 안함\n",
    "                p_queue[i] += s_queue[i] # 하루 작업\n",
    "                \n",
    "        # 하루의 끝에 점검 시작\n",
    "        while p_queue and p_queue[0] >= 100: # 첫 번째 기능이 준비가 되었을 때, 다음 기능들도 준비가 되었다면 같이 배포\n",
    "            p_queue.popleft()\n",
    "            s_queue.popleft()\n",
    "            today += 1\n",
    "            \n",
    "        if today:\n",
    "            answer.append(today)\n",
    "    \n",
    "    return answer\n",
    "\n",
    "solution([93, 30, 55], [1, 30, 5])\n",
    "solution([95, 90, 99, 99, 80, 99], [1, 1, 1, 1, 1, 1])"
   ]
  },
  {
   "cell_type": "markdown",
   "id": "322304c9",
   "metadata": {},
   "source": [
    "## 풀이2: 시간 복잡도 줄임"
   ]
  },
  {
   "cell_type": "code",
   "execution_count": 5,
   "id": "235ebd42",
   "metadata": {},
   "outputs": [
    {
     "name": "stdout",
     "output_type": "stream",
     "text": [
      "7.15 µs ± 137 ns per loop (mean ± std. dev. of 7 runs, 100000 loops each)\n"
     ]
    }
   ],
   "source": [
    "%%timeit\n",
    "\n",
    "from collections import deque\n",
    "import math\n",
    "\n",
    "def solution(progresses, speeds):\n",
    "    answer = []\n",
    "\n",
    "    # progresses와 speeds를 deque로 변환\n",
    "    task_progress = deque(progresses)\n",
    "    task_speeds = deque(speeds)\n",
    "\n",
    "    while task_progress:\n",
    "        # 첫 번째 작업이 완료되기까지 필요한 일수 계산\n",
    "        days_needed = math.ceil((100 - task_progress[0]) / task_speeds[0])\n",
    "\n",
    "        # 모든 작업의 진행 상태 업데이트\n",
    "        for i in range(len(task_progress)):\n",
    "            task_progress[i] += days_needed * task_speeds[i]\n",
    "\n",
    "        # 완료된 작업 배포\n",
    "        released_tasks = 0\n",
    "        while task_progress and task_progress[0] >= 100:\n",
    "            task_progress.popleft()  # 완료된 첫 번째 작업 제거\n",
    "            task_speeds.popleft()  # 해당 작업의 속도 정보 제거\n",
    "            released_tasks += 1  # 배포된 작업 수 증가\n",
    "\n",
    "        if released_tasks:\n",
    "            answer.append(released_tasks)\n",
    "\n",
    "    return answer\n",
    "\n",
    "solution([93, 30, 55], [1, 30, 5])\n",
    "solution([95, 90, 99, 99, 80, 99], [1, 1, 1, 1, 1, 1])"
   ]
  },
  {
   "cell_type": "code",
   "execution_count": null,
   "id": "ca39afb1",
   "metadata": {},
   "outputs": [],
   "source": []
  }
 ],
 "metadata": {
  "kernelspec": {
   "display_name": "Python 3 (ipykernel)",
   "language": "python",
   "name": "python3"
  },
  "language_info": {
   "codemirror_mode": {
    "name": "ipython",
    "version": 3
   },
   "file_extension": ".py",
   "mimetype": "text/x-python",
   "name": "python",
   "nbconvert_exporter": "python",
   "pygments_lexer": "ipython3",
   "version": "3.9.7"
  }
 },
 "nbformat": 4,
 "nbformat_minor": 5
}
