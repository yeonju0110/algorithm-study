{
 "cells": [
  {
   "cell_type": "markdown",
   "id": "9e9f6776",
   "metadata": {},
   "source": [
    "- 문제: https://school.programmers.co.kr/learn/courses/30/lessons/42885#qna"
   ]
  },
  {
   "cell_type": "markdown",
   "id": "958e5a1f",
   "metadata": {},
   "source": [
    "방법: 그리디 이용\n",
    "\n",
    "    - 가장 무거운 애랑 가장 가벼운 애랑 같이 태우면 되지 않을까?\n",
    "    - 가장 가벼운 애랑 탈 수 없으면 가장 무거운 애는 혼자 타야한다!"
   ]
  },
  {
   "cell_type": "code",
   "execution_count": 4,
   "id": "b32ef1da",
   "metadata": {},
   "outputs": [
    {
     "name": "stdout",
     "output_type": "stream",
     "text": [
      "CPU times: user 3 µs, sys: 1 µs, total: 4 µs\n",
      "Wall time: 6.91 µs\n"
     ]
    }
   ],
   "source": [
    "%%time\n",
    "def solution(people, limit):\n",
    "    answer = 0\n",
    "\n",
    "    people.sort()\n",
    "    l = 0\n",
    "    r = len(people) - 1\n",
    "    \n",
    "    while l <= r:\n",
    "        if people[l] + people[r] > limit: # 가장 가벼운 애 + 가장 무거운 애 > limit ==> 무거운 애는 혼자 배 타야함\n",
    "            answer += 1\n",
    "            r -= 1\n",
    "        else:  # 같이 배 타는 경우\n",
    "            answer += 1\n",
    "            l += 1\n",
    "            r -= 1\n",
    "    \n",
    "    return answer\n"
   ]
  }
 ],
 "metadata": {
  "kernelspec": {
   "display_name": "Python 3 (ipykernel)",
   "language": "python",
   "name": "python3"
  },
  "language_info": {
   "codemirror_mode": {
    "name": "ipython",
    "version": 3
   },
   "file_extension": ".py",
   "mimetype": "text/x-python",
   "name": "python",
   "nbconvert_exporter": "python",
   "pygments_lexer": "ipython3",
   "version": "3.9.7"
  }
 },
 "nbformat": 4,
 "nbformat_minor": 5
}
