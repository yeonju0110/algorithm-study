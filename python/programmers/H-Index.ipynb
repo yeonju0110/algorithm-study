{
 "cells": [
  {
   "cell_type": "markdown",
   "id": "b112fa4c",
   "metadata": {},
   "source": [
    "- 문제: https://school.programmers.co.kr/learn/courses/30/lessons/42747"
   ]
  },
  {
   "cell_type": "code",
   "execution_count": 48,
   "id": "2e7dc1a4",
   "metadata": {},
   "outputs": [
    {
     "name": "stdout",
     "output_type": "stream",
     "text": [
      "CPU times: user 26 µs, sys: 0 ns, total: 26 µs\n",
      "Wall time: 31 µs\n"
     ]
    },
    {
     "data": {
      "text/plain": [
       "0"
      ]
     },
     "execution_count": 48,
     "metadata": {},
     "output_type": "execute_result"
    }
   ],
   "source": [
    "%%time\n",
    "import math\n",
    "\n",
    "def solution(citations):\n",
    "    m = max(citations)\n",
    "    \n",
    "    for h in range(m, -1, -1):\n",
    "        r = len([i for i in citations if i >= h])\n",
    "        if h <= r:\n",
    "            return h\n",
    "        \n",
    "    return 0\n",
    "\n",
    "\n",
    "# solution([3, 0, 6, 1, 5])\n",
    "# solution([0, 6, 1, 5, 3])\n",
    "# solution([3, 4])\n",
    "# solution([3])\n",
    "# solution([46, 328, 8344, 164, 1])\n",
    "# solution([0])\n",
    "# solution([0, 1, 2, 3, 4])\n",
    "solution([0])\n",
    "# solution([10000])"
   ]
  },
  {
   "cell_type": "code",
   "execution_count": null,
   "id": "19fd397a",
   "metadata": {},
   "outputs": [],
   "source": []
  }
 ],
 "metadata": {
  "kernelspec": {
   "display_name": "Python 3 (ipykernel)",
   "language": "python",
   "name": "python3"
  },
  "language_info": {
   "codemirror_mode": {
    "name": "ipython",
    "version": 3
   },
   "file_extension": ".py",
   "mimetype": "text/x-python",
   "name": "python",
   "nbconvert_exporter": "python",
   "pygments_lexer": "ipython3",
   "version": "3.9.7"
  }
 },
 "nbformat": 4,
 "nbformat_minor": 5
}
