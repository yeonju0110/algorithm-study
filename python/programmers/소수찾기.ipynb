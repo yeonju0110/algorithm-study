{
 "cells": [
  {
   "cell_type": "markdown",
   "id": "1ceacb2e",
   "metadata": {},
   "source": [
    "- 문제: https://school.programmers.co.kr/learn/courses/30/lessons/42839"
   ]
  },
  {
   "cell_type": "code",
   "execution_count": 6,
   "id": "ef5c8aa9",
   "metadata": {},
   "outputs": [
    {
     "name": "stdout",
     "output_type": "stream",
     "text": [
      "CPU times: user 55 µs, sys: 0 ns, total: 55 µs\n",
      "Wall time: 60.1 µs\n"
     ]
    },
    {
     "data": {
      "text/plain": [
       "2"
      ]
     },
     "execution_count": 6,
     "metadata": {},
     "output_type": "execute_result"
    }
   ],
   "source": [
    "%%time\n",
    "from itertools import permutations\n",
    "\n",
    "def solution(numbers):\n",
    "    result = 0\n",
    "    numbers = list(numbers)\n",
    "    prms = []\n",
    "    \n",
    "    for i in range(1, len(numbers)+1):\n",
    "        prms += list(permutations(numbers, i))\n",
    "    \n",
    "    prms = [int(''.join(prm)) for prm in prms]\n",
    "    \n",
    "    for prm in set(prms):\n",
    "        if prm < 2:\n",
    "            continue\n",
    "            \n",
    "        check = 0\n",
    "        for i in range(2, int(prm**0.5)+1):\n",
    "            if prm % i == 0:\n",
    "                check = 1\n",
    "                break\n",
    "        if check == 0:\n",
    "            result += 1\n",
    "    \n",
    "    return result\n",
    "\n",
    "solution('17')\n",
    "solution('011')"
   ]
  },
  {
   "cell_type": "code",
   "execution_count": 11,
   "id": "b0287b9b",
   "metadata": {},
   "outputs": [
    {
     "name": "stdout",
     "output_type": "stream",
     "text": [
      "CPU times: user 80 µs, sys: 1 µs, total: 81 µs\n",
      "Wall time: 84.9 µs\n"
     ]
    },
    {
     "data": {
      "text/plain": [
       "2"
      ]
     },
     "execution_count": 11,
     "metadata": {},
     "output_type": "execute_result"
    }
   ],
   "source": [
    "%%time\n",
    "from itertools import permutations\n",
    "\n",
    "def solution(numbers):\n",
    "    numbers = list(numbers)\n",
    "    prms = []\n",
    "    \n",
    "    for i in range(1, len(numbers)+1):\n",
    "        prms += list(permutations(numbers, i))\n",
    "    \n",
    "    prms = [int(''.join(prm)) for prm in prms]\n",
    "    prms = set(prms)\n",
    "    prms -= set(range(0, 2))\n",
    "    \n",
    "    for i in range(2, int(max(prms) ** 0.5)+1):\n",
    "        prms -= set(range(2 * i, max(prms) + 1, i)) # 에라스토테네스의 체 이용\n",
    "            \n",
    "    return len(prms)\n",
    "\n",
    "solution('17')\n",
    "solution('011')"
   ]
  },
  {
   "cell_type": "code",
   "execution_count": null,
   "id": "4dfb17c5",
   "metadata": {},
   "outputs": [],
   "source": []
  }
 ],
 "metadata": {
  "kernelspec": {
   "display_name": "Python 3 (ipykernel)",
   "language": "python",
   "name": "python3"
  },
  "language_info": {
   "codemirror_mode": {
    "name": "ipython",
    "version": 3
   },
   "file_extension": ".py",
   "mimetype": "text/x-python",
   "name": "python",
   "nbconvert_exporter": "python",
   "pygments_lexer": "ipython3",
   "version": "3.9.7"
  }
 },
 "nbformat": 4,
 "nbformat_minor": 5
}
