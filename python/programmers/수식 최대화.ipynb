{
 "cells": [
  {
   "cell_type": "markdown",
   "id": "794350d8",
   "metadata": {},
   "source": [
    "- 문제: https://school.programmers.co.kr/learn/courses/30/lessons/67257"
   ]
  },
  {
   "cell_type": "markdown",
   "id": "8515447c",
   "metadata": {},
   "source": [
    "## 풀이1"
   ]
  },
  {
   "cell_type": "code",
   "execution_count": 5,
   "id": "77fda9ef",
   "metadata": {},
   "outputs": [
    {
     "name": "stdout",
     "output_type": "stream",
     "text": [
      "42.2 µs ± 1.39 µs per loop (mean ± std. dev. of 7 runs, 10000 loops each)\n"
     ]
    }
   ],
   "source": [
    "%%timeit\n",
    "\n",
    "from itertools import permutations\n",
    "import re\n",
    "\n",
    "def get_ops_permutations(expression):\n",
    "    ops_candidate = ['*', '+', '-'] # 연산자 후보\n",
    "    ops = [] # 현재 필요한 연산자\n",
    "    \n",
    "    for op in ops_candidate:\n",
    "        if op in expression:\n",
    "            ops.append(op)\n",
    "            \n",
    "    return list(permutations(ops))\n",
    "\n",
    "def calc(operator, num1, num2):\n",
    "    if operator == '+':\n",
    "        return num1 + num2\n",
    "    elif operator == '-':\n",
    "        return num1 - num2\n",
    "    elif operator == '*':\n",
    "        return num1 * num2\n",
    "    else:\n",
    "        raise ValueError('지정된 연산자가 아닙니다.')\n",
    "    \n",
    "def solution(expression):\n",
    "    # 숫자와 연산자 분리\n",
    "    parts = re.split('(\\d+|[-+*])', expression) # 숫자와 연산자를 모두 포함하도록 패턴 작성\n",
    "    filtered_parts = list(filter(None, parts)) # 필터를 사용하여 빈 문자열을 제거\n",
    "\n",
    "    op_permutations = get_ops_permutations(expression)\n",
    "    max_result = 0\n",
    "    \n",
    "    for op_list in op_permutations:\n",
    "        current = filtered_parts\n",
    "\n",
    "        for op in op_list:\n",
    "            stack = [current[0]]\n",
    "            for i in range(1, len(current) - 1, 2):\n",
    "                if current[i] == op:\n",
    "                    prev = stack.pop()\n",
    "                    stack.append(calc(op, int(prev), int(current[i + 1])))\n",
    "                else:\n",
    "                    stack.append(current[i])\n",
    "                    stack.append(current[i + 1])\n",
    "                    \n",
    "            current = stack\n",
    "\n",
    "        max_result = max(max_result, abs(current[0]))\n",
    "        \n",
    "    return max_result\n",
    "\n",
    "solution(\"100-200*300-500+20\") # 60420\n",
    "solution(\"50*6-3*2\") # 300"
   ]
  },
  {
   "cell_type": "markdown",
   "id": "396842ca",
   "metadata": {},
   "source": [
    "## 풀이: 2 -> stack 이용하기"
   ]
  },
  {
   "cell_type": "code",
   "execution_count": 9,
   "id": "386ebec0",
   "metadata": {},
   "outputs": [
    {
     "name": "stdout",
     "output_type": "stream",
     "text": [
      "83.5 µs ± 6.43 µs per loop (mean ± std. dev. of 7 runs, 10000 loops each)\n"
     ]
    }
   ],
   "source": [
    "%%timeit\n",
    "\n",
    "from itertools import permutations\n",
    "import re\n",
    "\n",
    "def get_ops_permutations(expression):\n",
    "    ops_candidate = ['*', '+', '-'] # 연산자 후보\n",
    "    ops = [] # 현재 필요한 연산자\n",
    "    \n",
    "    for op in ops_candidate:\n",
    "        if op in expression:\n",
    "            ops.append(op)\n",
    "            \n",
    "    return list(permutations(ops))\n",
    "\n",
    "def calc(operator, num1, num2):\n",
    "    if operator == '+':\n",
    "        return int(num1) + int(num2)\n",
    "    elif operator == '-':\n",
    "        return int(num1) - int(num2)\n",
    "    elif operator == '*':\n",
    "        return int(num1) * int(num2)\n",
    "    else:\n",
    "        raise ValueError('지정된 연산자가 아닙니다.')\n",
    "\n",
    "def filter_expression(value):\n",
    "    return int(value) if value.isdigit() else value\n",
    "\n",
    "def solution(expression):\n",
    "    # 숫자와 연산자 분리\n",
    "    parts = re.split('(\\d+|[-+*])', expression) # 숫자와 연산자를 모두 포함하도록 패턴 작성\n",
    "    not_empty_parts = filter(None, parts)\n",
    "    filtered_parts = list(map(filter_expression, not_empty_parts))  # 필터를 사용하여 빈 문자열을 제거하고 숫자는 정수로 변환\n",
    "\n",
    "    op_permutations = get_ops_permutations(expression)\n",
    "    max_result = 0\n",
    "    \n",
    "    for op_list in op_permutations:\n",
    "        current = filtered_parts.copy()\n",
    "\n",
    "        for op in op_list:\n",
    "            stack = []\n",
    "            while current:\n",
    "                part = current.pop(0)\n",
    "                if part == op:\n",
    "                    operand = stack.pop()\n",
    "                    stack.append(calc(op, operand, current.pop(0)))\n",
    "                else:\n",
    "                    stack.append(part)\n",
    "            current = [str(item) for item in stack]\n",
    "        \n",
    "        max_result = max(max_result, abs(int(current[0])))\n",
    "        \n",
    "    return max_result\n",
    "\n",
    "solution(\"100-200*300-500+20\") # 60420\n",
    "solution(\"50*6-3*2\") # 300"
   ]
  },
  {
   "cell_type": "markdown",
   "id": "e9928740",
   "metadata": {},
   "source": [
    "## 풀이 3: 시간 복잡도 개선\n",
    "리스트의 앞부분에서 요소 제거 최적화: list.pop(0) 연산은 리스트의 모든 요소를 한 칸씩 앞으로 이동시켜야 하므로 시간 복잡도가 O(n)입니다. 대안으로, 리스트를 큐로 처리하거나 인덱스를 사용하여 순회하는 방법을 고려할 수 있습니다."
   ]
  },
  {
   "cell_type": "code",
   "execution_count": 10,
   "id": "f6be876b",
   "metadata": {},
   "outputs": [
    {
     "name": "stdout",
     "output_type": "stream",
     "text": [
      "34 µs ± 869 ns per loop (mean ± std. dev. of 7 runs, 10000 loops each)\n"
     ]
    }
   ],
   "source": [
    "%%timeit\n",
    "\n",
    "from itertools import permutations\n",
    "import re\n",
    "\n",
    "def get_ops_permutations(expression):\n",
    "    ops_candidate = ['*', '+', '-'] # 연산자 후보\n",
    "    ops = [] # 현재 필요한 연산자\n",
    "    \n",
    "    for op in ops_candidate:\n",
    "        if op in expression:\n",
    "            ops.append(op)\n",
    "            \n",
    "    return list(permutations(ops))\n",
    "\n",
    "def calc(operator, num1, num2):\n",
    "    if operator == '+':\n",
    "        return int(num1) + int(num2)\n",
    "    elif operator == '-':\n",
    "        return int(num1) - int(num2)\n",
    "    elif operator == '*':\n",
    "        return int(num1) * int(num2)\n",
    "    else:\n",
    "        raise ValueError('지정된 연산자가 아닙니다.')\n",
    "\n",
    "def filter_expression(value):\n",
    "    return int(value) if value.isdigit() else value\n",
    "\n",
    "def solution(expression):\n",
    "    # 숫자와 연산자 분리\n",
    "    filtered_parts = list(map(filter_expression, filter(None, re.split('([-+*])', expression))))\n",
    "\n",
    "    max_result = 0\n",
    "    for op_list in get_ops_permutations(expression):\n",
    "        ops = list(op_list)\n",
    "        nums = filtered_parts[::2]\n",
    "        operations = filtered_parts[1::2]\n",
    "                                    \n",
    "        for op in op_list:\n",
    "            while op in operations:\n",
    "                idx = operations.index(op)\n",
    "                result = calc(op, nums[idx], nums[idx + 1])\n",
    "                nums.pop(idx + 1)  # 두 번째 피연산자 제거\n",
    "                nums[idx] = result  # 결과를 첫 번째 피연산자 위치에 저장\n",
    "                operations.pop(idx)  # 사용된 연산자 제거\n",
    "\n",
    "        max_result = max(max_result, abs(nums[0]))\n",
    "        \n",
    "    return max_result\n",
    "\n",
    "solution(\"100-200*300-500+20\") # 60420\n",
    "solution(\"50*6-3*2\") # 300"
   ]
  },
  {
   "cell_type": "code",
   "execution_count": null,
   "id": "7f02dba6",
   "metadata": {},
   "outputs": [],
   "source": []
  }
 ],
 "metadata": {
  "kernelspec": {
   "display_name": "Python 3 (ipykernel)",
   "language": "python",
   "name": "python3"
  },
  "language_info": {
   "codemirror_mode": {
    "name": "ipython",
    "version": 3
   },
   "file_extension": ".py",
   "mimetype": "text/x-python",
   "name": "python",
   "nbconvert_exporter": "python",
   "pygments_lexer": "ipython3",
   "version": "3.9.7"
  }
 },
 "nbformat": 4,
 "nbformat_minor": 5
}
