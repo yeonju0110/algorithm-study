{
 "cells": [
  {
   "cell_type": "markdown",
   "id": "a1ee61be",
   "metadata": {},
   "source": [
    "- 문제: https://school.programmers.co.kr/learn/courses/30/lessons/43163"
   ]
  },
  {
   "cell_type": "code",
   "execution_count": 46,
   "id": "d5383643",
   "metadata": {},
   "outputs": [
    {
     "name": "stdout",
     "output_type": "stream",
     "text": [
      "CPU times: user 92 µs, sys: 1 µs, total: 93 µs\n",
      "Wall time: 97 µs\n"
     ]
    },
    {
     "data": {
      "text/plain": [
       "4"
      ]
     },
     "execution_count": 46,
     "metadata": {},
     "output_type": "execute_result"
    }
   ],
   "source": [
    "%%time\n",
    "from collections import deque\n",
    "\n",
    "def solution(begin, target, words):\n",
    "    if target not in words: # target이 words 안에 없기 때문에 변환 불가\n",
    "        return 0\n",
    "    \n",
    "    answer = []\n",
    "    visited = [False] * len(words)\n",
    "    n = len(begin) # 단어 길이\n",
    "    \n",
    "    def bfs(depth, word):\n",
    "        queue = deque()\n",
    "        queue.append((depth, word))\n",
    "\n",
    "        while queue:\n",
    "            depth, current = queue.popleft()\n",
    "            if current != begin:\n",
    "                visited[words.index(current)] = True\n",
    "            \n",
    "            if current == target:\n",
    "                answer.append(depth)\n",
    "                continue\n",
    "            \n",
    "            for word in words:\n",
    "                if not visited[words.index(word)]:\n",
    "                    x = list(word)\n",
    "                    y = list(current)\n",
    "                    l = 0\n",
    "\n",
    "                    for i in range(n):\n",
    "                        if x[i] == y[i]:\n",
    "                            l += 1\n",
    "\n",
    "                    if l == (n - 1): # 1개만 다른 단어 찾기\n",
    "                        queue.append((depth + 1, word))\n",
    "                        \n",
    "\n",
    "    bfs(0, begin)\n",
    "    return min(answer) if answer else answer\n",
    "\n",
    "solution('hit', 'cog', [\"hot\", \"dot\", \"dog\", \"lot\", \"log\", \"cog\"])\n",
    "# solution('hit', 'cog', [\"hot\", \"dot\", \"dog\", \"lot\", \"log\"])"
   ]
  },
  {
   "attachments": {},
   "cell_type": "markdown",
   "id": "78206882",
   "metadata": {},
   "source": [
    "[IMG_4F4ED81C389D-1.jpeg](attachment:IMG_4F4ED81C389D-1.jpeg)"
   ]
  },
  {
   "cell_type": "code",
   "execution_count": null,
   "id": "98fcc97c",
   "metadata": {},
   "outputs": [],
   "source": []
  }
 ],
 "metadata": {
  "kernelspec": {
   "display_name": "Python 3 (ipykernel)",
   "language": "python",
   "name": "python3"
  },
  "language_info": {
   "codemirror_mode": {
    "name": "ipython",
    "version": 3
   },
   "file_extension": ".py",
   "mimetype": "text/x-python",
   "name": "python",
   "nbconvert_exporter": "python",
   "pygments_lexer": "ipython3",
   "version": "3.9.7"
  }
 },
 "nbformat": 4,
 "nbformat_minor": 5
}
