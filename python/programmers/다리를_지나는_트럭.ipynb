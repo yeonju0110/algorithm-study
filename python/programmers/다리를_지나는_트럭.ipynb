{
 "cells": [
  {
   "cell_type": "markdown",
   "id": "fb0435a7",
   "metadata": {},
   "source": [
    "- 문제: https://school.programmers.co.kr/learn/courses/30/lessons/42583"
   ]
  },
  {
   "cell_type": "code",
   "execution_count": 41,
   "id": "bf2c8731",
   "metadata": {},
   "outputs": [
    {
     "name": "stdout",
     "output_type": "stream",
     "text": [
      "CPU times: user 187 µs, sys: 1e+03 ns, total: 188 µs\n",
      "Wall time: 193 µs\n"
     ]
    },
    {
     "data": {
      "text/plain": [
       "110"
      ]
     },
     "execution_count": 41,
     "metadata": {},
     "output_type": "execute_result"
    }
   ],
   "source": [
    "%%time\n",
    "from collections import deque\n",
    "\n",
    "def solution(bridge_length, weight, truck_weights):\n",
    "    time = 1\n",
    "    \n",
    "    # 첫번째 트럭 다리에 올라가게\n",
    "    b = deque([[truck_weights[0], 1]])\n",
    "    waiting = deque(truck_weights[1:])\n",
    "    \n",
    "    while b:\n",
    "        # 1. 다리 다 건넌거 확인 (건넌 길이 = 다리 길이)\n",
    "        if b[0][1] == bridge_length:\n",
    "            b.popleft()\n",
    "        \n",
    "        # 2. 기존에 있는 것들 다리 건넌 길이 증가\n",
    "        for i in b:\n",
    "            i[1] += 1\n",
    "        \n",
    "        # 3. 새로 다리 건너게 할 거 있나 확인\n",
    "        if waiting:\n",
    "            all_w = sum([i[0] for i in b]) + waiting[0] # 새로 트럭이 추가됐을 때 무게\n",
    "\n",
    "            # (무게 ok, 길이 ok)라면, 다리에 추가\n",
    "            if all_w <= weight and (len(b) + 1) <= bridge_length: \n",
    "                b.append([waiting[0], 1])\n",
    "                waiting.popleft()\n",
    "                \n",
    "        time += 1 # 초 증가\n",
    "    \n",
    "    return time\n",
    "\n",
    "# solution(2, 10, [7,4,5,6])\n",
    "solution(100, 100, [10])\n",
    "solution(100, 100, [10,10,10,10,10,10,10,10,10,10])"
   ]
  },
  {
   "cell_type": "code",
   "execution_count": null,
   "id": "08c2e9e9",
   "metadata": {},
   "outputs": [],
   "source": []
  }
 ],
 "metadata": {
  "kernelspec": {
   "display_name": "Python 3 (ipykernel)",
   "language": "python",
   "name": "python3"
  },
  "language_info": {
   "codemirror_mode": {
    "name": "ipython",
    "version": 3
   },
   "file_extension": ".py",
   "mimetype": "text/x-python",
   "name": "python",
   "nbconvert_exporter": "python",
   "pygments_lexer": "ipython3",
   "version": "3.9.7"
  }
 },
 "nbformat": 4,
 "nbformat_minor": 5
}
