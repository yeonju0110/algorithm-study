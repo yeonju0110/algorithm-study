{
 "cells": [
  {
   "cell_type": "markdown",
   "id": "68cc3e49",
   "metadata": {},
   "source": [
    "- 문제: https://school.programmers.co.kr/learn/courses/30/lessons/87946"
   ]
  },
  {
   "cell_type": "code",
   "execution_count": 12,
   "id": "f18ece28",
   "metadata": {},
   "outputs": [
    {
     "name": "stdout",
     "output_type": "stream",
     "text": [
      "CPU times: user 45 µs, sys: 1e+03 ns, total: 46 µs\n",
      "Wall time: 50.3 µs\n"
     ]
    },
    {
     "data": {
      "text/plain": [
       "3"
      ]
     },
     "execution_count": 12,
     "metadata": {},
     "output_type": "execute_result"
    }
   ],
   "source": [
    "%%time\n",
    "from itertools import permutations\n",
    "\n",
    "# 8! = 40320\n",
    "def solution(k, dungeons):\n",
    "    answer = 0\n",
    "    prms = list(permutations(dungeons, len(dungeons)))\n",
    "    \n",
    "    for prm in prms:\n",
    "        tmp = k\n",
    "        cnt = 0\n",
    "        for a, b in prm:\n",
    "            if tmp >= a: # 현재 피로도 >= 최소 필요 피로도\n",
    "                tmp -= b # 현재 피로도 감소\n",
    "                cnt += 1\n",
    "            else:\n",
    "                break\n",
    "        answer = max(answer, cnt)\n",
    "    \n",
    "    return answer\n",
    "\n",
    "solution(80, [[80,20],[50,40],[30,10]])"
   ]
  },
  {
   "cell_type": "code",
   "execution_count": null,
   "id": "307b4e03",
   "metadata": {},
   "outputs": [],
   "source": []
  }
 ],
 "metadata": {
  "kernelspec": {
   "display_name": "Python 3 (ipykernel)",
   "language": "python",
   "name": "python3"
  },
  "language_info": {
   "codemirror_mode": {
    "name": "ipython",
    "version": 3
   },
   "file_extension": ".py",
   "mimetype": "text/x-python",
   "name": "python",
   "nbconvert_exporter": "python",
   "pygments_lexer": "ipython3",
   "version": "3.9.7"
  }
 },
 "nbformat": 4,
 "nbformat_minor": 5
}
