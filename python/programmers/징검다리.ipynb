{
 "cells": [
  {
   "cell_type": "markdown",
   "id": "898ffc9b",
   "metadata": {},
   "source": [
    "- 문제: https://school.programmers.co.kr/learn/courses/30/lessons/43236"
   ]
  },
  {
   "cell_type": "code",
   "execution_count": 1,
   "id": "518a16ac",
   "metadata": {},
   "outputs": [
    {
     "name": "stdout",
     "output_type": "stream",
     "text": [
      "CPU times: user 34 µs, sys: 1 µs, total: 35 µs\n",
      "Wall time: 39.3 µs\n"
     ]
    },
    {
     "data": {
      "text/plain": [
       "4"
      ]
     },
     "execution_count": 1,
     "metadata": {},
     "output_type": "execute_result"
    }
   ],
   "source": [
    "%%time\n",
    "def solution(distance, rocks, n):\n",
    "    answer = 0\n",
    "    start, end = 1, distance # 최대 = distance\n",
    "    \n",
    "    rocks.sort() # 오름차순 정렬\n",
    "    \n",
    "    # 이분 탐색\n",
    "    while start <= end:\n",
    "        mid = (start + end) // 2\n",
    "        del_stones = 0 # 제거하는 돌 수\n",
    "        pre_stone = 0 # 기준 돌(시작지점)\n",
    "        for rock in rocks:\n",
    "            if rock - pre_stone < mid: # 돌사이의 거리 < 가정한 값 -> 제거\n",
    "                del_stones += 1\n",
    "            else: # 아니면 그 돌을 기준으로 새로 세움\n",
    "                pre_stone = rock\n",
    "            \n",
    "            if del_stones > n: # 제거된 돌 > 문제 조건 -> for문 탈출\n",
    "                break\n",
    "        \n",
    "        if del_stones > n: # 제거된 돌이 너무 많으면 가정한 값이 큰 것 -> 범위를 작은 쪽으로 줄인다\n",
    "            end = mid - 1\n",
    "        else: # 반대라면 큰 쪽으로 줄인다\n",
    "            answer = mid\n",
    "            start = mid + 1\n",
    "    \n",
    "    return answer\n",
    "\n",
    "solution(25, [2, 14, 11, 21, 17], 2)"
   ]
  },
  {
   "cell_type": "code",
   "execution_count": null,
   "id": "6c30da95",
   "metadata": {},
   "outputs": [],
   "source": []
  }
 ],
 "metadata": {
  "kernelspec": {
   "display_name": "Python 3 (ipykernel)",
   "language": "python",
   "name": "python3"
  },
  "language_info": {
   "codemirror_mode": {
    "name": "ipython",
    "version": 3
   },
   "file_extension": ".py",
   "mimetype": "text/x-python",
   "name": "python",
   "nbconvert_exporter": "python",
   "pygments_lexer": "ipython3",
   "version": "3.9.7"
  }
 },
 "nbformat": 4,
 "nbformat_minor": 5
}
