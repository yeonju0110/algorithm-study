{
 "cells": [
  {
   "cell_type": "markdown",
   "id": "99113b63",
   "metadata": {},
   "source": [
    "- 문제: https://school.programmers.co.kr/learn/courses/30/lessons/82612"
   ]
  },
  {
   "cell_type": "code",
   "execution_count": 3,
   "id": "5c0aea37",
   "metadata": {},
   "outputs": [
    {
     "name": "stdout",
     "output_type": "stream",
     "text": [
      "CPU times: user 23 µs, sys: 0 ns, total: 23 µs\n",
      "Wall time: 26.9 µs\n"
     ]
    },
    {
     "data": {
      "text/plain": [
       "10"
      ]
     },
     "execution_count": 3,
     "metadata": {},
     "output_type": "execute_result"
    }
   ],
   "source": [
    "%%time\n",
    "def solution(price, money, count):\n",
    "    sum_x = 0 # 지불해야할 총 금액\n",
    "    \n",
    "    for i in range(1, count + 1): # 지불해야할 금액 누적\n",
    "        sum_x += (price * i)\n",
    "\n",
    "    if sum_x > money: # 지불해야할 금액 > 현재 가지고 있는 금액\n",
    "        return sum_x - money\n",
    "    else:\n",
    "        return 0\n",
    "\n",
    "solution(3, 20, 4)"
   ]
  },
  {
   "cell_type": "code",
   "execution_count": null,
   "id": "1f4d8172",
   "metadata": {},
   "outputs": [],
   "source": []
  }
 ],
 "metadata": {
  "kernelspec": {
   "display_name": "Python 3 (ipykernel)",
   "language": "python",
   "name": "python3"
  },
  "language_info": {
   "codemirror_mode": {
    "name": "ipython",
    "version": 3
   },
   "file_extension": ".py",
   "mimetype": "text/x-python",
   "name": "python",
   "nbconvert_exporter": "python",
   "pygments_lexer": "ipython3",
   "version": "3.9.7"
  }
 },
 "nbformat": 4,
 "nbformat_minor": 5
}
