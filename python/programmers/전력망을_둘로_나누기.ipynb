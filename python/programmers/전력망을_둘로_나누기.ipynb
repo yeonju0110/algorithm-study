{
 "cells": [
  {
   "cell_type": "markdown",
   "id": "1b8a5da9",
   "metadata": {},
   "source": [
    "- 문제: https://school.programmers.co.kr/learn/courses/30/lessons/86971"
   ]
  },
  {
   "cell_type": "code",
   "execution_count": 2,
   "id": "422750b7",
   "metadata": {},
   "outputs": [
    {
     "name": "stdout",
     "output_type": "stream",
     "text": [
      "CPU times: user 130 µs, sys: 1 µs, total: 131 µs\n",
      "Wall time: 135 µs\n"
     ]
    },
    {
     "data": {
      "text/plain": [
       "1"
      ]
     },
     "execution_count": 2,
     "metadata": {},
     "output_type": "execute_result"
    }
   ],
   "source": [
    "%%time\n",
    "from collections import deque\n",
    "\n",
    "def solution(n, wires):\n",
    "    res = n\n",
    "    graph = [[] for _ in range(n+1)]\n",
    "    for a, b in wires:\n",
    "        graph[a].append(b)\n",
    "        graph[b].append(a)\n",
    "        \n",
    "    def bfs(start):\n",
    "        visited = [False] * (n+1)\n",
    "        q = deque([start])\n",
    "        visited[start] = 1\n",
    "        cnt = 1\n",
    "        while q:\n",
    "            s = q.popleft()\n",
    "            for i in graph[s]:\n",
    "                if not visited[i]:\n",
    "                    q.append(i)\n",
    "                    visited[i] = 1\n",
    "                    cnt += 1\n",
    "        return cnt\n",
    "        \n",
    "    for a, b in wires:\n",
    "        graph[a].remove(b)\n",
    "        graph[b].remove(a)\n",
    "        \n",
    "        res = min(abs(bfs(a) - bfs(b)), res)\n",
    "        \n",
    "        graph[a].append(b)\n",
    "        graph[b].append(a)\n",
    "        \n",
    "    \n",
    "    return res\n",
    "\n",
    "solution(9, [[1,3],[2,3],[3,4],[4,5],[4,6],[4,7],[7,8],[7,9]])\n",
    "solution(4, [[1,2],[2,3],[3,4]])\n",
    "solution(7, [[1,2],[2,7],[3,7],[3,4],[4,5],[6,7]])"
   ]
  },
  {
   "cell_type": "markdown",
   "id": "2c78d50b",
   "metadata": {},
   "source": [
    "### union-find 이용"
   ]
  },
  {
   "cell_type": "code",
   "execution_count": 4,
   "id": "8901591a",
   "metadata": {},
   "outputs": [
    {
     "name": "stdout",
     "output_type": "stream",
     "text": [
      "Counter({2: 6, 1: 1})\n",
      "Counter({3: 5, 1: 2})\n",
      "Counter({1: 4, 3: 3})\n",
      "Counter({1: 5, 4: 2})\n",
      "Counter({1: 6, 5: 1})\n",
      "Counter({1: 6, 6: 1})\n",
      "CPU times: user 699 µs, sys: 189 µs, total: 888 µs\n",
      "Wall time: 799 µs\n"
     ]
    },
    {
     "data": {
      "text/plain": [
       "1"
      ]
     },
     "execution_count": 4,
     "metadata": {},
     "output_type": "execute_result"
    }
   ],
   "source": [
    "%%time\n",
    "import copy\n",
    "from collections import Counter\n",
    "\n",
    "def find(parent, x):\n",
    "    if parent[x] != x:\n",
    "        parent[x] = find(parent, parent[x])\n",
    "    return parent[x]\n",
    "\n",
    "def union(parent, a, b):\n",
    "    a = find(parent, a)\n",
    "    b = find(parent, b)\n",
    "    \n",
    "    if a < b:\n",
    "        parent[b] = a\n",
    "    else:\n",
    "        parent[a] = b\n",
    "    \n",
    "\n",
    "def solution(n, wires):\n",
    "    answer = float('inf')\n",
    "            \n",
    "    for wire in wires:\n",
    "        p = [i for i in range(n+1)]\n",
    "        tmp = copy.deepcopy(wires)\n",
    "        tmp.remove(wire)\n",
    "        \n",
    "        for a,b in tmp:\n",
    "            if find(p, a) == find(p, b):\n",
    "                continue\n",
    "            union(p, a, b)\n",
    "            \n",
    "        uf = []\n",
    "        for i in range(1, n + 1):\n",
    "            uf.append(find(p, i))\n",
    "        \n",
    "        uf = Counter(uf)\n",
    "        print(uf)\n",
    "        v = list(uf.values())\n",
    "        answer = min(answer, abs(v[0] - v[1]))\n",
    "    \n",
    "    return answer\n",
    "\n",
    "solution(7, [[1,2],[2,7],[3,7],[3,4],[4,5],[6,7]])"
   ]
  },
  {
   "cell_type": "code",
   "execution_count": null,
   "id": "c34cb16a",
   "metadata": {},
   "outputs": [],
   "source": []
  }
 ],
 "metadata": {
  "kernelspec": {
   "display_name": "Python 3 (ipykernel)",
   "language": "python",
   "name": "python3"
  },
  "language_info": {
   "codemirror_mode": {
    "name": "ipython",
    "version": 3
   },
   "file_extension": ".py",
   "mimetype": "text/x-python",
   "name": "python",
   "nbconvert_exporter": "python",
   "pygments_lexer": "ipython3",
   "version": "3.9.7"
  }
 },
 "nbformat": 4,
 "nbformat_minor": 5
}
