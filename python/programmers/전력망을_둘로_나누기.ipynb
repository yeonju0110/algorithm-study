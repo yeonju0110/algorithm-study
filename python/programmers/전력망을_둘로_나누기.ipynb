{
 "cells": [
  {
   "cell_type": "markdown",
   "id": "1b8a5da9",
   "metadata": {},
   "source": [
    "- 문제: https://school.programmers.co.kr/learn/courses/30/lessons/86971"
   ]
  },
  {
   "cell_type": "code",
   "execution_count": 37,
   "id": "422750b7",
   "metadata": {},
   "outputs": [
    {
     "name": "stdout",
     "output_type": "stream",
     "text": [
      "CPU times: user 129 µs, sys: 1 µs, total: 130 µs\n",
      "Wall time: 134 µs\n"
     ]
    },
    {
     "data": {
      "text/plain": [
       "1"
      ]
     },
     "execution_count": 37,
     "metadata": {},
     "output_type": "execute_result"
    }
   ],
   "source": [
    "%%time\n",
    "from collections import deque\n",
    "\n",
    "def solution(n, wires):\n",
    "    res = n\n",
    "    graph = [[] for _ in range(n+1)]\n",
    "    for a, b in wires:\n",
    "        graph[a].append(b)\n",
    "        graph[b].append(a)\n",
    "        \n",
    "    def bfs(start):\n",
    "        visited = [False] * (n+1)\n",
    "        q = deque([start])\n",
    "        visited[start] = 1\n",
    "        cnt = 1\n",
    "        while q:\n",
    "            s = q.popleft()\n",
    "            for i in graph[s]:\n",
    "                if not visited[i]:\n",
    "                    q.append(i)\n",
    "                    visited[i] = 1\n",
    "                    cnt += 1\n",
    "        return cnt\n",
    "        \n",
    "    for a, b in wires:\n",
    "        graph[a].remove(b)\n",
    "        graph[b].remove(a)\n",
    "        \n",
    "        res = min(abs(bfs(a) - bfs(b)), res)\n",
    "        \n",
    "        graph[a].append(b)\n",
    "        graph[b].append(a)\n",
    "        \n",
    "    \n",
    "    return res\n",
    "\n",
    "solution(9, [[1,3],[2,3],[3,4],[4,5],[4,6],[4,7],[7,8],[7,9]])\n",
    "solution(4, [[1,2],[2,3],[3,4]])\n",
    "solution(7, [[1,2],[2,7],[3,7],[3,4],[4,5],[6,7]])"
   ]
  },
  {
   "cell_type": "code",
   "execution_count": null,
   "id": "7ff0e301",
   "metadata": {},
   "outputs": [],
   "source": []
  }
 ],
 "metadata": {
  "kernelspec": {
   "display_name": "Python 3 (ipykernel)",
   "language": "python",
   "name": "python3"
  },
  "language_info": {
   "codemirror_mode": {
    "name": "ipython",
    "version": 3
   },
   "file_extension": ".py",
   "mimetype": "text/x-python",
   "name": "python",
   "nbconvert_exporter": "python",
   "pygments_lexer": "ipython3",
   "version": "3.9.7"
  }
 },
 "nbformat": 4,
 "nbformat_minor": 5
}
