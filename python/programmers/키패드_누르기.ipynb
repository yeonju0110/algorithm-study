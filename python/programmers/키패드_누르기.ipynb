{
 "cells": [
  {
   "cell_type": "markdown",
   "id": "76f85449",
   "metadata": {},
   "source": [
    "- 문제: https://school.programmers.co.kr/learn/courses/30/lessons/67256"
   ]
  },
  {
   "cell_type": "markdown",
   "id": "501ccc4d",
   "metadata": {},
   "source": [
    "## 풀이 1: 이중 배열 이용"
   ]
  },
  {
   "cell_type": "code",
   "execution_count": 12,
   "id": "96ae8cda",
   "metadata": {},
   "outputs": [
    {
     "name": "stdout",
     "output_type": "stream",
     "text": [
      "LRLLLRLLRRL\n",
      "CPU times: user 441 µs, sys: 176 µs, total: 617 µs\n",
      "Wall time: 556 µs\n"
     ]
    }
   ],
   "source": [
    "%%time\n",
    "\n",
    "phone = [[1, 2, 3], [4, 5, 6], [7, 8, 9], ['*', 0, '#']]\n",
    "\n",
    "def solution(numbers, hand):\n",
    "    answer = ''\n",
    "    \n",
    "    left_hand = find_position('*')\n",
    "    right_hand = find_position('#')\n",
    "    \n",
    "    for number in numbers:\n",
    "        position = find_position(number)\n",
    "        if number in [1, 4, 7]:\n",
    "            answer += 'L'\n",
    "            left_hand = position\n",
    "        elif number in [3, 6, 9]:\n",
    "            answer += 'R'\n",
    "            right_hand = position\n",
    "        else:            \n",
    "            left_distance = calc_distance(position, left_hand)\n",
    "            right_distance = calc_distance(position, right_hand)\n",
    "            \n",
    "            if left_distance < right_distance or (left_distance == right_distance and hand == 'left'):\n",
    "                answer += 'L'\n",
    "                left_hand = position\n",
    "            else:\n",
    "                answer += 'R'\n",
    "                right_hand = position             \n",
    "    \n",
    "    return answer\n",
    "\n",
    "def find_position(n):\n",
    "    for i in range(len(phone)):\n",
    "        for j in range(len(phone[0])):\n",
    "            if phone[i][j] == n:\n",
    "                return [i, j]\n",
    "\n",
    "def calc_distance(target, hand):\n",
    "    return abs(target[0] - hand[0]) + abs(target[1] - hand[1])\n",
    "\n",
    "numbers = [1, 3, 4, 5, 8, 2, 1, 4, 5, 9, 5]\n",
    "hand = \"right\"\n",
    "print(solution(numbers, hand))"
   ]
  },
  {
   "cell_type": "markdown",
   "id": "7670effa",
   "metadata": {},
   "source": [
    "## 풀이 2: 딕셔너리 자료형 이용"
   ]
  },
  {
   "cell_type": "code",
   "execution_count": 8,
   "id": "5c5b3aaa",
   "metadata": {},
   "outputs": [
    {
     "name": "stdout",
     "output_type": "stream",
     "text": [
      "LRLLLRLLRRL\n",
      "CPU times: user 412 µs, sys: 262 µs, total: 674 µs\n",
      "Wall time: 435 µs\n"
     ]
    }
   ],
   "source": [
    "%%time\n",
    "\n",
    "positions = {1: (0, 0), 2: (0, 1), 3: (0, 2),\n",
    "             4: (1, 0), 5: (1, 1), 6: (1, 2),\n",
    "             7: (2, 0), 8: (2, 1), 9: (2, 2),\n",
    "             '*': (3, 0), 0: (3, 1), '#': (3, 2)}\n",
    "\n",
    "def solution(numbers, hand):\n",
    "    answer = ''\n",
    "    \n",
    "    # Starting positions of the left and right hands\n",
    "    left_hand = positions['*']\n",
    "    right_hand = positions['#']\n",
    "    \n",
    "    for number in numbers:\n",
    "        position = positions[number]\n",
    "        \n",
    "        if number in [1, 4, 7]:\n",
    "            answer += 'L'\n",
    "            left_hand = position\n",
    "        elif number in [3, 6, 9]:\n",
    "            answer += 'R'\n",
    "            right_hand = position\n",
    "        else:\n",
    "            left_distance = calc_distance(position, left_hand)\n",
    "            right_distance = calc_distance(position, right_hand)\n",
    "            \n",
    "            if left_distance < right_distance or (left_distance == right_distance and hand == 'left'):\n",
    "                answer += 'L'\n",
    "                left_hand = position\n",
    "            else:\n",
    "                answer += 'R'\n",
    "                right_hand = position\n",
    "\n",
    "    return answer\n",
    "\n",
    "def calc_distance(target, hand):\n",
    "    return abs(target[0] - hand[0]) + abs(target[1] - hand[1])\n",
    "\n",
    "numbers = [1, 3, 4, 5, 8, 2, 1, 4, 5, 9, 5]\n",
    "hand = \"right\"\n",
    "print(solution(numbers, hand))\n"
   ]
  },
  {
   "cell_type": "code",
   "execution_count": null,
   "id": "5a9f5f87",
   "metadata": {},
   "outputs": [],
   "source": []
  }
 ],
 "metadata": {
  "kernelspec": {
   "display_name": "Python 3 (ipykernel)",
   "language": "python",
   "name": "python3"
  },
  "language_info": {
   "codemirror_mode": {
    "name": "ipython",
    "version": 3
   },
   "file_extension": ".py",
   "mimetype": "text/x-python",
   "name": "python",
   "nbconvert_exporter": "python",
   "pygments_lexer": "ipython3",
   "version": "3.9.7"
  }
 },
 "nbformat": 4,
 "nbformat_minor": 5
}
