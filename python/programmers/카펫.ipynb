{
 "cells": [
  {
   "cell_type": "markdown",
   "id": "1ec9bc31",
   "metadata": {},
   "source": [
    "- 문제: https://school.programmers.co.kr/learn/courses/30/lessons/42842"
   ]
  },
  {
   "cell_type": "code",
   "execution_count": 19,
   "id": "87f8e01a",
   "metadata": {},
   "outputs": [
    {
     "name": "stdout",
     "output_type": "stream",
     "text": [
      "CPU times: user 28 µs, sys: 0 ns, total: 28 µs\n",
      "Wall time: 32.2 µs\n"
     ]
    },
    {
     "data": {
      "text/plain": [
       "[8, 6]"
      ]
     },
     "execution_count": 19,
     "metadata": {},
     "output_type": "execute_result"
    }
   ],
   "source": [
    "%%time\n",
    "def solution(brown, yellow):\n",
    "    answer = []\n",
    "    arrs = []\n",
    "    for i in range(1, int(yellow ** 0.5) + 1):\n",
    "        if yellow % i == 0:\n",
    "            arrs.append([yellow // i, i])\n",
    "            \n",
    "    for arr in arrs:\n",
    "        if (arr[0] * 2 + arr[1] * 2 + 4) == brown:\n",
    "            answer = [arr[0] + 2, arr[1] + 2]\n",
    "            break\n",
    "    \n",
    "    return answer\n",
    "\n",
    "solution(24, 24)"
   ]
  },
  {
   "cell_type": "code",
   "execution_count": 24,
   "id": "6ecadf92",
   "metadata": {},
   "outputs": [
    {
     "name": "stdout",
     "output_type": "stream",
     "text": [
      "CPU times: user 24 µs, sys: 1 µs, total: 25 µs\n",
      "Wall time: 28.8 µs\n"
     ]
    },
    {
     "data": {
      "text/plain": [
       "[8, 6]"
      ]
     },
     "execution_count": 24,
     "metadata": {},
     "output_type": "execute_result"
    }
   ],
   "source": [
    "%%time\n",
    "def solution(brown, yellow):\n",
    "    answer = []\n",
    "    for i in range(1, int(yellow ** 0.5) + 1):\n",
    "        if yellow % i == 0:\n",
    "            arr = [yellow // i, i]\n",
    "            if (arr[0] * 2 + arr[1] * 2 + 4) == brown:\n",
    "                answer = [arr[0] + 2, arr[1] + 2]\n",
    "                break\n",
    "    \n",
    "    return answer\n",
    "\n",
    "solution(24, 24)"
   ]
  },
  {
   "cell_type": "code",
   "execution_count": null,
   "id": "d4e7f7a6",
   "metadata": {},
   "outputs": [],
   "source": []
  }
 ],
 "metadata": {
  "kernelspec": {
   "display_name": "Python 3 (ipykernel)",
   "language": "python",
   "name": "python3"
  },
  "language_info": {
   "codemirror_mode": {
    "name": "ipython",
    "version": 3
   },
   "file_extension": ".py",
   "mimetype": "text/x-python",
   "name": "python",
   "nbconvert_exporter": "python",
   "pygments_lexer": "ipython3",
   "version": "3.9.7"
  }
 },
 "nbformat": 4,
 "nbformat_minor": 5
}
