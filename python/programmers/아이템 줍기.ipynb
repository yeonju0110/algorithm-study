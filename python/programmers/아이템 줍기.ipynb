{
 "cells": [
  {
   "cell_type": "markdown",
   "id": "9a99bcd6",
   "metadata": {},
   "source": [
    "- 문제: https://school.programmers.co.kr/learn/courses/30/lessons/87694"
   ]
  },
  {
   "cell_type": "markdown",
   "id": "06a36549",
   "metadata": {},
   "source": [
    "방법: bfs이용\n",
    "- 지도 크기를 2배로 늘림 -> 안늘리면 길이 아니여도 1칸 차이가 날 수 있어 경로가 되어버림"
   ]
  },
  {
   "cell_type": "code",
   "execution_count": 17,
   "id": "4c99fccc",
   "metadata": {},
   "outputs": [
    {
     "name": "stdout",
     "output_type": "stream",
     "text": [
      "[-1 -1 -1 -1 -1 -1 -1 -1 -1 -1 -1 -1 -1 -1 -1 -1 -1 -1 -1 -1 -1 -1]\n",
      "[-1 -1 -1 -1 -1 -1 -1 -1 -1 -1 -1 -1 -1 -1 -1 -1 -1 -1 -1 -1 -1 -1]\n",
      "[-1 -1  1  1  1  1  1  1  1 -1 -1 -1 -1 -1 -1 -1 -1 -1 -1 -1 -1 -1]\n",
      "[-1 -1  1  0  0  0  0  0  1 -1 -1 -1 -1 -1 -1 -1 -1 -1 -1 -1 -1 -1]\n",
      "[-1 -1  1  0  0  0  0  0  1 -1 -1 -1  1  1  1  1  1 -1 -1 -1 -1 -1]\n",
      "[-1 -1  1  0  0  0  0  0  1 -1 -1 -1  1  0  0  0  1 -1 -1 -1 -1 -1]\n",
      "[-1 -1  1  0  0  0  0  0  1  1  1 -1  1  0  0  0  1 -1 -1 -1 -1 -1]\n",
      "[-1 -1  1  0  0  0  0  0  0  0  1 -1  1  0  0  0  1 -1 -1 -1 -1 -1]\n",
      "[-1 -1  1  0  0  0  0  0  0  0  1  1  1  0  0  0  1  1  1 -1 -1 -1]\n",
      "[-1 -1  1  0  0  0  0  0  0  0  0  0  0  0  0  0  0  0  1 -1 -1 -1]\n",
      "[-1 -1  1  0  0  0  0  0  0  0  0  0  0  0  0  0  0  0  1 -1 -1 -1]\n",
      "[-1 -1  1  0  0  0  0  0  0  0  0  0  0  0  0  0  0  0  1 -1 -1 -1]\n",
      "[-1 -1  1  0  0  0  0  0  1  1  1  1  1  0  0  0  1  1  1 -1 -1 -1]\n",
      "[-1 -1  1  0  0  0  0  0  1 -1 -1 -1  1  0  0  0  1 -1 -1 -1 -1 -1]\n",
      "[-1 -1  1  1  1  1  1  1  1 -1 -1 -1  1  0  0  0  1 -1 -1 -1 -1 -1]\n",
      "[-1 -1 -1 -1 -1 -1 -1 -1 -1 -1 -1 -1  1  0  0  0  1 -1 -1 -1 -1 -1]\n",
      "[-1 -1 -1 -1 -1 -1 -1 -1 -1 -1 -1 -1  1  1  1  1  1 -1 -1 -1 -1 -1]\n",
      "[-1 -1 -1 -1 -1 -1 -1 -1 -1 -1 -1 -1 -1 -1 -1 -1 -1 -1 -1 -1 -1 -1]\n",
      "[-1 -1 -1 -1 -1 -1 -1 -1 -1 -1 -1 -1 -1 -1 -1 -1 -1 -1 -1 -1 -1 -1]\n",
      "[-1 -1 -1 -1 -1 -1 -1 -1 -1 -1 -1 -1 -1 -1 -1 -1 -1 -1 -1 -1 -1 -1]\n",
      "[-1 -1 -1 -1 -1 -1 -1 -1 -1 -1 -1 -1 -1 -1 -1 -1 -1 -1 -1 -1 -1 -1]\n",
      "[-1 -1 -1 -1 -1 -1 -1 -1 -1 -1 -1 -1 -1 -1 -1 -1 -1 -1 -1 -1 -1 -1]\n"
     ]
    },
    {
     "data": {
      "text/plain": [
       "0"
      ]
     },
     "execution_count": 17,
     "metadata": {},
     "output_type": "execute_result"
    }
   ],
   "source": [
    "import numpy\n",
    "\n",
    "def solution(rectangle, characterX, characterY, itemX, itemY):\n",
    "    answer = 0\n",
    "    graph = [[-1] * 22 for _ in range(22)] \n",
    "    \n",
    "    for r in rectangle:\n",
    "        x1, y1, x2, y2 = map(lambda x: x * 2, r)\n",
    "        for i in range(x1, x2 + 1):\n",
    "            for j in range(y1, y2 + 1):\n",
    "                if x1 < i < x2 and y1 < j < y2:\n",
    "                    graph[i][j] = 0 # 내부\n",
    "                elif graph[i][j] != 0:\n",
    "                    graph[i][j] = 1 # 테두리\n",
    "    \n",
    "    graph = numpy.array(graph)\n",
    "    for g in graph:\n",
    "        print(g)\n",
    "    \n",
    "    return answer\n",
    "\n",
    "solution([[1,1,7,4],[3,2,5,5],[4,3,6,9],[2,6,8,8]], 1, 3, 7, 8)"
   ]
  },
  {
   "cell_type": "code",
   "execution_count": null,
   "id": "b4b92842",
   "metadata": {},
   "outputs": [],
   "source": []
  },
  {
   "cell_type": "code",
   "execution_count": 25,
   "id": "c79a4c31",
   "metadata": {},
   "outputs": [
    {
     "name": "stdout",
     "output_type": "stream",
     "text": [
      "[[ 1  1  1  1  1  1  1  1  1  1  1  1  1  1  1  1  1  1  1  1  1  1]\n",
      " [ 1  1  1  1  1  1  1  1  1  1  1  1  1  1  1  1  1  1  1  1  1  1]\n",
      " [ 1  1  5  4  3  2  3  2  3  1  1  1  1  1  1  1  1  1  1  1  1  1]\n",
      " [ 1  1  6  1  1  1  1  1  4  1  1  1  1  1  1  1  1  1  1  1  1  1]\n",
      " [ 1  1  7  1  1  1  1  1  5  1  1  1 17 18 19 20 21  1  1  1  1  1]\n",
      " [ 1  1  8  1  1  1  1  1  6  1  1  1 16  1  1  1 22  1  1  1  1  1]\n",
      " [ 1  1  9  1  1  1  1  1  7  8  9  1 15  1  1  1 23  1  1  1  1  1]\n",
      " [ 1  1 10  1  1  1  1  1  1  1 10  1 14  1  1  1 24  1  1  1  1  1]\n",
      " [ 1  1 11  1  1  1  1  1  1  1 11 12 13  1  1  1 25 26 27  1  1  1]\n",
      " [ 1  1 12  1  1  1  1  1  1  1  1  1  1  1  1  1  1  1 28  1  1  1]\n",
      " [ 1  1 13  1  1  1  1  1  1  1  1  1  1  1  1  1  1  1 29  1  1  1]\n",
      " [ 1  1 14  1  1  1  1  1  1  1  1  1  1  1  1  1  1  1 30  1  1  1]\n",
      " [ 1  1 15  1  1  1  1  1 25 26 27 28 29  1  1  1 33 32 31  1  1  1]\n",
      " [ 1  1 16  1  1  1  1  1 24  1  1  1 30  1  1  1 34  1  1  1  1  1]\n",
      " [ 1  1 17 18 19 20 21 22 23  1  1  1 31  1  1  1 35  1  1  1  1  1]\n",
      " [ 1  1  1  1  1  1  1  1  1  1  1  1 32  1  1  1  1  1  1  1  1  1]\n",
      " [ 1  1  1  1  1  1  1  1  1  1  1  1 33 34 35 36  1  1  1  1  1  1]\n",
      " [ 1  1  1  1  1  1  1  1  1  1  1  1  1  1  1  1  1  1  1  1  1  1]\n",
      " [ 1  1  1  1  1  1  1  1  1  1  1  1  1  1  1  1  1  1  1  1  1  1]\n",
      " [ 1  1  1  1  1  1  1  1  1  1  1  1  1  1  1  1  1  1  1  1  1  1]\n",
      " [ 1  1  1  1  1  1  1  1  1  1  1  1  1  1  1  1  1  1  1  1  1  1]\n",
      " [ 1  1  1  1  1  1  1  1  1  1  1  1  1  1  1  1  1  1  1  1  1  1]]\n",
      "CPU times: user 1.86 ms, sys: 134 µs, total: 2 ms\n",
      "Wall time: 1.9 ms\n"
     ]
    },
    {
     "data": {
      "text/plain": [
       "17"
      ]
     },
     "execution_count": 25,
     "metadata": {},
     "output_type": "execute_result"
    }
   ],
   "source": [
    "%%time\n",
    "from collections import deque\n",
    "import numpy as np\n",
    "\n",
    "def solution(rectangle, characterX, characterY, itemX, itemY):\n",
    "    answer = 0\n",
    "    graph = [[-1] * 22 for _ in range(22)] # 2배 늘린 지도\n",
    "    \n",
    "    for r in rectangle:\n",
    "        x1, y1, x2, y2 = map(lambda x: x * 2, r)\n",
    "        for i in range(x1, x2 + 1):\n",
    "            for j in range(y1, y2 + 1):\n",
    "                if x1 < i < x2 and y1 < j < y2:\n",
    "                    graph[i][j] = 0\n",
    "                elif graph[i][j] != 0:\n",
    "                    graph[i][j] = 1\n",
    "    \n",
    "    dx = [-1, 1, 0, 0]\n",
    "    dy = [0, 0, -1, 1]\n",
    "    \n",
    "    queue = deque()\n",
    "    queue.append([characterX * 2, characterY * 2])\n",
    "    visited = [[1] * 22 for i in range(22)]\n",
    "    \n",
    "    while queue:\n",
    "        x, y = queue.popleft()\n",
    "         # 아이템이 있는 장소 도착\n",
    "        if x == itemX * 2 and y == itemY * 2:\n",
    "            answer = visited[x][y] // 2\n",
    "            break\n",
    "        # 아니라면 네 방향 확인\n",
    "        for k in range(4):\n",
    "            nx = x + dx[k]\n",
    "            ny = y + dy[k]\n",
    "            # 현재 좌표가 테두리 and 아직 방문하지 않은 곳 => queue에 추가 + visited 최단거리로 갱신\n",
    "            if graph[nx][ny] == 1 and visited[nx][ny] == 1:\n",
    "                queue.append([nx, ny])\n",
    "                visited[nx][ny] = visited[x][y] + 1\n",
    "    \n",
    "    np.set_printoptions(threshold=np.inf, linewidth=np.inf) #inf = infinity \n",
    "    visited = numpy.array(visited)\n",
    "    print(visited)\n",
    "    \n",
    "    return answer\n",
    "\n",
    "solution([[1,1,7,4],[3,2,5,5],[4,3,6,9],[2,6,8,8]], 1, 3, 7, 8)"
   ]
  },
  {
   "cell_type": "code",
   "execution_count": 26,
   "id": "cc95763a",
   "metadata": {},
   "outputs": [
    {
     "name": "stdout",
     "output_type": "stream",
     "text": [
      "CPU times: user 488 µs, sys: 1 µs, total: 489 µs\n",
      "Wall time: 494 µs\n"
     ]
    },
    {
     "data": {
      "text/plain": [
       "17"
      ]
     },
     "execution_count": 26,
     "metadata": {},
     "output_type": "execute_result"
    }
   ],
   "source": [
    "%%time\n",
    "from collections import deque\n",
    "\n",
    "def solution(rectangle, characterX, characterY, itemX, itemY):\n",
    "    answer = 0\n",
    "    graph = [[-1] * 102 for _ in range(102)] # 2배 늘린 지도\n",
    "    \n",
    "    for r in rectangle:\n",
    "        x1, y1, x2, y2 = map(lambda x: x * 2, r)\n",
    "        for i in range(x1, x2 + 1):\n",
    "            for j in range(y1, y2 + 1):\n",
    "                if x1 < i < x2 and y1 < j < y2:\n",
    "                    graph[i][j] = 0\n",
    "                elif graph[i][j] != 0:\n",
    "                    graph[i][j] = 1\n",
    "    \n",
    "    dx = [-1, 1, 0, 0]\n",
    "    dy = [0, 0, -1, 1]\n",
    "    \n",
    "    queue = deque()\n",
    "    queue.append([characterX * 2, characterY * 2])\n",
    "    visited = [[1] * 102 for i in range(102)]\n",
    "    \n",
    "    while queue:\n",
    "        x, y = queue.popleft()\n",
    "         # 아이템이 있는 장소 도착\n",
    "        if x == itemX * 2 and y == itemY * 2:\n",
    "            answer = visited[x][y] // 2\n",
    "            break\n",
    "        # 아니라면 네 방향 확인\n",
    "        for k in range(4):\n",
    "            nx = x + dx[k]\n",
    "            ny = y + dy[k]\n",
    "            # 현재 좌표가 테두리 and 아직 방문하지 않은 곳 => queue에 추가 + visited 최단거리로 갱신\n",
    "            if graph[nx][ny] == 1 and visited[nx][ny] == 1:\n",
    "                queue.append([nx, ny])\n",
    "                visited[nx][ny] = visited[x][y] + 1\n",
    "    \n",
    "    return answer\n",
    "\n",
    "solution([[1,1,7,4],[3,2,5,5],[4,3,6,9],[2,6,8,8]], 1, 3, 7, 8)"
   ]
  },
  {
   "cell_type": "code",
   "execution_count": null,
   "id": "2c958fee",
   "metadata": {},
   "outputs": [],
   "source": []
  }
 ],
 "metadata": {
  "kernelspec": {
   "display_name": "Python 3 (ipykernel)",
   "language": "python",
   "name": "python3"
  },
  "language_info": {
   "codemirror_mode": {
    "name": "ipython",
    "version": 3
   },
   "file_extension": ".py",
   "mimetype": "text/x-python",
   "name": "python",
   "nbconvert_exporter": "python",
   "pygments_lexer": "ipython3",
   "version": "3.9.7"
  }
 },
 "nbformat": 4,
 "nbformat_minor": 5
}
