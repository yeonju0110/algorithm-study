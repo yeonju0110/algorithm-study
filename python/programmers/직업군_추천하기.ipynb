{
 "cells": [
  {
   "cell_type": "code",
   "execution_count": 1,
   "id": "06212c65",
   "metadata": {},
   "outputs": [
    {
     "data": {
      "text/plain": [
       "'PORTAL'"
      ]
     },
     "execution_count": 1,
     "metadata": {},
     "output_type": "execute_result"
    }
   ],
   "source": [
    "from collections import defaultdict\n",
    "\n",
    "def solution(table, languages, preference):\n",
    "    dic = defaultdict(int) # {'SI': 55, 'CONTENTS': 53, ..}\n",
    "    \n",
    "    for t in table:\n",
    "        a = t.split()\n",
    "        for i in range(1, 6): # 0번째는 직업군명이므로 idx=1~5까지 순회\n",
    "            if a[i] in languages: # languages에 포함되어 있는 언어만 점수 계산\n",
    "                idx = languages.index(a[i]) # 해당 언어의 preference를 얻기 위한 변수\n",
    "                dic[a[0]] += ((5-i+1) * preference[idx]) # 직업군 언어점수 * 선호도\n",
    "    \n",
    "    d = sorted(dic.items(), key=lambda x: (-x[1], x)) # 1. 점수로 내림차순 2. 사전 오름차순\n",
    "    \n",
    "    return d[0][0]\n",
    "\n",
    "# solution([\"SI JAVA JAVASCRIPT SQL PYTHON C#\", \"CONTENTS JAVASCRIPT JAVA PYTHON SQL C++\", \"HARDWARE C C++ PYTHON JAVA JAVASCRIPT\", \"PORTAL JAVA JAVASCRIPT PYTHON KOTLIN PHP\", \"GAME C++ C# JAVASCRIPT C JAVA\"], [\"PYTHON\", \"C++\", \"SQL\"], [7, 5, 5]) # \"HARDWARE\"\n",
    "solution([\"SI JAVA JAVASCRIPT SQL PYTHON C#\", \"CONTENTS JAVASCRIPT JAVA PYTHON SQL C++\", \"HARDWARE C C++ PYTHON JAVA JAVASCRIPT\", \"PORTAL JAVA JAVASCRIPT PYTHON KOTLIN PHP\", \"GAME C++ C# JAVASCRIPT C JAVA\"], [\"JAVA\", \"JAVASCRIPT\"], [7, 5]) # PORTAL"
   ]
  },
  {
   "cell_type": "code",
   "execution_count": null,
   "id": "e995c711",
   "metadata": {},
   "outputs": [],
   "source": []
  }
 ],
 "metadata": {
  "kernelspec": {
   "display_name": "Python 3 (ipykernel)",
   "language": "python",
   "name": "python3"
  },
  "language_info": {
   "codemirror_mode": {
    "name": "ipython",
    "version": 3
   },
   "file_extension": ".py",
   "mimetype": "text/x-python",
   "name": "python",
   "nbconvert_exporter": "python",
   "pygments_lexer": "ipython3",
   "version": "3.9.7"
  }
 },
 "nbformat": 4,
 "nbformat_minor": 5
}
