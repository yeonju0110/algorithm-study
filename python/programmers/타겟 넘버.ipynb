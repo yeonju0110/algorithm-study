{
 "cells": [
  {
   "cell_type": "markdown",
   "id": "2763a087",
   "metadata": {},
   "source": [
    "- 문제: https://school.programmers.co.kr/learn/courses/30/lessons/43165"
   ]
  },
  {
   "cell_type": "markdown",
   "id": "21073310",
   "metadata": {},
   "source": [
    "- dfs 이용"
   ]
  },
  {
   "cell_type": "code",
   "execution_count": 1,
   "id": "73dddb60",
   "metadata": {},
   "outputs": [
    {
     "name": "stdout",
     "output_type": "stream",
     "text": [
      "7.44 µs ± 82.5 ns per loop (mean ± std. dev. of 7 runs, 100000 loops each)\n"
     ]
    }
   ],
   "source": [
    "%%timeit\n",
    "def solution(numbers, target):\n",
    "    answer = 0\n",
    "    queue = [[numbers[0], 0], [-1*numbers[0],0]]\n",
    "    n = len(numbers)\n",
    "    while queue:\n",
    "        temp, idx = queue.pop()\n",
    "        idx += 1\n",
    "        if idx < n:\n",
    "            queue.append([temp+numbers[idx], idx])\n",
    "            queue.append([temp-numbers[idx], idx])\n",
    "        else:\n",
    "            if temp == target:\n",
    "                answer += 1\n",
    "    return answer\n",
    "\n",
    "solution([4, 1, 2, 1], 4)"
   ]
  },
  {
   "cell_type": "code",
   "execution_count": 2,
   "id": "4a130bcc",
   "metadata": {},
   "outputs": [
    {
     "name": "stdout",
     "output_type": "stream",
     "text": [
      "5.42 µs ± 79.8 ns per loop (mean ± std. dev. of 7 runs, 100000 loops each)\n"
     ]
    }
   ],
   "source": [
    "%%timeit\n",
    "def solution(numbers, target):\n",
    "    n = len(numbers)\n",
    "    answer = 0\n",
    "    \n",
    "    def dfs(value, depth):\n",
    "        nonlocal answer\n",
    "        \n",
    "        if depth == n:\n",
    "            if value == target:\n",
    "                answer += 1\n",
    "            return\n",
    "        \n",
    "        now = numbers[depth]\n",
    "        dfs(value + now, depth + 1)\n",
    "        dfs(value - now, depth + 1)\n",
    "    \n",
    "    dfs(0, 0)\n",
    "    \n",
    "    return answer\n",
    "\n",
    "solution([4, 1, 2, 1], 4)"
   ]
  },
  {
   "cell_type": "code",
   "execution_count": null,
   "id": "e862aaa8",
   "metadata": {},
   "outputs": [],
   "source": []
  }
 ],
 "metadata": {
  "kernelspec": {
   "display_name": "Python 3 (ipykernel)",
   "language": "python",
   "name": "python3"
  },
  "language_info": {
   "codemirror_mode": {
    "name": "ipython",
    "version": 3
   },
   "file_extension": ".py",
   "mimetype": "text/x-python",
   "name": "python",
   "nbconvert_exporter": "python",
   "pygments_lexer": "ipython3",
   "version": "3.9.7"
  }
 },
 "nbformat": 4,
 "nbformat_minor": 5
}
