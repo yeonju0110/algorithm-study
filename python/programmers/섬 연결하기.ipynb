{
 "cells": [
  {
   "cell_type": "markdown",
   "id": "1fd986de",
   "metadata": {},
   "source": [
    "- 문제: https://school.programmers.co.kr/learn/courses/30/lessons/42861"
   ]
  },
  {
   "cell_type": "markdown",
   "id": "ed3f1f81",
   "metadata": {},
   "source": [
    "방법: 크루스칼 알고리즘 이용"
   ]
  },
  {
   "cell_type": "code",
   "execution_count": 1,
   "id": "e7b279ec",
   "metadata": {},
   "outputs": [
    {
     "name": "stdout",
     "output_type": "stream",
     "text": [
      "CPU times: user 124 µs, sys: 92 µs, total: 216 µs\n",
      "Wall time: 141 µs\n"
     ]
    },
    {
     "data": {
      "text/plain": [
       "4"
      ]
     },
     "execution_count": 1,
     "metadata": {},
     "output_type": "execute_result"
    }
   ],
   "source": [
    "%%time\n",
    "def find(parent, x): \n",
    "    if parent[x] != x:\n",
    "        return find(parent, parent[x])\n",
    "    return parent[x]\n",
    "\n",
    "def union(parent, a, b):\n",
    "    a = find(parent, a)\n",
    "    b = find(parent, b)\n",
    "    if a < b:\n",
    "        parent[b] = a\n",
    "    else:\n",
    "        parent[a] = b\n",
    "\n",
    "def solution(n, costs):\n",
    "    parent = [i for i in range(n)] # 부모 테이블을 자기 자신으로 초기화\n",
    "    edges = []\n",
    "    result = 0\n",
    "    \n",
    "    for cost in costs:\n",
    "        a, b, c = cost\n",
    "        edges.append((c, a, b)) # 비용순으로 정렬하기 위해, 튜플의 첫 원소를 비용으로 설정\n",
    "        \n",
    "    edges.sort() # 간선을 비용순으로 정렬\n",
    "    \n",
    "    for edge in edges:\n",
    "        cost, a, b = edge\n",
    "        if find(parent, a) != find(parent, b):\n",
    "            union(parent, a, b)\n",
    "            result += cost\n",
    "        \n",
    "    return result\n",
    "\n",
    "solution(4, [[0,1,1],[0,2,2],[1,2,5],[1,3,1],[2,3,8]])"
   ]
  },
  {
   "cell_type": "code",
   "execution_count": null,
   "id": "2ab5fa9c",
   "metadata": {},
   "outputs": [],
   "source": []
  }
 ],
 "metadata": {
  "kernelspec": {
   "display_name": "Python 3 (ipykernel)",
   "language": "python",
   "name": "python3"
  },
  "language_info": {
   "codemirror_mode": {
    "name": "ipython",
    "version": 3
   },
   "file_extension": ".py",
   "mimetype": "text/x-python",
   "name": "python",
   "nbconvert_exporter": "python",
   "pygments_lexer": "ipython3",
   "version": "3.9.7"
  }
 },
 "nbformat": 4,
 "nbformat_minor": 5
}
