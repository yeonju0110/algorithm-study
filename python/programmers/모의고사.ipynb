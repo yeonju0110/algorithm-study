{
 "cells": [
  {
   "cell_type": "markdown",
   "id": "d24b8d8b",
   "metadata": {},
   "source": [
    "- 문제: https://school.programmers.co.kr/learn/courses/30/lessons/42840"
   ]
  },
  {
   "cell_type": "code",
   "execution_count": 33,
   "id": "711b2f22",
   "metadata": {},
   "outputs": [
    {
     "name": "stdout",
     "output_type": "stream",
     "text": [
      "CPU times: user 51 µs, sys: 1 µs, total: 52 µs\n",
      "Wall time: 56 µs\n"
     ]
    },
    {
     "data": {
      "text/plain": [
       "[1, 2, 3]"
      ]
     },
     "execution_count": 33,
     "metadata": {},
     "output_type": "execute_result"
    }
   ],
   "source": [
    "%%time\n",
    "from itertools import cycle\n",
    "\n",
    "def solution(arr):\n",
    "    answer = []\n",
    "    stu1 = [1, 2, 3, 4, 5]\n",
    "    stu2 = [2, 1, 2, 3, 2, 4, 2, 5]\n",
    "    stu3 = [3, 3, 1, 1, 2, 2, 4, 4, 5, 5]\n",
    "    cnt = [0, 0, 0]\n",
    "\n",
    "    for a, s1, s2, s3 in zip(arr, cycle(stu1), cycle(stu2), cycle(stu3)):\n",
    "        if a == s1:\n",
    "            cnt[0] += 1\n",
    "        if a == s2:\n",
    "            cnt[1] += 1\n",
    "        if a == s3:\n",
    "            cnt[2] += 1\n",
    "\n",
    "    max_x = max(cnt)\n",
    "    for i, value in enumerate(cnt):\n",
    "        if value == max_x:\n",
    "            answer.append(i+1)\n",
    "    \n",
    "    return answer\n",
    "\n",
    "solution([1,2,3,4,5])\n",
    "solution([1,3,2,4,2])"
   ]
  },
  {
   "cell_type": "code",
   "execution_count": null,
   "id": "c07485a5",
   "metadata": {},
   "outputs": [],
   "source": []
  }
 ],
 "metadata": {
  "kernelspec": {
   "display_name": "Python 3 (ipykernel)",
   "language": "python",
   "name": "python3"
  },
  "language_info": {
   "codemirror_mode": {
    "name": "ipython",
    "version": 3
   },
   "file_extension": ".py",
   "mimetype": "text/x-python",
   "name": "python",
   "nbconvert_exporter": "python",
   "pygments_lexer": "ipython3",
   "version": "3.9.7"
  }
 },
 "nbformat": 4,
 "nbformat_minor": 5
}
