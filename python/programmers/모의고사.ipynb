{
 "cells": [
  {
   "cell_type": "markdown",
   "id": "d24b8d8b",
   "metadata": {},
   "source": [
    "- 문제: https://school.programmers.co.kr/learn/courses/30/lessons/42840"
   ]
  },
  {
   "cell_type": "markdown",
   "id": "ac506c8e",
   "metadata": {},
   "source": [
    "## 풀이 1"
   ]
  },
  {
   "cell_type": "code",
   "execution_count": 6,
   "id": "711b2f22",
   "metadata": {},
   "outputs": [
    {
     "name": "stdout",
     "output_type": "stream",
     "text": [
      "6.74 µs ± 672 ns per loop (mean ± std. dev. of 7 runs, 100000 loops each)\n"
     ]
    }
   ],
   "source": [
    "%%timeit\n",
    "from itertools import cycle\n",
    "\n",
    "def solution(answers):\n",
    "    top_scorers = []  # 최고 점수를 받은 참가자 목록\n",
    "    \n",
    "    # 각 참가자의 답안 패턴\n",
    "    first_pattern = [1, 2, 3, 4, 5]\n",
    "    second_pattern = [2, 1, 2, 3, 2, 4, 2, 5]\n",
    "    third_pattern = [3, 3, 1, 1, 2, 2, 4, 4, 5, 5]\n",
    "    \n",
    "    # 각 참가자의 점수를 초기화\n",
    "    scores = [0, 0, 0]\n",
    "    \n",
    "    # 정답과 각 참가자의 답안을 비교\n",
    "    for correct, first, second, third in zip(answers, cycle(first_pattern), cycle(second_pattern), cycle(third_pattern)):\n",
    "        if correct == first:\n",
    "            scores[0] += 1\n",
    "        \n",
    "        if correct == second:\n",
    "            scores[1] += 1\n",
    "            \n",
    "        if correct == third:\n",
    "            scores[2] += 1\n",
    "        \n",
    "    # 가장 높은 점수를 찾음\n",
    "    highest_score = max(scores)\n",
    "    \n",
    "    # 가장 높은 점수와 동일한 점수를 가진 참가자를 찾아 목록에 추가\n",
    "    for participant_index, score in enumerate(scores):\n",
    "        if score == highest_score:\n",
    "            top_scorers.append(participant_index + 1)\n",
    "    \n",
    "    # 참가자 번호 순으로 정렬\n",
    "    top_scorers.sort()\n",
    "    \n",
    "    return top_scorers\n",
    "\n",
    "\n",
    "solution([1,2,3,4,5])\n",
    "solution([1,3,2,4,2])"
   ]
  },
  {
   "cell_type": "markdown",
   "id": "e10a1d58",
   "metadata": {},
   "source": [
    "## 풀이 2: 리팩토링"
   ]
  },
  {
   "cell_type": "code",
   "execution_count": 2,
   "id": "6e471f00",
   "metadata": {},
   "outputs": [
    {
     "name": "stdout",
     "output_type": "stream",
     "text": [
      "11.5 µs ± 2.54 µs per loop (mean ± std. dev. of 7 runs, 100000 loops each)\n"
     ]
    }
   ],
   "source": [
    "%%timeit\n",
    "\n",
    "from collections import defaultdict\n",
    "from itertools import cycle\n",
    "\n",
    "def solution(answers):\n",
    "    # 각 참가자의 답안 패턴\n",
    "    patterns = {\n",
    "        1: [1, 2, 3, 4, 5],\n",
    "        2: [2, 1, 2, 3, 2, 4, 2, 5],\n",
    "        3: [3, 3, 1, 1, 2, 2, 4, 4, 5, 5]\n",
    "    }\n",
    "    \n",
    "    participants = defaultdict(int)\n",
    "    \n",
    "    for participant, pattern in patterns.items():\n",
    "        for p, answer in zip(cycle(pattern), answers):\n",
    "            if p == answer:\n",
    "                participants[participant] += 1\n",
    "    \n",
    "    highest_score = max(participants.values())\n",
    "    \n",
    "    top_scorers = []\n",
    "    for participant, score in participants.items():\n",
    "        if score == highest_score:\n",
    "            top_scorers.append(participant)\n",
    "    \n",
    "    top_scorers.sort()\n",
    "    \n",
    "    return top_scorers\n",
    "\n",
    "solution([1,2,3,4,5])\n",
    "solution([1,3,2,4,2])"
   ]
  },
  {
   "cell_type": "markdown",
   "id": "10311ace",
   "metadata": {},
   "source": [
    "## 풀이 3: 공간복잡도 개선\n",
    "주요 개선 사항은 각 참가자의 패턴을 늘리는 대신 정답 리스트를 순회하면서 패턴의 인덱스를 사용하여 정답을 비교하는 방식입니다. 이렇게 하면 각 참가자의 패턴을 실제 정답 리스트의 길이만큼 확장하지 않아도 됩니다. 정답 리스트의 길이가 매우 클 경우, 이 접근 방식은 메모리 사용량을 줄이고, 불필요한 반복을 피함으로써 약간의 성능 향상을 가져올 수 있습니다."
   ]
  },
  {
   "cell_type": "code",
   "execution_count": 5,
   "id": "d5a566cf",
   "metadata": {},
   "outputs": [
    {
     "name": "stdout",
     "output_type": "stream",
     "text": [
      "9.59 µs ± 142 ns per loop (mean ± std. dev. of 7 runs, 100000 loops each)\n"
     ]
    }
   ],
   "source": [
    "%%timeit\n",
    "\n",
    "def solution(answer):\n",
    "    patterns = {\n",
    "        1: [1, 2, 3, 4, 5],\n",
    "        2: [2, 1, 2, 3, 2, 4, 2, 5],\n",
    "        3: [3, 3, 1, 1, 2, 2, 4, 4, 5, 5]\n",
    "    }\n",
    "    \n",
    "    scores = {participant: 0 for participant in patterns}  # 참가자의 점수를 초기화\n",
    "\n",
    "    for i, correct_answer in enumerate(answer):\n",
    "        for participant, pattern in patterns.items():\n",
    "            # 패턴의 현재 위치를 정답 리스트의 길이로 나눈 나머지를 사용하여 비교\n",
    "            if pattern[i % len(pattern)] == correct_answer:\n",
    "                scores[participant] += 1\n",
    "\n",
    "    highest_score = max(scores.values())\n",
    "    top_scorers = [participant for participant, score in scores.items() if score == highest_score]\n",
    "\n",
    "    return top_scorers\n",
    "\n",
    "solution([1,2,3,4,5])\n",
    "solution([1,3,2,4,2])"
   ]
  },
  {
   "cell_type": "code",
   "execution_count": null,
   "id": "899bf0d0",
   "metadata": {},
   "outputs": [],
   "source": []
  }
 ],
 "metadata": {
  "kernelspec": {
   "display_name": "Python 3 (ipykernel)",
   "language": "python",
   "name": "python3"
  },
  "language_info": {
   "codemirror_mode": {
    "name": "ipython",
    "version": 3
   },
   "file_extension": ".py",
   "mimetype": "text/x-python",
   "name": "python",
   "nbconvert_exporter": "python",
   "pygments_lexer": "ipython3",
   "version": "3.9.7"
  }
 },
 "nbformat": 4,
 "nbformat_minor": 5
}
