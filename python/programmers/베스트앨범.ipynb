{
 "cells": [
  {
   "cell_type": "markdown",
   "id": "aff51bf3",
   "metadata": {},
   "source": [
    "- 문제: https://school.programmers.co.kr/learn/courses/30/lessons/42579"
   ]
  },
  {
   "cell_type": "markdown",
   "id": "480c69e0",
   "metadata": {},
   "source": [
    "### 아래의 테스트 케이스를 추가함으로써 오류의 원인을 찾을 수 있었다..!\n",
    "\n",
    "solution([\"classic\", \"pop\", \"classic\", \"classic\"], [800, 600, 150, 800])"
   ]
  },
  {
   "cell_type": "markdown",
   "id": "8276cab4",
   "metadata": {},
   "source": [
    "### 📑 lambda로 정렬하는 방법\n",
    "\n",
    "#### 🧷 비교할 아이템의 요소가 복수 개일 경우, 튜플로 그 순서를 내보내주면 된다.\n",
    "sorted(e, key = lambda x : (x[0], -x[1]))\n",
    "#### 🧷 딕셔너리에서 value값을 기준으로 정렬\n",
    "sorted(answer, key=lambda x:answer[x])"
   ]
  },
  {
   "cell_type": "code",
   "execution_count": 73,
   "id": "fe11e1f1",
   "metadata": {},
   "outputs": [
    {
     "name": "stdout",
     "output_type": "stream",
     "text": [
      "defaultdict(<class 'int'>, {'classic': 1100, 'pop': 3100})\n",
      "defaultdict(<class 'int'>, {'classic': 1750, 'pop': 600})\n",
      "CPU times: user 192 µs, sys: 77 µs, total: 269 µs\n",
      "Wall time: 236 µs\n"
     ]
    },
    {
     "data": {
      "text/plain": [
       "[0, 3, 1]"
      ]
     },
     "execution_count": 73,
     "metadata": {},
     "output_type": "execute_result"
    }
   ],
   "source": [
    "%%time\n",
    "from collections import defaultdict\n",
    "\n",
    "def solution(genres, plays):\n",
    "    \n",
    "    tmp = []\n",
    "    for i,v in enumerate(genres):\n",
    "        tmp.append([i, v, plays[i]])\n",
    "    tmp = sorted(tmp, key=lambda x: (-x[2], x[0]))\n",
    "    \n",
    "    g_dic = defaultdict(int) # 장르별 재생횟수 기록하는 딕셔너리\n",
    "    for i, g in enumerate(genres):\n",
    "        g_dic[g] += plays[i] # 장르별 재생횟수 누적\n",
    "        \n",
    "    g_dic = sorted(g_dic, key = lambda x: g_dic[x], reverse=True) # 재생횟수에 따른 genres명 정렬\n",
    "    \n",
    "    li = defaultdict(list)\n",
    "    for g in g_dic: # 재생횟수가 많은 장르부터 순회\n",
    "        for i, v, p in tmp:\n",
    "            if v == g and len(li[g]) < 2: # 최대 2개까지 삽입\n",
    "                li[g].append(i)\n",
    "                \n",
    "    return sum(li.values(),[])\n",
    "\n",
    "solution([\"classic\", \"pop\", \"classic\", \"classic\", \"pop\"], [150, 600, 150, 800, 2500])\n",
    "solution([\"classic\", \"pop\", \"classic\", \"classic\"], [800, 600, 150, 800])"
   ]
  },
  {
   "cell_type": "code",
   "execution_count": null,
   "id": "70d56d50",
   "metadata": {},
   "outputs": [],
   "source": []
  }
 ],
 "metadata": {
  "kernelspec": {
   "display_name": "Python 3 (ipykernel)",
   "language": "python",
   "name": "python3"
  },
  "language_info": {
   "codemirror_mode": {
    "name": "ipython",
    "version": 3
   },
   "file_extension": ".py",
   "mimetype": "text/x-python",
   "name": "python",
   "nbconvert_exporter": "python",
   "pygments_lexer": "ipython3",
   "version": "3.9.7"
  }
 },
 "nbformat": 4,
 "nbformat_minor": 5
}
