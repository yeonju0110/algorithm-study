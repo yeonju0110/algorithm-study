{
 "cells": [
  {
   "cell_type": "markdown",
   "id": "392959ed",
   "metadata": {},
   "source": [
    "- 문제: https://school.programmers.co.kr/learn/courses/30/lessons/43164"
   ]
  },
  {
   "cell_type": "code",
   "execution_count": 6,
   "id": "ab3fded5",
   "metadata": {},
   "outputs": [
    {
     "data": {
      "text/plain": [
       "['ICN', 'JFK', 'HND', 'IAD']"
      ]
     },
     "execution_count": 6,
     "metadata": {},
     "output_type": "execute_result"
    }
   ],
   "source": [
    "%%time\n",
    "from collections import defaultdict\n",
    "\n",
    "def solution(tickets):\n",
    "    \n",
    "    # 1. 그래프 생성 {시작점: [도착점리스트]}\n",
    "    graph = defaultdict(list)\n",
    "    for s, e in tickets:\n",
    "        graph[s].append(e)\n",
    "    \n",
    "    # 2. 도착점 리스트 역순 정렬\n",
    "    for airport in graph.keys():\n",
    "        graph[airport].sort(reverse=True)\n",
    "        \n",
    "    # 3. 출발지는 항상 ICN -> 스택에 먼저 넣어두기\n",
    "    stack = ['ICN']\n",
    "    path = []\n",
    "    \n",
    "    # 4. DFS, 모든 노드 순회\n",
    "    while stack:\n",
    "        top = stack.pop()\n",
    "        \n",
    "        if top not in graph or not graph[top]:\n",
    "            path.append(top)\n",
    "        else:\n",
    "            stack.append(top)\n",
    "            stack.append(graph[top].pop())\n",
    "    \n",
    "    \n",
    "    return path[::-1]\n",
    "\n",
    "solution([[\"ICN\", \"JFK\"], [\"HND\", \"IAD\"], [\"JFK\", \"HND\"]])"
   ]
  },
  {
   "cell_type": "markdown",
   "id": "1f33e54e",
   "metadata": {},
   "source": [
    "방법: dfs 이용"
   ]
  },
  {
   "cell_type": "code",
   "execution_count": null,
   "id": "1d0f1d7e",
   "metadata": {},
   "outputs": [],
   "source": []
  }
 ],
 "metadata": {
  "kernelspec": {
   "display_name": "Python 3 (ipykernel)",
   "language": "python",
   "name": "python3"
  },
  "language_info": {
   "codemirror_mode": {
    "name": "ipython",
    "version": 3
   },
   "file_extension": ".py",
   "mimetype": "text/x-python",
   "name": "python",
   "nbconvert_exporter": "python",
   "pygments_lexer": "ipython3",
   "version": "3.9.7"
  }
 },
 "nbformat": 4,
 "nbformat_minor": 5
}
