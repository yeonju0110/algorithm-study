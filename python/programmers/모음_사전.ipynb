{
 "cells": [
  {
   "cell_type": "markdown",
   "id": "1909a5a8",
   "metadata": {},
   "source": [
    "- 문제: https://school.programmers.co.kr/learn/courses/30/lessons/84512"
   ]
  },
  {
   "cell_type": "code",
   "execution_count": 66,
   "id": "d1162e5c",
   "metadata": {},
   "outputs": [
    {
     "name": "stdout",
     "output_type": "stream",
     "text": [
      "CPU times: user 1.3 ms, sys: 7 µs, total: 1.31 ms\n",
      "Wall time: 1.31 ms\n"
     ]
    },
    {
     "data": {
      "text/plain": [
       "1189"
      ]
     },
     "execution_count": 66,
     "metadata": {},
     "output_type": "execute_result"
    }
   ],
   "source": [
    "%%time\n",
    "from itertools import product\n",
    "\n",
    "def solution(word):\n",
    "    alp = ['A', 'E', 'I', 'O', 'U']\n",
    "    answer = 0\n",
    "    all_word = []\n",
    "    \n",
    "    for i in range(1, 6):\n",
    "        arrs = list(product(alp, repeat=i))\n",
    "        for arr in arrs:\n",
    "            all_word.append(''.join(arr))\n",
    "        \n",
    "    all_word.sort()\n",
    "    answer = all_word.index(word) + 1\n",
    "    \n",
    "    return answer\n",
    "\n",
    "solution('EIO')"
   ]
  },
  {
   "cell_type": "code",
   "execution_count": null,
   "id": "a4e64f34",
   "metadata": {},
   "outputs": [],
   "source": []
  }
 ],
 "metadata": {
  "kernelspec": {
   "display_name": "Python 3 (ipykernel)",
   "language": "python",
   "name": "python3"
  },
  "language_info": {
   "codemirror_mode": {
    "name": "ipython",
    "version": 3
   },
   "file_extension": ".py",
   "mimetype": "text/x-python",
   "name": "python",
   "nbconvert_exporter": "python",
   "pygments_lexer": "ipython3",
   "version": "3.9.7"
  }
 },
 "nbformat": 4,
 "nbformat_minor": 5
}
