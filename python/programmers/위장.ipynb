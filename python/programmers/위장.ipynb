{
 "cells": [
  {
   "cell_type": "markdown",
   "id": "92ab1c09",
   "metadata": {},
   "source": [
    "- 문제: https://school.programmers.co.kr/learn/courses/30/lessons/42578"
   ]
  },
  {
   "cell_type": "markdown",
   "id": "6d0c5fe4",
   "metadata": {},
   "source": [
    "#### 🧷 경우의 수 이용\n",
    "\n",
    "'headgear' : ['yellow_hat', 'green_turban']\n",
    "\n",
    "'eyewear' : ['blue_sunglasses']\n",
    "\n",
    "경우의 수로 생각해보자.\n",
    "\n",
    "1. headgear를 1) 쓰지 않을 경우 2) yellow를 쓸 경우 3) green을 쓸 경우\n",
    "2. eyewear를 1) 쓰지 않을 경우 2) blue를 쓸 경우\n",
    "\n",
    "즉, (2 + 1) * (1 + 1) 가 전체 경우의 수가 된다. (*종류 + 쓰지않을경우)\n",
    "\n",
    "그러나, 하루에 최소 한 개의 의상은 입으므로 둘다 착용하지 않는 경우 1가지만 빼주면 된다.\n",
    "\n",
    "따라서, (2 + 1) * (1 + 1) - 1 = 3 * 2 - 1 = 5가 된다."
   ]
  },
  {
   "cell_type": "code",
   "execution_count": 5,
   "id": "bd98e8f2",
   "metadata": {},
   "outputs": [
    {
     "name": "stdout",
     "output_type": "stream",
     "text": [
      "CPU times: user 41 µs, sys: 1 µs, total: 42 µs\n",
      "Wall time: 45.1 µs\n"
     ]
    },
    {
     "data": {
      "text/plain": [
       "3"
      ]
     },
     "execution_count": 5,
     "metadata": {},
     "output_type": "execute_result"
    }
   ],
   "source": [
    "%%time\n",
    "from collections import defaultdict\n",
    "\n",
    "def solution(clothes):\n",
    "    answer = 1\n",
    "    \n",
    "    d = defaultdict(int)\n",
    "    \n",
    "    for n, c in clothes:\n",
    "        d[c] += 1\n",
    "\n",
    "    for i in list(d.values()):\n",
    "        answer *= (i + 1)\n",
    "        \n",
    "    return answer - 1\n",
    "\n",
    "# solution([[\"yellow_hat\", \"headgear\"], [\"blue_sunglasses\", \"eyewear\"], [\"green_turban\", \"headgear\"]])\n",
    "solution([[\"crow_mask\", \"face\"], [\"blue_sunglasses\", \"face\"], [\"smoky_makeup\", \"face\"]])"
   ]
  }
 ],
 "metadata": {
  "kernelspec": {
   "display_name": "Python 3 (ipykernel)",
   "language": "python",
   "name": "python3"
  },
  "language_info": {
   "codemirror_mode": {
    "name": "ipython",
    "version": 3
   },
   "file_extension": ".py",
   "mimetype": "text/x-python",
   "name": "python",
   "nbconvert_exporter": "python",
   "pygments_lexer": "ipython3",
   "version": "3.9.7"
  }
 },
 "nbformat": 4,
 "nbformat_minor": 5
}
