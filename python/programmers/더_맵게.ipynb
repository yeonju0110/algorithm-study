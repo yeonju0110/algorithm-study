{
 "cells": [
  {
   "cell_type": "markdown",
   "id": "68644eea",
   "metadata": {},
   "source": [
    "- 문제: https://school.programmers.co.kr/learn/courses/30/lessons/42626"
   ]
  },
  {
   "cell_type": "markdown",
   "id": "c3861316",
   "metadata": {},
   "source": [
    "### 효율성 테스트 실패 코드"
   ]
  },
  {
   "cell_type": "code",
   "execution_count": 39,
   "id": "4f97569e",
   "metadata": {},
   "outputs": [
    {
     "name": "stdout",
     "output_type": "stream",
     "text": [
      "CPU times: user 29 µs, sys: 1e+03 ns, total: 30 µs\n",
      "Wall time: 34.1 µs\n"
     ]
    },
    {
     "data": {
      "text/plain": [
       "2"
      ]
     },
     "execution_count": 39,
     "metadata": {},
     "output_type": "execute_result"
    }
   ],
   "source": [
    "%%time\n",
    "# 효율성 테스트 실패\n",
    "def solution(scoville, K):\n",
    "    res = 0\n",
    "    \n",
    "    # 오름차순 정렬\n",
    "    scoville.sort()\n",
    "    \n",
    "    while scoville[0] < K:\n",
    "        if len(scoville) < 2:\n",
    "            return -1\n",
    "        \n",
    "        res += 1\n",
    "        scoville[0] = scoville[0] + (scoville[1] * 2)\n",
    "        scoville = [scoville[0]] + scoville[2:]\n",
    "        scoville.sort()\n",
    "    \n",
    "    return res\n",
    "\n",
    "# solution([1, 2, 3, 9, 10, 12], 7)\n",
    "solution([1, 2, 3], 7)\n",
    "# solution([7], 7)"
   ]
  },
  {
   "cell_type": "markdown",
   "id": "d6e31889",
   "metadata": {},
   "source": [
    "성찰: 매번 정렬을 수행하는게 좋지 못하다 생각했지만, 우선순위 큐를 잠깐 잊고 있었다.."
   ]
  },
  {
   "cell_type": "markdown",
   "id": "f5320a5a",
   "metadata": {},
   "source": [
    "### ✨ 효율성 테스트 성공 코드: 우선순위 큐, '힙'사용\n",
    "\n",
    "1. heapq.heappush(heap, item) : item을 heap에 추가\n",
    "\n",
    "\n",
    "2. heapq.heappop(heap) : heap에서 가장 작은 원소를 pop + return.\n",
    "    - 비어 있는 경우 IndexError가 호출. \n",
    "    \n",
    "\n",
    "3. heapq.heapify(x) : 리스트 x를 즉각적으로 heap으로 변환 (in linear time, O(N) )"
   ]
  },
  {
   "cell_type": "code",
   "execution_count": 56,
   "id": "16f834c8",
   "metadata": {},
   "outputs": [
    {
     "name": "stdout",
     "output_type": "stream",
     "text": [
      "CPU times: user 36 µs, sys: 0 ns, total: 36 µs\n",
      "Wall time: 41 µs\n"
     ]
    },
    {
     "data": {
      "text/plain": [
       "2"
      ]
     },
     "execution_count": 56,
     "metadata": {},
     "output_type": "execute_result"
    }
   ],
   "source": [
    "%%time\n",
    "from heapq import heapify, heappush, heappop\n",
    "\n",
    "def solution(scoville, K):\n",
    "    res = 0\n",
    "    heap = []\n",
    "    \n",
    "    heapify(scoville)\n",
    "        \n",
    "    while scoville[0] < K:\n",
    "        if len(scoville) < 2:\n",
    "            return -1\n",
    "        \n",
    "        res += 1\n",
    "        m1 = heappop(scoville)\n",
    "        m2 = heappop(scoville)\n",
    "        heappush(scoville, m1 + (m2 * 2))\n",
    "    \n",
    "    return res\n",
    "\n",
    "# solution([1, 2, 3, 9, 10, 12], 7)\n",
    "solution([1, 2, 3], 7)\n",
    "# solution([7], 7)"
   ]
  },
  {
   "cell_type": "code",
   "execution_count": null,
   "id": "f116dc31",
   "metadata": {},
   "outputs": [],
   "source": []
  }
 ],
 "metadata": {
  "kernelspec": {
   "display_name": "Python 3 (ipykernel)",
   "language": "python",
   "name": "python3"
  },
  "language_info": {
   "codemirror_mode": {
    "name": "ipython",
    "version": 3
   },
   "file_extension": ".py",
   "mimetype": "text/x-python",
   "name": "python",
   "nbconvert_exporter": "python",
   "pygments_lexer": "ipython3",
   "version": "3.9.7"
  }
 },
 "nbformat": 4,
 "nbformat_minor": 5
}
