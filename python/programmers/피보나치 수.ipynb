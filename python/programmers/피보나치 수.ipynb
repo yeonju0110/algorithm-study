{
 "cells": [
  {
   "cell_type": "markdown",
   "id": "d35efe0a",
   "metadata": {},
   "source": [
    "- 문제: https://school.programmers.co.kr/learn/courses/30/lessons/12945"
   ]
  },
  {
   "cell_type": "markdown",
   "id": "7527ae58",
   "metadata": {},
   "source": [
    "## 풀이 1: 재귀 -> O(2^n)"
   ]
  },
  {
   "cell_type": "code",
   "execution_count": 3,
   "id": "c6eb9971",
   "metadata": {},
   "outputs": [
    {
     "name": "stdout",
     "output_type": "stream",
     "text": [
      "2.07 µs ± 17.8 ns per loop (mean ± std. dev. of 7 runs, 100000 loops each)\n"
     ]
    }
   ],
   "source": [
    "%%timeit\n",
    "\n",
    "def fibonacci(n):\n",
    "    if n == 0:\n",
    "        return 0\n",
    "    if n == 1:\n",
    "        return 1\n",
    "    \n",
    "    return fibonacci(n - 1) + fibonacci(n - 2)\n",
    "\n",
    "def solution(n):\n",
    "    return fibonacci(n) % 1234567\n",
    "\n",
    "solution(5) # 5"
   ]
  },
  {
   "cell_type": "markdown",
   "id": "9d85dcb1",
   "metadata": {},
   "source": [
    "## 풀이 2: dp -> 시간 복잡도 개선 O(n)"
   ]
  },
  {
   "cell_type": "code",
   "execution_count": 4,
   "id": "85ae44b3",
   "metadata": {},
   "outputs": [
    {
     "name": "stdout",
     "output_type": "stream",
     "text": [
      "996 ns ± 39.7 ns per loop (mean ± std. dev. of 7 runs, 1000000 loops each)\n"
     ]
    }
   ],
   "source": [
    "%%timeit\n",
    "\n",
    "def solution(n):\n",
    "    dp = [0] * (n + 1)\n",
    "    \n",
    "    dp[0] = 0\n",
    "    dp[1] = 1\n",
    "    \n",
    "    for i in range(2, n + 1):\n",
    "        dp[i] = dp[i - 1] + dp[i - 2]\n",
    "    \n",
    "    return dp[n] % 1234567\n",
    "\n",
    "solution(5) # 5"
   ]
  },
  {
   "cell_type": "markdown",
   "id": "2aceeb6f",
   "metadata": {},
   "source": [
    "#### 초기화 방식 차이\n",
    "```py\n",
    "dp = [0] * (n + 1)\n",
    "dp = [0 for _ in range(n + 1)]\n",
    "```\n",
    "- 성능:\n",
    "    - dp = [0] * (n + 1)은 [0] 리스트를 n + 1번 반복하여 확장하는 방식으로 동작합니다. 이 방법은 단순한 값으로 리스트를 초기화할 때 매우 효율적입니다.\n",
    "    - dp = [0 for _ in range(n + 1)]는 리스트 컴프리헨션을 사용하여, range(n + 1)의 각 값에 대해 0을 생성하고, 그 결과를 리스트로 구성합니다. 리스트 컴프리헨션은 더 복잡한 초기화 로직을 표현할 때 유용하지만, 이 경우처럼 단순한 값으로 초기화하는 상황에서는 첫 번째 방법에 비해 약간 더 느릴 수 있습니다.\n",
    "- 사용 상의 주의:\n",
    "    - dp = [0] * (n + 1) 방식은 모든 요소가 동일한 객체를 참조합니다. 이는 단순한 불변 객체(예: 정수, 문자열, 튜플)를 다룰 때는 문제가 되지 않지만, 가변 객체(예: 리스트, 딕셔너리, 집합)의 경우 예기치 않은 동작을 초래할 수 있습니다."
   ]
  },
  {
   "cell_type": "markdown",
   "id": "77b49294",
   "metadata": {},
   "source": [
    "## 풀이 3: dp -> 공간 복잡도 개선\n",
    "- 피보나치 수열을 계산할 때는 이전 두 항만 알고 있으면 다음 항을 계산할 수 있으므로, 전체 수열을 저장할 필요 X"
   ]
  },
  {
   "cell_type": "code",
   "execution_count": 5,
   "id": "4d27d5cd",
   "metadata": {},
   "outputs": [
    {
     "name": "stdout",
     "output_type": "stream",
     "text": [
      "491 ns ± 15.6 ns per loop (mean ± std. dev. of 7 runs, 1000000 loops each)\n"
     ]
    }
   ],
   "source": [
    "%%timeit\n",
    "\n",
    "def solution(n):\n",
    "    if n < 2:\n",
    "        return n\n",
    "\n",
    "    a, b = 0, 1  # 첫 번째와 두 번째 항 초기화\n",
    "\n",
    "    for i in range(2, n + 1):\n",
    "        a, b = b, a + b  # 다음 항 계산\n",
    "\n",
    "    return b % 1234567\n",
    "\n",
    "solution(5) # 5"
   ]
  },
  {
   "cell_type": "code",
   "execution_count": null,
   "id": "5de744b9",
   "metadata": {},
   "outputs": [],
   "source": []
  }
 ],
 "metadata": {
  "kernelspec": {
   "display_name": "Python 3 (ipykernel)",
   "language": "python",
   "name": "python3"
  },
  "language_info": {
   "codemirror_mode": {
    "name": "ipython",
    "version": 3
   },
   "file_extension": ".py",
   "mimetype": "text/x-python",
   "name": "python",
   "nbconvert_exporter": "python",
   "pygments_lexer": "ipython3",
   "version": "3.9.7"
  }
 },
 "nbformat": 4,
 "nbformat_minor": 5
}
