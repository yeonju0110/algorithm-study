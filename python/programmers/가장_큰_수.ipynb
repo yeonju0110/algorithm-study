{
 "cells": [
  {
   "cell_type": "markdown",
   "id": "97c0d36e",
   "metadata": {},
   "source": [
    "- 문제: https://school.programmers.co.kr/learn/courses/30/lessons/42746"
   ]
  },
  {
   "cell_type": "markdown",
   "id": "d2886835",
   "metadata": {},
   "source": [
    "### 방법1: 순열 이용\n",
    "    - 시간 복잡도: O(100000!) => 잘못된 풀이"
   ]
  },
  {
   "cell_type": "code",
   "execution_count": 51,
   "id": "8fcac486",
   "metadata": {},
   "outputs": [
    {
     "name": "stdout",
     "output_type": "stream",
     "text": [
      "CPU times: user 224 µs, sys: 0 ns, total: 224 µs\n",
      "Wall time: 229 µs\n"
     ]
    },
    {
     "data": {
      "text/plain": [
       "'9534330'"
      ]
     },
     "execution_count": 51,
     "metadata": {},
     "output_type": "execute_result"
    }
   ],
   "source": [
    "%%time\n",
    "from itertools import permutations\n",
    "\n",
    "def solution(numbers):\n",
    "    answer = []\n",
    "    pms = list(permutations(numbers, len(numbers)))\n",
    "    \n",
    "    for pm in pms:\n",
    "        str_pm = ''.join(list(map(str, pm)))\n",
    "        answer.append(str_pm)\n",
    "        \n",
    "    return str(max(answer))\n",
    "\n",
    "solution([6, 10, 2]) # '6210'\n",
    "solution([3, 30, 34, 5, 9]) # '9534330'"
   ]
  },
  {
   "cell_type": "markdown",
   "id": "bb50f260",
   "metadata": {},
   "source": [
    "### 방법2: 사전순 정렬 후 join"
   ]
  },
  {
   "cell_type": "code",
   "execution_count": 68,
   "id": "8df4d666",
   "metadata": {},
   "outputs": [
    {
     "name": "stdout",
     "output_type": "stream",
     "text": [
      "CPU times: user 43 µs, sys: 1e+03 ns, total: 44 µs\n",
      "Wall time: 47 µs\n"
     ]
    },
    {
     "data": {
      "text/plain": [
       "'9534330'"
      ]
     },
     "execution_count": 68,
     "metadata": {},
     "output_type": "execute_result"
    }
   ],
   "source": [
    "%%time\n",
    "def solution(numbers):\n",
    "    num_str = list(map(str, numbers))  # 1. 사전 순서로 정렬해주기 위한 형변환\n",
    "    # 2. 큰 수를 반환해야하므로 역순 정렬 + 자릿수가 다른 숫자들을 비교하기 위해 x3 수행 후 비교 (최댓값: 1000)\n",
    "    num_str.sort(key = lambda x:x*3, reverse=True)  \n",
    "    \n",
    "    return str(int(''.join(num_str))) # 3. [0, 0, 0]일 경우 숫자형으로 다시 만들어 줄 필요성 존재\n",
    "\n",
    "solution([6, 10, 2]) # '6210'\n",
    "solution([3, 30, 34, 5, 9]) # '9534330'"
   ]
  },
  {
   "cell_type": "code",
   "execution_count": null,
   "id": "63f019c8",
   "metadata": {},
   "outputs": [],
   "source": []
  }
 ],
 "metadata": {
  "kernelspec": {
   "display_name": "Python 3 (ipykernel)",
   "language": "python",
   "name": "python3"
  },
  "language_info": {
   "codemirror_mode": {
    "name": "ipython",
    "version": 3
   },
   "file_extension": ".py",
   "mimetype": "text/x-python",
   "name": "python",
   "nbconvert_exporter": "python",
   "pygments_lexer": "ipython3",
   "version": "3.9.7"
  }
 },
 "nbformat": 4,
 "nbformat_minor": 5
}
