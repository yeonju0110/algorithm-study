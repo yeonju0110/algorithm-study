{
 "cells": [
  {
   "cell_type": "markdown",
   "id": "4dba7c18",
   "metadata": {},
   "source": [
    "- 문제: https://school.programmers.co.kr/learn/courses/30/lessons/42897"
   ]
  },
  {
   "cell_type": "code",
   "execution_count": 3,
   "id": "854c390c",
   "metadata": {},
   "outputs": [
    {
     "name": "stdout",
     "output_type": "stream",
     "text": [
      "CPU times: user 31 µs, sys: 1 µs, total: 32 µs\n",
      "Wall time: 34.8 µs\n"
     ]
    },
    {
     "data": {
      "text/plain": [
       "6"
      ]
     },
     "execution_count": 3,
     "metadata": {},
     "output_type": "execute_result"
    }
   ],
   "source": [
    "%%time\n",
    "def solution(money):\n",
    "    dp1 = [0] * len(money)\n",
    "    dp1[0] = money[0]\n",
    "    dp1[1] = max(money[0], money[1])\n",
    "    \n",
    "    for i in range(2, len(money) - 1): # 첫 집 무조건 터는 경우 (마지막집 못텀)\n",
    "        dp1[i] = max(dp1[i-1], money[i]+dp1[i-2])\n",
    "        \n",
    "        \n",
    "    dp2 = [0] * len(money)\n",
    "    dp2[0] = 0\n",
    "    dp2[1] = money[1]\n",
    "    \n",
    "    for i in range(2, len(money)): # 마지막 집을 무조건 터는 경우 (첫집 못텀)\n",
    "        dp2[i] = max(dp2[i-1], money[i]+dp2[i-2])\n",
    "        \n",
    "    return max(max(dp1), max(dp2)) # 두 경우 중 최대\n",
    "\n",
    "solution([1, 2, 3, 4])"
   ]
  },
  {
   "cell_type": "code",
   "execution_count": null,
   "id": "a91f02c2",
   "metadata": {},
   "outputs": [],
   "source": []
  }
 ],
 "metadata": {
  "kernelspec": {
   "display_name": "Python 3 (ipykernel)",
   "language": "python",
   "name": "python3"
  },
  "language_info": {
   "codemirror_mode": {
    "name": "ipython",
    "version": 3
   },
   "file_extension": ".py",
   "mimetype": "text/x-python",
   "name": "python",
   "nbconvert_exporter": "python",
   "pygments_lexer": "ipython3",
   "version": "3.9.7"
  }
 },
 "nbformat": 4,
 "nbformat_minor": 5
}
