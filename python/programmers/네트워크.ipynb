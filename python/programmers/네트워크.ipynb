{
 "cells": [
  {
   "cell_type": "markdown",
   "id": "db47f3cb",
   "metadata": {},
   "source": [
    "- 문제: https://school.programmers.co.kr/learn/courses/30/lessons/43162"
   ]
  },
  {
   "cell_type": "markdown",
   "id": "0f7906b8",
   "metadata": {},
   "source": [
    "방법1: dfs"
   ]
  },
  {
   "cell_type": "code",
   "execution_count": 14,
   "id": "c34ab59e",
   "metadata": {},
   "outputs": [
    {
     "name": "stdout",
     "output_type": "stream",
     "text": [
      "CPU times: user 52 µs, sys: 1e+03 ns, total: 53 µs\n",
      "Wall time: 56.7 µs\n"
     ]
    },
    {
     "data": {
      "text/plain": [
       "2"
      ]
     },
     "execution_count": 14,
     "metadata": {},
     "output_type": "execute_result"
    }
   ],
   "source": [
    "%%time\n",
    "def solution(n, computers):\n",
    "    answer = 0\n",
    "    visited = [False] * n\n",
    "    \n",
    "    def dfs(i):\n",
    "        visited[i] = True\n",
    "        for a in range(n):\n",
    "            if computers[i][a] and not visited[a]:\n",
    "                dfs(a)\n",
    "\n",
    "    for i in range(n):\n",
    "        if not visited[i]:\n",
    "            dfs(i)\n",
    "            answer += 1\n",
    "    \n",
    "    return answer\n",
    "\n",
    "solution(3, [[1, 1, 0], [1, 1, 0], [0, 0, 1]])"
   ]
  },
  {
   "cell_type": "markdown",
   "id": "f1602dc2",
   "metadata": {},
   "source": [
    "방법2: bfs"
   ]
  },
  {
   "cell_type": "code",
   "execution_count": 15,
   "id": "7238ec58",
   "metadata": {},
   "outputs": [
    {
     "name": "stdout",
     "output_type": "stream",
     "text": [
      "CPU times: user 50 µs, sys: 1 µs, total: 51 µs\n",
      "Wall time: 53.9 µs\n"
     ]
    },
    {
     "data": {
      "text/plain": [
       "2"
      ]
     },
     "execution_count": 15,
     "metadata": {},
     "output_type": "execute_result"
    }
   ],
   "source": [
    "%%time\n",
    "from collections import deque\n",
    "\n",
    "def solution(n, computers):            \n",
    "    \n",
    "    def BFS(i):\n",
    "        q = deque()\n",
    "        q.append(i)\n",
    "        while q:\n",
    "            i = q.popleft()\n",
    "            visited[i] = 1\n",
    "            for a in range(n):\n",
    "                if computers[i][a] and not visited[a]:\n",
    "                     q.append(a)\n",
    "                \n",
    "    answer = 0\n",
    "    visited = [0 for i in range(len(computers))]\n",
    "    for i in range(n):\n",
    "        if not visited[i]:\n",
    "            BFS(i)\n",
    "            answer += 1\n",
    "        \n",
    "    return answer\n",
    "\n",
    "solution(3, [[1, 1, 0], [1, 1, 0], [0, 0, 1]])"
   ]
  },
  {
   "cell_type": "code",
   "execution_count": null,
   "id": "0c0127d0",
   "metadata": {},
   "outputs": [],
   "source": []
  }
 ],
 "metadata": {
  "kernelspec": {
   "display_name": "Python 3 (ipykernel)",
   "language": "python",
   "name": "python3"
  },
  "language_info": {
   "codemirror_mode": {
    "name": "ipython",
    "version": 3
   },
   "file_extension": ".py",
   "mimetype": "text/x-python",
   "name": "python",
   "nbconvert_exporter": "python",
   "pygments_lexer": "ipython3",
   "version": "3.9.7"
  }
 },
 "nbformat": 4,
 "nbformat_minor": 5
}
