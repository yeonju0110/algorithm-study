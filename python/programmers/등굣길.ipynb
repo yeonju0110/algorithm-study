{
 "cells": [
  {
   "cell_type": "markdown",
   "id": "452f9bd8",
   "metadata": {},
   "source": [
    "- 문제: https://school.programmers.co.kr/learn/courses/30/lessons/42898"
   ]
  },
  {
   "cell_type": "markdown",
   "id": "8df50ec2",
   "metadata": {},
   "source": [
    "방법: dp"
   ]
  },
  {
   "cell_type": "code",
   "execution_count": 13,
   "id": "85662366",
   "metadata": {},
   "outputs": [
    {
     "name": "stdout",
     "output_type": "stream",
     "text": [
      "CPU times: user 38 µs, sys: 1 µs, total: 39 µs\n",
      "Wall time: 42.2 µs\n"
     ]
    },
    {
     "data": {
      "text/plain": [
       "4"
      ]
     },
     "execution_count": 13,
     "metadata": {},
     "output_type": "execute_result"
    }
   ],
   "source": [
    "%%time\n",
    "def solution(m, n, puddles):\n",
    "    answer = 0\n",
    "    # ✨ 미리 puddles 좌표 거꾸로 (행, 열 순서가 아니라 열, 행 순서임!!!)\n",
    "    puddles = [[q,p] for [p,q] in puddles]\n",
    "    d = [[0]*(m+1) for _ in range(n+1)] # padding\n",
    "    \n",
    "    d[1][1] = 1\n",
    "    for i in range(1, n+1):\n",
    "        for j in range(1, m+1):\n",
    "            if i == 1 and j == 1: continue # ✨\n",
    "            if [i, j] in puddles:\n",
    "                d[i][j] = 0\n",
    "            else:\n",
    "                d[i][j] += (d[i-1][j] + d[i][j-1]) % 1000000007\n",
    "                \n",
    "    answer = d[n][m]\n",
    "    return answer\n",
    "\n",
    "solution(4, 3, [[2, 2]])"
   ]
  }
 ],
 "metadata": {
  "kernelspec": {
   "display_name": "Python 3 (ipykernel)",
   "language": "python",
   "name": "python3"
  },
  "language_info": {
   "codemirror_mode": {
    "name": "ipython",
    "version": 3
   },
   "file_extension": ".py",
   "mimetype": "text/x-python",
   "name": "python",
   "nbconvert_exporter": "python",
   "pygments_lexer": "ipython3",
   "version": "3.9.7"
  }
 },
 "nbformat": 4,
 "nbformat_minor": 5
}
