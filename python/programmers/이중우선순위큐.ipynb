{
 "cells": [
  {
   "cell_type": "markdown",
   "id": "29104a9f",
   "metadata": {},
   "source": [
    "- 문제: https://school.programmers.co.kr/learn/courses/30/lessons/42628"
   ]
  },
  {
   "cell_type": "code",
   "execution_count": 43,
   "id": "bfb5eda8",
   "metadata": {},
   "outputs": [
    {
     "name": "stdout",
     "output_type": "stream",
     "text": [
      "CPU times: user 49 µs, sys: 1 µs, total: 50 µs\n",
      "Wall time: 53.2 µs\n"
     ]
    },
    {
     "data": {
      "text/plain": [
       "[333, -45]"
      ]
     },
     "execution_count": 43,
     "metadata": {},
     "output_type": "execute_result"
    }
   ],
   "source": [
    "%%time\n",
    "from heapq import heappush, heappop, heapify\n",
    "\n",
    "def solution(operations):\n",
    "    answer = [0, 0]\n",
    "    heap = []\n",
    "    \n",
    "    for ops in operations:\n",
    "        op, v = ops.split()\n",
    "        v = int(v)\n",
    "        \n",
    "        if op == 'I':\n",
    "            heappush(heap, v)\n",
    "            \n",
    "        elif op == 'D' and heap:\n",
    "            if v == 1:\n",
    "                tmp = []\n",
    "                for i in heap:\n",
    "                    tmp.append(i)\n",
    "                tmp.remove(max(tmp))\n",
    "                heapify(tmp)\n",
    "                heap = tmp\n",
    "                \n",
    "            elif v == -1:\n",
    "                heappop(heap)\n",
    "    \n",
    "    if heap:\n",
    "        answer = [max(heap), min(heap)]\n",
    "    \n",
    "    return answer\n",
    "\n",
    "solution([\"I -45\", \"I 653\", \"D 1\", \"I -642\", \"I 45\", \"I 97\", \"D 1\", \"D -1\", \"I 333\"])\n",
    "# solution([\"I 16\", \"I -5643\", \"D -1\", \"D 1\", \"D 1\", \"I 123\", \"D -1\"])\n",
    "# solution([\"I 10\", \"I 20\", \"D 1\", \"I 30\", \"I 40\", \"D -1\", \"D -1\"]) # 추가\n",
    "# solution([\"I 2\",\"I 4\",\"D -1\", \"I 1\", \"D 1\"]) # 추가 [1,1]"
   ]
  },
  {
   "cell_type": "code",
   "execution_count": 1,
   "id": "62c68f91",
   "metadata": {},
   "outputs": [
    {
     "name": "stdout",
     "output_type": "stream",
     "text": [
      "8.67 µs ± 203 ns per loop (mean ± std. dev. of 7 runs, 100000 loops each)\n"
     ]
    }
   ],
   "source": [
    "%%timeit\n",
    "from heapq import heappush, heappop, heapify\n",
    "\n",
    "def solution(operations):\n",
    "    answer = [0, 0]\n",
    "    heap = []\n",
    "    \n",
    "    for ops in operations:\n",
    "        op, v = ops.split()\n",
    "        v = int(v)\n",
    "        \n",
    "        if op == 'I':\n",
    "            heappush(heap, v)\n",
    "            \n",
    "        elif op == 'D' and heap:\n",
    "            if v == 1:\n",
    "                heap.remove(max(heap))\n",
    "                heapify(heap)\n",
    "            elif v == -1:\n",
    "                heappop(heap)\n",
    "    \n",
    "    if heap:\n",
    "        answer = [max(heap), min(heap)]\n",
    "    \n",
    "    return answer\n",
    "\n",
    "solution([\"I -45\", \"I 653\", \"D 1\", \"I -642\", \"I 45\", \"I 97\", \"D 1\", \"D -1\", \"I 333\"])\n",
    "solution([\"I 6\", \"I 2\", \"I 1\", \"I 4\", \"I 5\", \"I 3\", \"D 1\", \"I 7\", \"D -1\", \"I 6\", \"D -1\", \"D -1\"]) # 추가 [7, 4]"
   ]
  },
  {
   "cell_type": "code",
   "execution_count": 2,
   "id": "91cfca1b",
   "metadata": {},
   "outputs": [
    {
     "name": "stdout",
     "output_type": "stream",
     "text": [
      "11.9 µs ± 670 ns per loop (mean ± std. dev. of 7 runs, 100000 loops each)\n"
     ]
    }
   ],
   "source": [
    "%%timeit\n",
    "from heapq import heappush, heappop, heapify\n",
    "\n",
    "def push(pq, max_pq, num):\n",
    "    heappush(pq, num)\n",
    "    heappush(max_pq, -num)  # 최대 힙을 위해 -num 사용\n",
    "\n",
    "def pop(pq, max_pq, num):\n",
    "    if not pq:  # 우선순위 큐가 비어있는 경우\n",
    "        return\n",
    "    \n",
    "    if num == 1:  # 최댓값 삭제\n",
    "        max_val = -heappop(max_pq)  # 최대 힙에서 최댓값 삭제\n",
    "        pq.remove(max_val)  # 해당 값 최소 힙에서도 삭제\n",
    "        heapify(pq)  # 최소 힙 재구성\n",
    "    elif num == -1:  # 최솟값 삭제\n",
    "        min_val = heappop(pq)  # 최소 힙에서 최솟값 삭제\n",
    "        max_pq.remove(-min_val)  # 해당 값 최대 힙에서도 삭제\n",
    "        heapify(max_pq)  # 최대 힙 재구성\n",
    "\n",
    "def solution(operations):\n",
    "    pq = []  # 최소 힙\n",
    "    max_pq = []  # 최대 힙\n",
    "    \n",
    "    for operation in operations:\n",
    "        op, num = operation.split()\n",
    "        num = int(num)\n",
    "        \n",
    "        if op == 'I':\n",
    "            push(pq, max_pq, num)\n",
    "        elif op == 'D':\n",
    "            pop(pq, max_pq, num)\n",
    "\n",
    "    if pq:\n",
    "        return [-heappop(max_pq), heappop(pq)]\n",
    "    return [0, 0]\n",
    "\n",
    "solution([\"I -45\", \"I 653\", \"D 1\", \"I -642\", \"I 45\", \"I 97\", \"D 1\", \"D -1\", \"I 333\"])\n",
    "solution([\"I 6\", \"I 2\", \"I 1\", \"I 4\", \"I 5\", \"I 3\", \"D 1\", \"I 7\", \"D -1\", \"I 6\", \"D -1\", \"D -1\"]) # 추가 [7, 4]"
   ]
  },
  {
   "cell_type": "code",
   "execution_count": null,
   "id": "4d75b5c0",
   "metadata": {},
   "outputs": [],
   "source": []
  }
 ],
 "metadata": {
  "kernelspec": {
   "display_name": "Python 3 (ipykernel)",
   "language": "python",
   "name": "python3"
  },
  "language_info": {
   "codemirror_mode": {
    "name": "ipython",
    "version": 3
   },
   "file_extension": ".py",
   "mimetype": "text/x-python",
   "name": "python",
   "nbconvert_exporter": "python",
   "pygments_lexer": "ipython3",
   "version": "3.9.7"
  }
 },
 "nbformat": 4,
 "nbformat_minor": 5
}
