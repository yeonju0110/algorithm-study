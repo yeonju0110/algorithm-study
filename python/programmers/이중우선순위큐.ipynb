{
 "cells": [
  {
   "cell_type": "markdown",
   "id": "29104a9f",
   "metadata": {},
   "source": [
    "- 문제: https://school.programmers.co.kr/learn/courses/30/lessons/42628"
   ]
  },
  {
   "cell_type": "code",
   "execution_count": 43,
   "id": "bfb5eda8",
   "metadata": {},
   "outputs": [
    {
     "name": "stdout",
     "output_type": "stream",
     "text": [
      "CPU times: user 49 µs, sys: 1 µs, total: 50 µs\n",
      "Wall time: 53.2 µs\n"
     ]
    },
    {
     "data": {
      "text/plain": [
       "[333, -45]"
      ]
     },
     "execution_count": 43,
     "metadata": {},
     "output_type": "execute_result"
    }
   ],
   "source": [
    "%%time\n",
    "from heapq import heappush, heappop, heapify\n",
    "\n",
    "def solution(operations):\n",
    "    answer = [0, 0]\n",
    "    heap = []\n",
    "    \n",
    "    for ops in operations:\n",
    "        op, v = ops.split()\n",
    "        v = int(v)\n",
    "        \n",
    "        if op == 'I':\n",
    "            heappush(heap, v)\n",
    "            \n",
    "        elif op == 'D' and heap:\n",
    "            if v == 1:\n",
    "                tmp = []\n",
    "                for i in heap:\n",
    "                    tmp.append(i)\n",
    "                tmp.remove(max(tmp))\n",
    "                heapify(tmp)\n",
    "                heap = tmp\n",
    "                \n",
    "            elif v == -1:\n",
    "                heappop(heap)\n",
    "    \n",
    "    if heap:\n",
    "        answer = [max(heap), min(heap)]\n",
    "    \n",
    "    return answer\n",
    "\n",
    "solution([\"I -45\", \"I 653\", \"D 1\", \"I -642\", \"I 45\", \"I 97\", \"D 1\", \"D -1\", \"I 333\"])\n",
    "# solution([\"I 16\", \"I -5643\", \"D -1\", \"D 1\", \"D 1\", \"I 123\", \"D -1\"])\n",
    "# solution([\"I 10\", \"I 20\", \"D 1\", \"I 30\", \"I 40\", \"D -1\", \"D -1\"]) # 추가\n",
    "# solution([\"I 2\",\"I 4\",\"D -1\", \"I 1\", \"D 1\"]) # 추가 [1,1]"
   ]
  },
  {
   "cell_type": "code",
   "execution_count": 46,
   "id": "62c68f91",
   "metadata": {},
   "outputs": [
    {
     "name": "stdout",
     "output_type": "stream",
     "text": [
      "CPU times: user 62 µs, sys: 1 µs, total: 63 µs\n",
      "Wall time: 66.8 µs\n"
     ]
    },
    {
     "data": {
      "text/plain": [
       "[7, 4]"
      ]
     },
     "execution_count": 46,
     "metadata": {},
     "output_type": "execute_result"
    }
   ],
   "source": [
    "%%time\n",
    "from heapq import heappush, heappop, heapify\n",
    "\n",
    "def solution(operations):\n",
    "    answer = [0, 0]\n",
    "    heap = []\n",
    "    \n",
    "    for ops in operations:\n",
    "        op, v = ops.split()\n",
    "        v = int(v)\n",
    "        \n",
    "        if op == 'I':\n",
    "            heappush(heap, v)\n",
    "            \n",
    "        elif op == 'D' and heap:\n",
    "            if v == 1:\n",
    "                heap.remove(max(heap))\n",
    "                heapify(heap)\n",
    "            elif v == -1:\n",
    "                heappop(heap)\n",
    "    \n",
    "    if heap:\n",
    "        answer = [max(heap), min(heap)]\n",
    "    \n",
    "    return answer\n",
    "\n",
    "solution([\"I -45\", \"I 653\", \"D 1\", \"I -642\", \"I 45\", \"I 97\", \"D 1\", \"D -1\", \"I 333\"])\n",
    "# solution([\"I 16\", \"I -5643\", \"D -1\", \"D 1\", \"D 1\", \"I 123\", \"D -1\"])\n",
    "# solution([\"I 10\", \"I 20\", \"D 1\", \"I 30\", \"I 40\", \"D -1\", \"D -1\"]) # 추가\n",
    "# solution([\"I 2\",\"I 4\",\"D -1\", \"I 1\", \"D 1\"]) # 추가 [1,1]\n",
    "solution([\"I 6\", \"I 2\", \"I 1\", \"I 4\", \"I 5\", \"I 3\", \"D 1\", \"I 7\", \"D -1\", \"I 6\", \"D -1\", \"D -1\"]) # 추가 [7, 4]"
   ]
  },
  {
   "cell_type": "code",
   "execution_count": null,
   "id": "91cfca1b",
   "metadata": {},
   "outputs": [],
   "source": []
  }
 ],
 "metadata": {
  "kernelspec": {
   "display_name": "Python 3 (ipykernel)",
   "language": "python",
   "name": "python3"
  },
  "language_info": {
   "codemirror_mode": {
    "name": "ipython",
    "version": 3
   },
   "file_extension": ".py",
   "mimetype": "text/x-python",
   "name": "python",
   "nbconvert_exporter": "python",
   "pygments_lexer": "ipython3",
   "version": "3.9.7"
  }
 },
 "nbformat": 4,
 "nbformat_minor": 5
}
