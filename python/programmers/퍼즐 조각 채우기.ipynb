{
 "cells": [
  {
   "cell_type": "markdown",
   "id": "2d241b25",
   "metadata": {},
   "source": [
    "- 문제: https://school.programmers.co.kr/learn/courses/30/lessons/84021"
   ]
  },
  {
   "cell_type": "code",
   "execution_count": null,
   "id": "030896f0",
   "metadata": {},
   "outputs": [],
   "source": [
    "%%time\n",
    "import copy\n",
    "\n",
    "dx = [-1, 1, 0, 0]\n",
    "dy = [0, 0, -1, 1]\n",
    "\n",
    "def dfs(i, j, graph, position, n, num):\n",
    "    res = [position]\n",
    "    \n",
    "    for k in range(4):\n",
    "        nx, ny = i + dx[k], j + dy[k]\n",
    "        \n",
    "        if 0 <= nx < n and 0 <= ny < n and graph[nx][ny] == num:\n",
    "            graph[nx][ny] = 2\n",
    "            ret = \n",
    "\n",
    "def solution(game_board, table):\n",
    "    answer = 0\n",
    "    game_board_copy = copy.deepcopy(game_board)\n",
    "    block = []\n",
    "    \n",
    "    for i in range(n):\n",
    "        for j in range(n):\n",
    "            if game_board_copy[i][j] == 0:\n",
    "                game_board_copy[i][j] = 2\n",
    "                result = dfs(i)\n",
    "                \n",
    "                \n",
    "    return answer\n",
    "\n",
    "solution([[1,1,0,0,1,0],[0,0,1,0,1,0],[0,1,1,0,0,1],[1,1,0,1,1,1],[1,0,0,0,1,0],[0,1,1,1,0,0]],\n",
    "        [[1,0,0,1,1,0],[1,0,1,0,1,0],[0,1,1,0,1,1],[0,0,1,0,0,0],[1,1,0,1,1,0],[0,1,0,0,0,0]])"
   ]
  }
 ],
 "metadata": {
  "kernelspec": {
   "display_name": "Python 3 (ipykernel)",
   "language": "python",
   "name": "python3"
  },
  "language_info": {
   "codemirror_mode": {
    "name": "ipython",
    "version": 3
   },
   "file_extension": ".py",
   "mimetype": "text/x-python",
   "name": "python",
   "nbconvert_exporter": "python",
   "pygments_lexer": "ipython3",
   "version": "3.9.7"
  }
 },
 "nbformat": 4,
 "nbformat_minor": 5
}
