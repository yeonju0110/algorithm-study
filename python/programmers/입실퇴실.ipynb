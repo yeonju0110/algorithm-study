{
 "cells": [
  {
   "cell_type": "code",
   "execution_count": 48,
   "id": "7d67952a",
   "metadata": {},
   "outputs": [
    {
     "data": {
      "text/plain": [
       "[2, 2, 0, 2]"
      ]
     },
     "execution_count": 48,
     "metadata": {},
     "output_type": "execute_result"
    }
   ],
   "source": [
    "from collections import deque, defaultdict\n",
    "\n",
    "def solution(enter, leave):\n",
    "    room = [] # 회의실에 있는 사람\n",
    "    enter = deque(enter)\n",
    "    leave = deque(leave)\n",
    "    dic = defaultdict(set)\n",
    "    \n",
    "    while leave:\n",
    "        l = leave.popleft() # 나가야 하는 사람\n",
    "        \n",
    "        if l not in room: # 회의실 안에 없다면,\n",
    "            while True: # 입장시키기\n",
    "                e = enter.popleft()\n",
    "                room.append(e)\n",
    "                for r in room:\n",
    "                    s = set(room) - set([r])\n",
    "                    dic[r].update(s)\n",
    "                \n",
    "                if e == l: # 지금 입장하는 사람 = 나가야하는 사람이라면, 입장멈추고 나가기\n",
    "                    break\n",
    "        room.remove(l) # 나가기\n",
    "    \n",
    "    d = sorted(dic.items()) # 1, 2, 3, ... 순서로 정렬\n",
    "    res = []\n",
    "    for i in d:\n",
    "        res.append(len(i[1])) # 만난사람의 수를 res 배열에 추가\n",
    "    \n",
    "    return res\n",
    "\n",
    "# solution([1, 3, 2], [1, 2, 3]) # [0,1,1]\n",
    "# solution([1, 4, 2, 3], [2, 1, 3, 4]) # [2, 2, 1, 3]\n",
    "# solution([3, 2, 1], [2, 1, 3]) # [1, 1, 2]\n",
    "# solution([3, 2, 1], [1, 3, 2]) # [2, 2, 2]\n",
    "solution([1, 4, 2, 3], [2, 1, 4, 3]) # [2, 2, 0, 2]"
   ]
  },
  {
   "cell_type": "code",
   "execution_count": 58,
   "id": "671786d4",
   "metadata": {},
   "outputs": [
    {
     "data": {
      "text/plain": [
       "[0, 1, 1]"
      ]
     },
     "execution_count": 58,
     "metadata": {},
     "output_type": "execute_result"
    }
   ],
   "source": [
    "from collections import deque\n",
    "\n",
    "def solution(enter, leave):\n",
    "    room = [] # 회의실에 있는 사람\n",
    "    ans = [0] * len(enter)\n",
    "    enter = deque(enter)\n",
    "    \n",
    "    for l in leave:\n",
    "        while l not in room: # 나가야할 사람이 회의실에 없다면\n",
    "            room.append(enter.popleft()) # 회의실에 들어올 때까지 사람들 입장\n",
    "        room.remove(l) # 회의실에 들어오면 나가기\n",
    "\n",
    "        for p in room: # 룸에 있는 사람들은 전부 'l'을 만났으므로 1씩 증가\n",
    "            ans[p - 1] += 1\n",
    "        ans[l - 1] += len(room) # 'l'은 룸에 남은 사람들을 전부 만남\n",
    "    \n",
    "    return ans\n",
    "\n",
    "solution([1, 3, 2], [1, 2, 3]) # [0,1,1]\n",
    "# solution([1, 4, 2, 3], [2, 1, 3, 4]) # [2, 2, 1, 3]\n",
    "# solution([3, 2, 1], [2, 1, 3]) # [1, 1, 2]\n",
    "# solution([3, 2, 1], [1, 3, 2]) # [2, 2, 2]\n",
    "# solution([1, 4, 2, 3], [2, 1, 4, 3]) # [2, 2, 0, 2]"
   ]
  },
  {
   "cell_type": "code",
   "execution_count": null,
   "id": "150d1441",
   "metadata": {},
   "outputs": [],
   "source": []
  }
 ],
 "metadata": {
  "kernelspec": {
   "display_name": "Python 3 (ipykernel)",
   "language": "python",
   "name": "python3"
  },
  "language_info": {
   "codemirror_mode": {
    "name": "ipython",
    "version": 3
   },
   "file_extension": ".py",
   "mimetype": "text/x-python",
   "name": "python",
   "nbconvert_exporter": "python",
   "pygments_lexer": "ipython3",
   "version": "3.9.7"
  }
 },
 "nbformat": 4,
 "nbformat_minor": 5
}
