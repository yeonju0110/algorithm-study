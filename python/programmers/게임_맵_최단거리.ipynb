{
 "cells": [
  {
   "cell_type": "markdown",
   "id": "10f9b62a",
   "metadata": {},
   "source": [
    "bfs 이용"
   ]
  },
  {
   "cell_type": "code",
   "execution_count": 19,
   "id": "b8e14114",
   "metadata": {},
   "outputs": [
    {
     "name": "stdout",
     "output_type": "stream",
     "text": [
      "[[3, 0, 9, 10, 11], [2, 0, 8, 0, 10], [3, 0, 7, 8, 9], [4, 5, 6, 0, 10], [0, 0, 0, 0, 11]]\n",
      "CPU times: user 428 µs, sys: 154 µs, total: 582 µs\n",
      "Wall time: 513 µs\n"
     ]
    },
    {
     "data": {
      "text/plain": [
       "11"
      ]
     },
     "execution_count": 19,
     "metadata": {},
     "output_type": "execute_result"
    }
   ],
   "source": [
    "%%time\n",
    "from collections import deque\n",
    "\n",
    "def solution(maps):\n",
    "    answer = 0\n",
    "    n = len(maps)\n",
    "    m = len(maps[0])\n",
    "    \n",
    "    # 상, 하, 좌, 우\n",
    "    dx = [-1, 1, 0, 0]\n",
    "    dy = [0, 0, -1, 1]\n",
    "\n",
    "    def bfs(x, y):\n",
    "        queue = deque()\n",
    "        queue.append((x, y))\n",
    "        \n",
    "        while queue: # 큐가 빌 때까지 반복\n",
    "            x, y = queue.popleft()\n",
    "            \n",
    "            for i in range(4): # 네 방향 모두 확인\n",
    "                nx = x + dx[i]\n",
    "                ny = y + dy[i]\n",
    "                \n",
    "                if nx < 0 or ny < 0 or nx >= n or ny >= m: # 맵 벗어나는 건 무시\n",
    "                    continue\n",
    "                    \n",
    "                if maps[nx][ny] == 0: # 벽인 겨우 무시\n",
    "                    continue\n",
    "                    \n",
    "                if maps[nx][ny] == 1: # 처음 지나다는 길일 경우 다\n",
    "                    maps[nx][ny] = maps[x][y] + 1\n",
    "                    queue.append((nx, ny))\n",
    "                    \n",
    "        return maps[n-1][m-1]\n",
    "                    \n",
    "    \n",
    "    answer = bfs(0, 0)\n",
    "    print(maps)\n",
    "    if answer == 1:\n",
    "        return -1\n",
    "    return answer\n",
    "\n",
    "solution([[1,0,1,1,1],[1,0,1,0,1],[1,0,1,1,1],[1,1,1,0,1],[0,0,0,0,1]])\n",
    "# solution([[1,0,1,1,1],[1,0,1,0,1],[1,0,1,1,1],[1,1,1,0,0],[0,0,0,0,1]])"
   ]
  },
  {
   "cell_type": "code",
   "execution_count": null,
   "id": "80665f29",
   "metadata": {},
   "outputs": [],
   "source": [
    "\n"
   ]
  }
 ],
 "metadata": {
  "kernelspec": {
   "display_name": "Python 3 (ipykernel)",
   "language": "python",
   "name": "python3"
  },
  "language_info": {
   "codemirror_mode": {
    "name": "ipython",
    "version": 3
   },
   "file_extension": ".py",
   "mimetype": "text/x-python",
   "name": "python",
   "nbconvert_exporter": "python",
   "pygments_lexer": "ipython3",
   "version": "3.9.7"
  }
 },
 "nbformat": 4,
 "nbformat_minor": 5
}
