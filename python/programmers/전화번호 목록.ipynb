{
 "cells": [
  {
   "cell_type": "markdown",
   "id": "4ff70e1d",
   "metadata": {},
   "source": [
    "- 문제: https://school.programmers.co.kr/learn/courses/30/lessons/42577"
   ]
  },
  {
   "cell_type": "markdown",
   "id": "3a5aea5f",
   "metadata": {},
   "source": [
    "#### 🧷 사전순으로 정렬\n",
    "\n",
    "    - 어떤 번호가 다른 번호의 접두어라면 이 둘은 정렬했을 때, 앞뒤에 위치하게 됨\n",
    "    - 따라서, 정렬 후 i번째 값과 i+1번째 값을 비교하면 됨"
   ]
  },
  {
   "cell_type": "code",
   "execution_count": 2,
   "id": "d5f06f9f",
   "metadata": {},
   "outputs": [
    {
     "name": "stdout",
     "output_type": "stream",
     "text": [
      "CPU times: user 35 µs, sys: 1e+03 ns, total: 36 µs\n",
      "Wall time: 39.3 µs\n"
     ]
    },
    {
     "data": {
      "text/plain": [
       "False"
      ]
     },
     "execution_count": 2,
     "metadata": {},
     "output_type": "execute_result"
    }
   ],
   "source": [
    "%%time\n",
    "def solution(phone_book):\n",
    "    answer = True\n",
    "    \n",
    "    phone_book.sort() # 사전 순 정렬\n",
    "    \n",
    "    for i in range(len(phone_book)-1): # i+1과 비교하므로 마지막 인덱스는 제외\n",
    "        str = phone_book[i]\n",
    "        \n",
    "        if str == phone_book[i+1][:len(str)]: # i번째 값과 i+1번째 접두어가 같은 경우\n",
    "            return False\n",
    "    \n",
    "    return answer\n",
    "\n",
    "solution([\"119\", \"97674223\", \"1195524421\"])\n",
    "solution([\"123\",\"456\",\"789\"])\n",
    "solution([\"12\",\"123\",\"1235\",\"567\",\"88\"])"
   ]
  },
  {
   "cell_type": "markdown",
   "id": "9dffba0d",
   "metadata": {},
   "source": [
    "#### 🧷 string.startswith() 이용\n",
    "\n",
    "- string.startswith(value, start, end)\n",
    "\n",
    "1. 반환값: boolean\n",
    "2. 인자\n",
    "   1. value: 필수. 확인할 문자열\n",
    "   2. start: optional. 확인하기 시작할 위치 (기본값: 0)\n",
    "   3. end: optional. 확인종료할 위치 (기본값: 문자열 끝)\n",
    "\n",
    "```py\n",
    "txt = 'Hello'\n",
    "x = txt.startswith('He')\n",
    "print(x) # True\n",
    "```\n"
   ]
  },
  {
   "cell_type": "code",
   "execution_count": 3,
   "id": "13627334",
   "metadata": {},
   "outputs": [
    {
     "name": "stdout",
     "output_type": "stream",
     "text": [
      "CPU times: user 33 µs, sys: 1 µs, total: 34 µs\n",
      "Wall time: 37.2 µs\n"
     ]
    },
    {
     "data": {
      "text/plain": [
       "False"
      ]
     },
     "execution_count": 3,
     "metadata": {},
     "output_type": "execute_result"
    }
   ],
   "source": [
    "%%time\n",
    "def solution(phone_book):\n",
    "    phone_book.sort() # 사전 순 정렬\n",
    "    \n",
    "    for p1, p2 in zip(phone_book, phone_book[1:]):\n",
    "        if p2.startswith(p1):\n",
    "            return False\n",
    "\n",
    "    return True\n",
    "\n",
    "solution([\"119\", \"97674223\", \"1195524421\"])\n",
    "solution([\"123\",\"456\",\"789\"])\n",
    "solution([\"12\",\"123\",\"1235\",\"567\",\"88\"])"
   ]
  },
  {
   "cell_type": "code",
   "execution_count": null,
   "id": "195b7502",
   "metadata": {},
   "outputs": [],
   "source": []
  }
 ],
 "metadata": {
  "kernelspec": {
   "display_name": "Python 3 (ipykernel)",
   "language": "python",
   "name": "python3"
  },
  "language_info": {
   "codemirror_mode": {
    "name": "ipython",
    "version": 3
   },
   "file_extension": ".py",
   "mimetype": "text/x-python",
   "name": "python",
   "nbconvert_exporter": "python",
   "pygments_lexer": "ipython3",
   "version": "3.9.7"
  }
 },
 "nbformat": 4,
 "nbformat_minor": 5
}
