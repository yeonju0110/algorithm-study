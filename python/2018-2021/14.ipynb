{
 "cells": [
  {
   "cell_type": "markdown",
   "id": "570f6ee5",
   "metadata": {},
   "source": [
    "## 14. 가사 검색\n",
    "- 문제: https://school.programmers.co.kr/learn/courses/30/lessons/60060"
   ]
  },
  {
   "cell_type": "code",
   "execution_count": 11,
   "id": "e7430271",
   "metadata": {},
   "outputs": [
    {
     "data": {
      "text/plain": [
       "[3, 2, 4, 1, 0]"
      ]
     },
     "execution_count": 11,
     "metadata": {},
     "output_type": "execute_result"
    }
   ],
   "source": [
    "import re\n",
    "\n",
    "words = [\"frodo\", \"front\", \"frost\", \"frozen\", \"frame\", \"kakao\"]\n",
    "queries = [\"fro??\", \"????o\", \"fr???\", \"fro???\", \"pro?\"]\n",
    "\n",
    "answer = []\n",
    "\n",
    "for q in queries:\n",
    "    q = q.replace('?', '.')\n",
    "    패턴 = re.compile(q)\n",
    "    매칭카운트 = 0\n",
    "\n",
    "    for s in words:\n",
    "        매칭패턴 = 패턴.findall(s)\n",
    "        if 매칭패턴 and len(s) == len(q):\n",
    "            매칭카운트 += 1\n",
    "    answer.append(매칭카운트)\n",
    "        \n",
    "answer\n"
   ]
  },
  {
   "cell_type": "code",
   "execution_count": 12,
   "id": "c7edd745",
   "metadata": {},
   "outputs": [],
   "source": [
    "# 효율성 통과는 실패\n",
    "\n",
    "import re\n",
    "\n",
    "def solution(words, queries):\n",
    "    answer = []\n",
    "\n",
    "    for q in queries:\n",
    "        q = q.replace('?', '.')\n",
    "        패턴 = re.compile(q)\n",
    "        매칭카운트 = 0\n",
    "\n",
    "        for s in words:\n",
    "            매칭패턴 = 패턴.findall(s)\n",
    "            if 매칭패턴 and len(s) == len(q):\n",
    "                매칭카운트 += 1\n",
    "        answer.append(매칭카운트)\n",
    "\n",
    "    return answer\n"
   ]
  },
  {
   "cell_type": "code",
   "execution_count": 18,
   "id": "24b4475c",
   "metadata": {},
   "outputs": [
    {
     "name": "stdout",
     "output_type": "stream",
     "text": [
      "[[{}], [{}, {}], [{}, {}, {}], [{}, {}, {}, {}], [{}, {}, {}, {}, {}], [{}, {}, {}, {}, {}, {}], [{}, {}, {}, {}, {}, {}, {}], [{}, {}, {}, {}, {}, {}, {}, {}], [{}, {}, {}, {}, {}, {}, {}, {}, {}], [{}, {}, {}, {}, {}, {}, {}, {}, {}, {}]]\n",
      "----\n",
      "[{'f': 2}, {'r': 2}, {'o': 2}, {'d': 1, 'n': 1}, {'o': 1, 't': 1}]\n"
     ]
    },
    {
     "data": {
      "text/plain": [
       "[]"
      ]
     },
     "execution_count": 18,
     "metadata": {},
     "output_type": "execute_result"
    }
   ],
   "source": [
    "# 효율성 테스트 통과 => 트라이 알고리즘 사용\n",
    "\n",
    "def solution(words):\n",
    "    트라이 = [[dict() for j in range(i+1)] for i in range(10)]\n",
    "    answer = []\n",
    "    print(트라이)\n",
    "    \n",
    "    for 각각의문자열 in words:\n",
    "        for index, 개별문자 in enumerate(각각의문자열):\n",
    "            if 개별문자 in 트라이[len(각각의문자열)-1][index]:\n",
    "                트라이[len(각각의문자열)-1][index][개별문자] += 1\n",
    "            else:\n",
    "                트라이[len(각각의문자열)-1][index][개별문자] = 1\n",
    "    \n",
    "    print('----')\n",
    "    print(트라이[4])\n",
    "    \n",
    "    return answer\n",
    "\n",
    "solution(['frodo', 'front', 'a'])\n",
    "\n",
    "# 예외처리해야할 것들\n",
    "# 물음표가 먼저 나오는 것들 ['?????', '?rodo', 'fro??'] => 역순으로 바꿔줘야함"
   ]
  },
  {
   "cell_type": "code",
   "execution_count": 19,
   "id": "ce2f4d42",
   "metadata": {},
   "outputs": [],
   "source": [
    "# Tree로 해결하는 방법 (대부분의 검색 효율성은 Tree 문제임)\n",
    "# 단어 문제이기 때문에 트라이라는 알고리즘 선택"
   ]
  },
  {
   "cell_type": "code",
   "execution_count": 20,
   "id": "6c644fb3",
   "metadata": {},
   "outputs": [
    {
     "ename": "NameError",
     "evalue": "name '다음노드' is not defined",
     "output_type": "error",
     "traceback": [
      "\u001b[0;31m---------------------------------------------------------------------------\u001b[0m",
      "\u001b[0;31mNameError\u001b[0m                                 Traceback (most recent call last)",
      "\u001b[0;32m/var/folders/5b/w0h4h3hx0b13bntvxdvd_l040000gn/T/ipykernel_85790/3347736661.py\u001b[0m in \u001b[0;36m<module>\u001b[0;34m\u001b[0m\n\u001b[1;32m      3\u001b[0m {\n\u001b[1;32m      4\u001b[0m     'f': {\n\u001b[0;32m----> 5\u001b[0;31m         \u001b[0;34m'연결노드'\u001b[0m\u001b[0;34m:\u001b[0m \u001b[0m다음노드\u001b[0m\u001b[0;34m,\u001b[0m\u001b[0;34m\u001b[0m\u001b[0;34m\u001b[0m\u001b[0m\n\u001b[0m\u001b[1;32m      6\u001b[0m         \u001b[0;34m'개수'\u001b[0m\u001b[0;34m:\u001b[0m \u001b[0;36m2\u001b[0m\u001b[0;34m,\u001b[0m\u001b[0;34m\u001b[0m\u001b[0;34m\u001b[0m\u001b[0m\n\u001b[1;32m      7\u001b[0m         \u001b[0;34m'현재레벨'\u001b[0m\u001b[0;34m:\u001b[0m \u001b[0;36m1\u001b[0m \u001b[0;31m#문자열의 개수\u001b[0m\u001b[0;34m\u001b[0m\u001b[0;34m\u001b[0m\u001b[0m\n",
      "\u001b[0;31mNameError\u001b[0m: name '다음노드' is not defined"
     ]
    }
   ],
   "source": [
    "# 하나의 레벨(층) 단위의 dict 생성\n",
    "# 레벨 1 노드\n",
    "{\n",
    "    'f': {\n",
    "        '연결노드': 다음노드,\n",
    "        '개수': 2,\n",
    "        '현재레벨': 1 #문자열의 개수\n",
    "    }\n",
    "}\n",
    "\n",
    "# 레벨2=> 'f' 연결 노드\n",
    "{\n",
    "    'r': {\n",
    "        '연결노드': 다음노드,\n",
    "        '개수': 2,\n",
    "        '현재레벨': 2 #문자열의 개수\n",
    "    }\n",
    "}\n",
    "\n",
    "# 레벨 3=> 'r' 연결 노드\n",
    "{\n",
    "    'o': {\n",
    "        '연결노드': 다음노드,\n",
    "        '개수': 2,\n",
    "        '현재레벨': 3 #문자열의 개수\n",
    "    }\n",
    "}\n",
    "\n",
    "# 레벨 4=> 'o' 연결 노드\n",
    "{\n",
    "    'n': {\n",
    "        '연결노드': 다음노드,\n",
    "        '개수': 2,\n",
    "        '현재레벨': 4 #문자열의 개수\n",
    "    }\n",
    "}\n",
    "\n",
    "# 레벨 5=> 'n' 연결 노드\n",
    "{\n",
    "    't': {\n",
    "        '연결노드': 다음노드,\n",
    "        '개수': 2,\n",
    "        '현재레벨': 5 #문자열의 개수\n",
    "    }\n",
    "}"
   ]
  },
  {
   "cell_type": "code",
   "execution_count": null,
   "id": "68372490",
   "metadata": {},
   "outputs": [],
   "source": [
    "class Node(object):\n",
    "    def __init__(self):\n",
    "        self.레벨단위연결노드 = {}\n",
    "        \n",
    "    def insert_data(self, 문자열):\n",
    "        for 레벨, 문자 in enumerate(문자열, 1):\n",
    "            if 문자 not in self.레벨단위연결노드:\n",
    "                self.레벨단위연결노드[문자] = {\n",
    "                    '연결노드': 다음노드,\n",
    "                    '개수': 1,\n",
    "                    '현재레벨': 레벨\n",
    "                }\n",
    "            else:\n",
    "                self.레벨단위연결노드[문자]['개수'] += 1\n",
    "            self = self.레벨단위연결노드[문자]['연결노드']\n",
    "            \n",
    "    def inser_data(serf, 문자열)\n",
    "            \n",
    "트라이인스턴스 = Node()\n",
    "트라이인스턴스.insert_data('frodo')\n",
    "\n",
    "                     \n"
   ]
  }
 ],
 "metadata": {
  "kernelspec": {
   "display_name": "Python 3 (ipykernel)",
   "language": "python",
   "name": "python3"
  },
  "language_info": {
   "codemirror_mode": {
    "name": "ipython",
    "version": 3
   },
   "file_extension": ".py",
   "mimetype": "text/x-python",
   "name": "python",
   "nbconvert_exporter": "python",
   "pygments_lexer": "ipython3",
   "version": "3.9.7"
  }
 },
 "nbformat": 4,
 "nbformat_minor": 5
}
