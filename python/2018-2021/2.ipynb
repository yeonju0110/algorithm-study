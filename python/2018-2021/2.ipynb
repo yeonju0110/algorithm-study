{
 "cells": [
  {
   "cell_type": "markdown",
   "id": "911e7a2e",
   "metadata": {},
   "source": [
    "## 2번 워밍업 문제(daum)"
   ]
  },
  {
   "cell_type": "markdown",
   "id": "ad7f2bb3",
   "metadata": {},
   "source": [
    "문제: https://codingdojang.com/scode/408"
   ]
  },
  {
   "cell_type": "code",
   "execution_count": 6,
   "id": "7befde0f",
   "metadata": {},
   "outputs": [
    {
     "data": {
      "text/plain": [
       "(3, 4)"
      ]
     },
     "execution_count": 6,
     "metadata": {},
     "output_type": "execute_result"
    }
   ],
   "source": [
    "s = [1, 3, 4, 8, 13, 17, 20]\n",
    "m = max(s)\n",
    "index = 0\n",
    "for i in range(len(s) - 1):\n",
    "    if m > s[i+1] - s[i]:\n",
    "        index = i\n",
    "        m = s[i+1] - s[i]\n",
    "\n",
    "s[index], s[index+1]"
   ]
  },
  {
   "cell_type": "code",
   "execution_count": 8,
   "id": "d6aa7828",
   "metadata": {},
   "outputs": [
    {
     "data": {
      "text/plain": [
       "[(1, 1), (3, 3), (4, 4), (8, 8), (13, 13), (17, 17), (20, 20)]"
      ]
     },
     "execution_count": 8,
     "metadata": {},
     "output_type": "execute_result"
    }
   ],
   "source": [
    "s = [1, 3, 4, 8, 13, 17, 20]\n",
    "ss = [1, 3, 4, 8, 13, 17, 20]\n",
    "\n",
    "list(zip(s, ss))"
   ]
  },
  {
   "cell_type": "code",
   "execution_count": 12,
   "id": "823e29e8",
   "metadata": {},
   "outputs": [
    {
     "data": {
      "text/plain": [
       "[(3, 3), (4, 4), (8, 8), (1, 10), (13, 13), (17, 17), (20, 20)]"
      ]
     },
     "execution_count": 12,
     "metadata": {},
     "output_type": "execute_result"
    }
   ],
   "source": [
    "s = [1, 3, 4, 8, 13, 17, 20]\n",
    "ss = [10, 3, 4, 8, 13, 17, 20]\n",
    "\n",
    "sorted(list(zip(s, ss)), key=lambda i : i[1])"
   ]
  },
  {
   "cell_type": "code",
   "execution_count": 13,
   "id": "497385f1",
   "metadata": {},
   "outputs": [
    {
     "data": {
      "text/plain": [
       "[(1, 1), (3, 3), (4, 4), (8, 8), (13, 13), (17, 17), (20, 20)]"
      ]
     },
     "execution_count": 13,
     "metadata": {},
     "output_type": "execute_result"
    }
   ],
   "source": [
    "s = [1, 3, 4, 8, 13, 17, 20]\n",
    "ss = [1, 3, 4, 8, 13, 17, 20]\n",
    "\n",
    "\n",
    "sorted(list(zip(s, ss)), key = lambda i : i[1]-i[0])"
   ]
  },
  {
   "cell_type": "code",
   "execution_count": 15,
   "id": "3027af6d",
   "metadata": {},
   "outputs": [
    {
     "data": {
      "text/plain": [
       "[(1, 1), (3, 3), (4, 4), (8, 8), (13, 13), (17, 17), (20, 20)]"
      ]
     },
     "execution_count": 15,
     "metadata": {},
     "output_type": "execute_result"
    }
   ],
   "source": [
    "def 두수의차(i):\n",
    "    return i[1] - i[0]\n",
    "\n",
    "sorted(list(zip(s, ss)), key = 두수의차)"
   ]
  },
  {
   "cell_type": "code",
   "execution_count": null,
   "id": "bcadd8ad",
   "metadata": {},
   "outputs": [],
   "source": []
  }
 ],
 "metadata": {
  "kernelspec": {
   "display_name": "Python 3 (ipykernel)",
   "language": "python",
   "name": "python3"
  },
  "language_info": {
   "codemirror_mode": {
    "name": "ipython",
    "version": 3
   },
   "file_extension": ".py",
   "mimetype": "text/x-python",
   "name": "python",
   "nbconvert_exporter": "python",
   "pygments_lexer": "ipython3",
   "version": "3.9.7"
  }
 },
 "nbformat": 4,
 "nbformat_minor": 5
}
