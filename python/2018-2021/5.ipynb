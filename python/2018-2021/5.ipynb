{
 "cells": [
  {
   "cell_type": "markdown",
   "id": "2c19f8bd",
   "metadata": {},
   "source": [
    "## 5. 캐시 (난이도: 하)\n",
    "- 문제: https://tech.kakao.com/2017/09/27/kakao-blind-recruitment-round-1/"
   ]
  },
  {
   "cell_type": "code",
   "execution_count": 2,
   "id": "c2d03250",
   "metadata": {},
   "outputs": [],
   "source": [
    "도시이름 = ['Jeju', 'Pangyo', 'Seoul', 'NewYork', 'LA', 'Jeju', 'Pangyo', 'Seoul', 'NewYork', 'LA']"
   ]
  },
  {
   "cell_type": "code",
   "execution_count": 3,
   "id": "2e345591",
   "metadata": {},
   "outputs": [
    {
     "data": {
      "text/plain": [
       "['Seoul', 'LA', 'NewYork']"
      ]
     },
     "execution_count": 3,
     "metadata": {},
     "output_type": "execute_result"
    }
   ],
   "source": [
    "['Jeju']\n",
    "['Jeju', 'Pangyo', 'Seoul']\n",
    "['Pangyo', 'Seoul', 'NewYork']\n",
    "['Seoul', 'NewYork', 'LA']\n",
    "['Seoul', 'LA', 'NewYork']\n"
   ]
  },
  {
   "cell_type": "code",
   "execution_count": 4,
   "id": "dcc949f8",
   "metadata": {},
   "outputs": [
    {
     "data": {
      "text/plain": [
       "deque([10, 20, 30, 40])"
      ]
     },
     "execution_count": 4,
     "metadata": {},
     "output_type": "execute_result"
    }
   ],
   "source": [
    "from collections import deque\n",
    "\n",
    "l = [10, 20, 30, 40]\n",
    "d = deque(l)\n",
    "d"
   ]
  },
  {
   "cell_type": "code",
   "execution_count": 5,
   "id": "d59932ea",
   "metadata": {},
   "outputs": [
    {
     "data": {
      "text/plain": [
       "['__add__',\n",
       " '__bool__',\n",
       " '__class__',\n",
       " '__class_getitem__',\n",
       " '__contains__',\n",
       " '__copy__',\n",
       " '__delattr__',\n",
       " '__delitem__',\n",
       " '__dir__',\n",
       " '__doc__',\n",
       " '__eq__',\n",
       " '__format__',\n",
       " '__ge__',\n",
       " '__getattribute__',\n",
       " '__getitem__',\n",
       " '__gt__',\n",
       " '__hash__',\n",
       " '__iadd__',\n",
       " '__imul__',\n",
       " '__init__',\n",
       " '__init_subclass__',\n",
       " '__iter__',\n",
       " '__le__',\n",
       " '__len__',\n",
       " '__lt__',\n",
       " '__mul__',\n",
       " '__ne__',\n",
       " '__new__',\n",
       " '__reduce__',\n",
       " '__reduce_ex__',\n",
       " '__repr__',\n",
       " '__reversed__',\n",
       " '__rmul__',\n",
       " '__setattr__',\n",
       " '__setitem__',\n",
       " '__sizeof__',\n",
       " '__str__',\n",
       " '__subclasshook__',\n",
       " 'append',\n",
       " 'appendleft',\n",
       " 'clear',\n",
       " 'copy',\n",
       " 'count',\n",
       " 'extend',\n",
       " 'extendleft',\n",
       " 'index',\n",
       " 'insert',\n",
       " 'maxlen',\n",
       " 'pop',\n",
       " 'popleft',\n",
       " 'remove',\n",
       " 'reverse',\n",
       " 'rotate']"
      ]
     },
     "execution_count": 5,
     "metadata": {},
     "output_type": "execute_result"
    }
   ],
   "source": [
    "dir(d)"
   ]
  },
  {
   "cell_type": "code",
   "execution_count": 10,
   "id": "7432b26e",
   "metadata": {},
   "outputs": [
    {
     "data": {
      "text/plain": [
       "deque(['', '', 'hello'])"
      ]
     },
     "execution_count": 10,
     "metadata": {},
     "output_type": "execute_result"
    }
   ],
   "source": [
    "from collections import deque\n",
    "\n",
    "l = [''] * 3\n",
    "cache = deque(l, maxlen=3)\n",
    "cache.append('hello')\n",
    "cache"
   ]
  },
  {
   "cell_type": "code",
   "execution_count": 11,
   "id": "b9c7a910",
   "metadata": {},
   "outputs": [
    {
     "data": {
      "text/plain": [
       "deque(['', 'hello', 'hello'])"
      ]
     },
     "execution_count": 11,
     "metadata": {},
     "output_type": "execute_result"
    }
   ],
   "source": [
    "cache.append('hello')\n",
    "cache"
   ]
  },
  {
   "cell_type": "code",
   "execution_count": 13,
   "id": "a31321bf",
   "metadata": {},
   "outputs": [
    {
     "name": "stdout",
     "output_type": "stream",
     "text": [
      "50\n",
      "21\n"
     ]
    }
   ],
   "source": [
    "from collections import deque\n",
    "\n",
    "def solution(cacheSize, cities):\n",
    "    l = [''] * cacheSize\n",
    "    cache = deque(l, maxlen=cacheSize)\n",
    "    answer = 0 # 시간\n",
    "    for city in cities:\n",
    "        city = city.lower()\n",
    "        if city in cache:\n",
    "            cache.remove(city)\n",
    "            cache.append(city)\n",
    "            answer += 1\n",
    "        else:\n",
    "            cache.append(city)\n",
    "            answer += 5\n",
    "    return answer\n",
    "\n",
    "test_case = [[3,['Jeju', 'Pangyo', 'Seoul', 'NewYork', 'LA', 'Jeju', 'Pangyo', 'Seoul', 'NewYork', 'LA']],\n",
    "             [3, ['Jeju', 'Pangyo', 'Seoul', 'Jeju', 'Pangyo', 'Seoul', 'Jeju', 'Pangyo', 'Seoul']]\n",
    "            ]\n",
    "\n",
    "for case in test_case:\n",
    "    print(solution(case[0],case[1]))\n"
   ]
  },
  {
   "cell_type": "code",
   "execution_count": null,
   "id": "a251cd69",
   "metadata": {},
   "outputs": [],
   "source": []
  }
 ],
 "metadata": {
  "kernelspec": {
   "display_name": "Python 3 (ipykernel)",
   "language": "python",
   "name": "python3"
  },
  "language_info": {
   "codemirror_mode": {
    "name": "ipython",
    "version": 3
   },
   "file_extension": ".py",
   "mimetype": "text/x-python",
   "name": "python",
   "nbconvert_exporter": "python",
   "pygments_lexer": "ipython3",
   "version": "3.9.7"
  }
 },
 "nbformat": 4,
 "nbformat_minor": 5
}
