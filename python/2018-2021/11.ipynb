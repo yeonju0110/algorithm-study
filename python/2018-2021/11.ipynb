{
 "cells": [
  {
   "cell_type": "markdown",
   "id": "9d767f2c",
   "metadata": {},
   "source": [
    "## 11. 후보키 (정답률: 16.09%)\n",
    "- 문제: https://school.programmers.co.kr/learn/courses/30/lessons/42890"
   ]
  },
  {
   "cell_type": "code",
   "execution_count": 32,
   "id": "2446ac50",
   "metadata": {},
   "outputs": [
    {
     "data": {
      "text/html": [
       "<div>\n",
       "<style scoped>\n",
       "    .dataframe tbody tr th:only-of-type {\n",
       "        vertical-align: middle;\n",
       "    }\n",
       "\n",
       "    .dataframe tbody tr th {\n",
       "        vertical-align: top;\n",
       "    }\n",
       "\n",
       "    .dataframe thead th {\n",
       "        text-align: right;\n",
       "    }\n",
       "</style>\n",
       "<table border=\"1\" class=\"dataframe\">\n",
       "  <thead>\n",
       "    <tr style=\"text-align: right;\">\n",
       "      <th></th>\n",
       "      <th>0</th>\n",
       "      <th>1</th>\n",
       "      <th>2</th>\n",
       "      <th>3</th>\n",
       "    </tr>\n",
       "  </thead>\n",
       "  <tbody>\n",
       "    <tr>\n",
       "      <th>0</th>\n",
       "      <td>100</td>\n",
       "      <td>ryan</td>\n",
       "      <td>music</td>\n",
       "      <td>2</td>\n",
       "    </tr>\n",
       "    <tr>\n",
       "      <th>1</th>\n",
       "      <td>200</td>\n",
       "      <td>apeach</td>\n",
       "      <td>math</td>\n",
       "      <td>2</td>\n",
       "    </tr>\n",
       "    <tr>\n",
       "      <th>2</th>\n",
       "      <td>300</td>\n",
       "      <td>tube</td>\n",
       "      <td>computer</td>\n",
       "      <td>3</td>\n",
       "    </tr>\n",
       "    <tr>\n",
       "      <th>3</th>\n",
       "      <td>400</td>\n",
       "      <td>con</td>\n",
       "      <td>computer</td>\n",
       "      <td>4</td>\n",
       "    </tr>\n",
       "    <tr>\n",
       "      <th>4</th>\n",
       "      <td>500</td>\n",
       "      <td>muzi</td>\n",
       "      <td>music</td>\n",
       "      <td>3</td>\n",
       "    </tr>\n",
       "    <tr>\n",
       "      <th>5</th>\n",
       "      <td>600</td>\n",
       "      <td>apeach</td>\n",
       "      <td>music</td>\n",
       "      <td>2</td>\n",
       "    </tr>\n",
       "  </tbody>\n",
       "</table>\n",
       "</div>"
      ],
      "text/plain": [
       "     0       1         2  3\n",
       "0  100    ryan     music  2\n",
       "1  200  apeach      math  2\n",
       "2  300    tube  computer  3\n",
       "3  400     con  computer  4\n",
       "4  500    muzi     music  3\n",
       "5  600  apeach     music  2"
      ]
     },
     "execution_count": 32,
     "metadata": {},
     "output_type": "execute_result"
    }
   ],
   "source": [
    "import pandas as pd\n",
    "\n",
    "l = [\n",
    "    ['100','ryan','music','2'],\n",
    "    ['200','apeach','math','2'],\n",
    "    ['300','tube','computer','3'],\n",
    "    ['400','con','computer','4'],\n",
    "    ['500','muzi','music','3'],\n",
    "    ['600','apeach','music','2']\n",
    "]\n",
    "\n",
    "data = pd.DataFrame(l)\n",
    "data"
   ]
  },
  {
   "cell_type": "code",
   "execution_count": 33,
   "id": "645a7f87",
   "metadata": {},
   "outputs": [
    {
     "data": {
      "text/plain": [
       "apeach    2\n",
       "ryan      1\n",
       "tube      1\n",
       "con       1\n",
       "muzi      1\n",
       "Name: 1, dtype: int64"
      ]
     },
     "execution_count": 33,
     "metadata": {},
     "output_type": "execute_result"
    }
   ],
   "source": [
    "data[1].value_counts()"
   ]
  },
  {
   "cell_type": "code",
   "execution_count": 34,
   "id": "74fec8a6",
   "metadata": {},
   "outputs": [
    {
     "data": {
      "text/plain": [
       "False"
      ]
     },
     "execution_count": 34,
     "metadata": {},
     "output_type": "execute_result"
    }
   ],
   "source": [
    "len(data[1]) == len(data[1].value_counts())"
   ]
  },
  {
   "cell_type": "code",
   "execution_count": 39,
   "id": "43210870",
   "metadata": {},
   "outputs": [
    {
     "data": {
      "text/html": [
       "<div>\n",
       "<style scoped>\n",
       "    .dataframe tbody tr th:only-of-type {\n",
       "        vertical-align: middle;\n",
       "    }\n",
       "\n",
       "    .dataframe tbody tr th {\n",
       "        vertical-align: top;\n",
       "    }\n",
       "\n",
       "    .dataframe thead th {\n",
       "        text-align: right;\n",
       "    }\n",
       "</style>\n",
       "<table border=\"1\" class=\"dataframe\">\n",
       "  <thead>\n",
       "    <tr style=\"text-align: right;\">\n",
       "      <th></th>\n",
       "      <th>data[0]</th>\n",
       "      <th>data[1]</th>\n",
       "      <th>data[2]</th>\n",
       "      <th>data[3]</th>\n",
       "      <th>data[0] + data[1]</th>\n",
       "      <th>data[0] + data[2]</th>\n",
       "      <th>data[0] + data[3]</th>\n",
       "      <th>data[1] + data[2]</th>\n",
       "      <th>data[1] + data[3]</th>\n",
       "      <th>data[2] + data[3]</th>\n",
       "      <th>data[0] + data[1] + data[2]</th>\n",
       "      <th>data[0] + data[1] + data[3]</th>\n",
       "      <th>data[0] + data[2] + data[3]</th>\n",
       "      <th>data[1] + data[2] + data[3]</th>\n",
       "      <th>data[0] + data[1] + data[2] + data[3]</th>\n",
       "    </tr>\n",
       "  </thead>\n",
       "  <tbody>\n",
       "    <tr>\n",
       "      <th>0</th>\n",
       "      <td>100</td>\n",
       "      <td>ryan</td>\n",
       "      <td>music</td>\n",
       "      <td>2</td>\n",
       "      <td>100ryan</td>\n",
       "      <td>100music</td>\n",
       "      <td>1002</td>\n",
       "      <td>ryanmusic</td>\n",
       "      <td>ryan2</td>\n",
       "      <td>music2</td>\n",
       "      <td>100ryanmusic</td>\n",
       "      <td>100ryan2</td>\n",
       "      <td>100music2</td>\n",
       "      <td>ryanmusic2</td>\n",
       "      <td>100ryanmusic2</td>\n",
       "    </tr>\n",
       "    <tr>\n",
       "      <th>1</th>\n",
       "      <td>200</td>\n",
       "      <td>apeach</td>\n",
       "      <td>math</td>\n",
       "      <td>2</td>\n",
       "      <td>200apeach</td>\n",
       "      <td>200math</td>\n",
       "      <td>2002</td>\n",
       "      <td>apeachmath</td>\n",
       "      <td>apeach2</td>\n",
       "      <td>math2</td>\n",
       "      <td>200apeachmath</td>\n",
       "      <td>200apeach2</td>\n",
       "      <td>200math2</td>\n",
       "      <td>apeachmath2</td>\n",
       "      <td>200apeachmath2</td>\n",
       "    </tr>\n",
       "    <tr>\n",
       "      <th>2</th>\n",
       "      <td>300</td>\n",
       "      <td>tube</td>\n",
       "      <td>computer</td>\n",
       "      <td>3</td>\n",
       "      <td>300tube</td>\n",
       "      <td>300computer</td>\n",
       "      <td>3003</td>\n",
       "      <td>tubecomputer</td>\n",
       "      <td>tube3</td>\n",
       "      <td>computer3</td>\n",
       "      <td>300tubecomputer</td>\n",
       "      <td>300tube3</td>\n",
       "      <td>300computer3</td>\n",
       "      <td>tubecomputer3</td>\n",
       "      <td>300tubecomputer3</td>\n",
       "    </tr>\n",
       "    <tr>\n",
       "      <th>3</th>\n",
       "      <td>400</td>\n",
       "      <td>con</td>\n",
       "      <td>computer</td>\n",
       "      <td>4</td>\n",
       "      <td>400con</td>\n",
       "      <td>400computer</td>\n",
       "      <td>4004</td>\n",
       "      <td>concomputer</td>\n",
       "      <td>con4</td>\n",
       "      <td>computer4</td>\n",
       "      <td>400concomputer</td>\n",
       "      <td>400con4</td>\n",
       "      <td>400computer4</td>\n",
       "      <td>concomputer4</td>\n",
       "      <td>400concomputer4</td>\n",
       "    </tr>\n",
       "    <tr>\n",
       "      <th>4</th>\n",
       "      <td>500</td>\n",
       "      <td>muzi</td>\n",
       "      <td>music</td>\n",
       "      <td>3</td>\n",
       "      <td>500muzi</td>\n",
       "      <td>500music</td>\n",
       "      <td>5003</td>\n",
       "      <td>muzimusic</td>\n",
       "      <td>muzi3</td>\n",
       "      <td>music3</td>\n",
       "      <td>500muzimusic</td>\n",
       "      <td>500muzi3</td>\n",
       "      <td>500music3</td>\n",
       "      <td>muzimusic3</td>\n",
       "      <td>500muzimusic3</td>\n",
       "    </tr>\n",
       "    <tr>\n",
       "      <th>5</th>\n",
       "      <td>600</td>\n",
       "      <td>apeach</td>\n",
       "      <td>music</td>\n",
       "      <td>2</td>\n",
       "      <td>600apeach</td>\n",
       "      <td>600music</td>\n",
       "      <td>6002</td>\n",
       "      <td>apeachmusic</td>\n",
       "      <td>apeach2</td>\n",
       "      <td>music2</td>\n",
       "      <td>600apeachmusic</td>\n",
       "      <td>600apeach2</td>\n",
       "      <td>600music2</td>\n",
       "      <td>apeachmusic2</td>\n",
       "      <td>600apeachmusic2</td>\n",
       "    </tr>\n",
       "  </tbody>\n",
       "</table>\n",
       "</div>"
      ],
      "text/plain": [
       "  data[0] data[1]   data[2] data[3] data[0] + data[1] data[0] + data[2]  \\\n",
       "0     100    ryan     music       2           100ryan          100music   \n",
       "1     200  apeach      math       2         200apeach           200math   \n",
       "2     300    tube  computer       3           300tube       300computer   \n",
       "3     400     con  computer       4            400con       400computer   \n",
       "4     500    muzi     music       3           500muzi          500music   \n",
       "5     600  apeach     music       2         600apeach          600music   \n",
       "\n",
       "  data[0] + data[3] data[1] + data[2] data[1] + data[3] data[2] + data[3]  \\\n",
       "0              1002         ryanmusic             ryan2            music2   \n",
       "1              2002        apeachmath           apeach2             math2   \n",
       "2              3003      tubecomputer             tube3         computer3   \n",
       "3              4004       concomputer              con4         computer4   \n",
       "4              5003         muzimusic             muzi3            music3   \n",
       "5              6002       apeachmusic           apeach2            music2   \n",
       "\n",
       "  data[0] + data[1] + data[2] data[0] + data[1] + data[3]  \\\n",
       "0                100ryanmusic                    100ryan2   \n",
       "1               200apeachmath                  200apeach2   \n",
       "2             300tubecomputer                    300tube3   \n",
       "3              400concomputer                     400con4   \n",
       "4                500muzimusic                    500muzi3   \n",
       "5              600apeachmusic                  600apeach2   \n",
       "\n",
       "  data[0] + data[2] + data[3] data[1] + data[2] + data[3]  \\\n",
       "0                   100music2                  ryanmusic2   \n",
       "1                    200math2                 apeachmath2   \n",
       "2                300computer3               tubecomputer3   \n",
       "3                400computer4                concomputer4   \n",
       "4                   500music3                  muzimusic3   \n",
       "5                   600music2                apeachmusic2   \n",
       "\n",
       "  data[0] + data[1] + data[2] + data[3]  \n",
       "0                         100ryanmusic2  \n",
       "1                        200apeachmath2  \n",
       "2                      300tubecomputer3  \n",
       "3                       400concomputer4  \n",
       "4                         500muzimusic3  \n",
       "5                       600apeachmusic2  "
      ]
     },
     "execution_count": 39,
     "metadata": {},
     "output_type": "execute_result"
    }
   ],
   "source": [
    "import pandas as pd\n",
    "from itertools import combinations\n",
    "\n",
    "l = [\n",
    "    ['100','ryan','music','2'],\n",
    "    ['200','apeach','math','2'],\n",
    "    ['300','tube','computer','3'],\n",
    "    ['400','con','computer','4'],\n",
    "    ['500','muzi','music','3'],\n",
    "    ['600','apeach','music','2']\n",
    "]\n",
    "\n",
    "colname = range(len(l[0]))\n",
    "\n",
    "data = pd.DataFrame(l)\n",
    "data_ = pd.DataFrame()\n",
    "\n",
    "유일성만족리스트 = []\n",
    "모든이름의조합 = []\n",
    "\n",
    "for 조합수 in range(1, len(colname)+1):\n",
    "    컬럼이름의조합 = combinations(colname, 조합수)\n",
    "    모든이름의조합.append(list(컬럼이름의조합))\n",
    "    \n",
    "for 이름조합 in 모든이름의조합:\n",
    "    for 컬럼명 in 이름조합:\n",
    "        if len(컬럼명) == 1:\n",
    "            data_[f'data[{컬럼명[0]}]'] = data[컬럼명[0]]\n",
    "        elif len(컬럼명) == 2:\n",
    "            data_[f'data[{컬럼명[0]}] + data[{컬럼명[1]}]'] = data[컬럼명[0]] + data[컬럼명[1]]\n",
    "        elif len(컬럼명) == 3:\n",
    "            data_[f'data[{컬럼명[0]}] + data[{컬럼명[1]}] + data[{컬럼명[2]}]'] = data[컬럼명[0]] + data[컬럼명[1]] + data[컬럼명[2]]\n",
    "        elif len(컬럼명) == 4:\n",
    "            data_[f'data[{컬럼명[0]}] + data[{컬럼명[1]}] + data[{컬럼명[2]}] + data[{컬럼명[3]}]'] = data[컬럼명[0]] + data[컬럼명[1]] + data[컬럼명[2]] + data[컬럼명[3]]\n",
    "        \n",
    "data_"
   ]
  },
  {
   "cell_type": "code",
   "execution_count": 40,
   "id": "a034e47a",
   "metadata": {},
   "outputs": [
    {
     "data": {
      "text/plain": [
       "['data[0]',\n",
       " 'data[0] + data[1]',\n",
       " 'data[0] + data[2]',\n",
       " 'data[0] + data[3]',\n",
       " 'data[1] + data[2]',\n",
       " 'data[0] + data[1] + data[2]',\n",
       " 'data[0] + data[1] + data[3]',\n",
       " 'data[0] + data[2] + data[3]',\n",
       " 'data[1] + data[2] + data[3]',\n",
       " 'data[0] + data[1] + data[2] + data[3]']"
      ]
     },
     "execution_count": 40,
     "metadata": {},
     "output_type": "execute_result"
    }
   ],
   "source": [
    "인덱스 = data_.columns\n",
    "유일성만족리스트 = []\n",
    "\n",
    "for i in 인덱스:\n",
    "    if len(data_[i]) == len(data_[i].value_counts()): # 유일성 판별\n",
    "        유일성만족리스트.append(i)\n",
    "        \n",
    "유일성만족리스트"
   ]
  },
  {
   "cell_type": "code",
   "execution_count": 41,
   "id": "b17e4a4f",
   "metadata": {},
   "outputs": [
    {
     "data": {
      "text/plain": [
       "['data[0]', '!', '!', '!', 'data[1] + data[2]', '!', '!', '!', '!', '!']"
      ]
     },
     "execution_count": 41,
     "metadata": {},
     "output_type": "execute_result"
    }
   ],
   "source": [
    "for i in range(len(유일성만족리스트)):\n",
    "    for j in range(i+1, len(유일성만족리스트)):\n",
    "        if 유일성만족리스트[i] in 유일성만족리스트[j]:\n",
    "            유일성만족리스트[j] = '!'\n",
    "            \n",
    "유일성만족리스트"
   ]
  },
  {
   "cell_type": "code",
   "execution_count": 42,
   "id": "81c32313",
   "metadata": {},
   "outputs": [
    {
     "data": {
      "text/plain": [
       "2"
      ]
     },
     "execution_count": 42,
     "metadata": {},
     "output_type": "execute_result"
    }
   ],
   "source": [
    "len(유일성만족리스트) - 유일성만족리스트.count('!')"
   ]
  },
  {
   "cell_type": "markdown",
   "id": "8a8feac1",
   "metadata": {},
   "source": [
    "### 전체 코드"
   ]
  },
  {
   "cell_type": "code",
   "execution_count": 11,
   "id": "366e73dd",
   "metadata": {},
   "outputs": [],
   "source": [
    "import pandas as pd\n",
    "from itertools import combinations\n",
    "    \n",
    "def solution(l):\n",
    "    colname = range(len(l[0]))\n",
    "\n",
    "    data = pd.DataFrame(l)\n",
    "    data_ = pd.DataFrame()\n",
    "\n",
    "    유일성만족리스트 = []\n",
    "    모든이름의조합 = []\n",
    "\n",
    "    for 조합수 in range(1, len(colname)+1):\n",
    "        컬럼이름의조합 = combinations(colname, 조합수)\n",
    "        모든이름의조합.append(list(컬럼이름의조합))\n",
    "\n",
    "    for 이름조합 in 모든이름의조합:\n",
    "        for 컬럼명 in 이름조합:\n",
    "            if len(컬럼명) == 1:\n",
    "                data_[f'data[{컬럼명[0]}]'] = data[컬럼명[0]]\n",
    "            elif len(컬럼명) == 2:\n",
    "                data_[f'data[{컬럼명[0]}] + data[{컬럼명[1]}]'] = data[컬럼명[0]] + data[컬럼명[1]]\n",
    "            elif len(컬럼명) == 3:\n",
    "                data_[f'data[{컬럼명[0]}] + data[{컬럼명[1]}] + data[{컬럼명[2]}]'] = data[컬럼명[0]] + data[컬럼명[1]] + data[컬럼명[2]]\n",
    "            elif len(컬럼명) == 4:\n",
    "                data_[f'data[{컬럼명[0]}] + data[{컬럼명[1]}] + data[{컬럼명[2]}] + data[{컬럼명[3]}]'] = data[컬럼명[0]] + data[컬럼명[1]] + data[컬럼명[2]] + data[컬럼명[3]]\n",
    "            elif len(컬럼명) == 5:\n",
    "                data_[f'data[{컬럼명[0]}] + data[{컬럼명[1]}] + data[{컬럼명[2]}] + data[{컬럼명[3]}] + data[{컬럼명[4]}]'] = data[컬럼명[0]] + data[컬럼명[1]] + data[컬럼명[2]] + data[컬럼명[3]] + data[컬럼명[4]]\n",
    "            elif len(컬럼명) == 6:\n",
    "                data_[f'data[{컬럼명[0]}] + data[{컬럼명[1]}] + data[{컬럼명[2]}] + data[{컬럼명[3]}] + data[{컬럼명[4]}] + data[{컬럼명[5]}]'] = data[컬럼명[0]] + data[컬럼명[1]] + data[컬럼명[2]] + data[컬럼명[3]] + data[컬럼명[4]] + data[컬럼명[5]]\n",
    "            elif len(컬럼명) == 7:\n",
    "                data_[f'data[{컬럼명[0]}] + data[{컬럼명[1]}] + data[{컬럼명[2]}] + data[{컬럼명[3]}] + data[{컬럼명[4]}] + data[{컬럼명[5]}] + data[{컬럼명[6]}]'] = data[컬럼명[0]] + data[컬럼명[1]] + data[컬럼명[2]] + data[컬럼명[3]] + data[컬럼명[4]] + data[컬럼명[5]] + data[컬럼명[6]]\n",
    "            elif len(컬럼명) == 8:\n",
    "                data_[f'data[{컬럼명[0]}] + data[{컬럼명[1]}] + data[{컬럼명[2]}] + data[{컬럼명[3]}] + data[{컬럼명[4]}] + data[{컬럼명[5]}] + data[{컬럼명[6]}] + data[{컬럼명[7]}]'] = data[컬럼명[0]] + data[컬럼명[1]] + data[컬럼명[2]] + data[컬럼명[3]] + data[컬럼명[4]] + data[컬럼명[5]] + data[컬럼명[6]] + data[컬럼명[7]]\n",
    "\n",
    "\n",
    "    인덱스 = data_.columns\n",
    "    유일성만족리스트 = []\n",
    "\n",
    "    for i in 인덱스:\n",
    "        if len(data_[i]) == len(data_[i].value_counts()): # 유일성 판별\n",
    "            유일성만족리스트.append(i)\n",
    "\n",
    "    for i in range(len(유일성만족리스트)):\n",
    "        for j in range(i+1, len(유일성만족리스트)):\n",
    "            if all(요소 in 유일성만족리스트[j].split(' + ') for 요소 in 유일성만족리스트[i].split(' + ')):\n",
    "                유일성만족리스트[j] = '!'\n",
    "    \n",
    "    return len(유일성만족리스트) - 유일성만족리스트.count('!')"
   ]
  },
  {
   "cell_type": "code",
   "execution_count": 8,
   "id": "d843d6be",
   "metadata": {},
   "outputs": [
    {
     "data": {
      "text/plain": [
       "False"
      ]
     },
     "execution_count": 8,
     "metadata": {},
     "output_type": "execute_result"
    }
   ],
   "source": [
    "all(요소 in 'data[1] + data[2]'.split(' + ') for 요소 in 'data[0] + data[3]'.split(' + '))"
   ]
  },
  {
   "cell_type": "code",
   "execution_count": null,
   "id": "17183879",
   "metadata": {},
   "outputs": [],
   "source": []
  }
 ],
 "metadata": {
  "kernelspec": {
   "display_name": "Python 3 (ipykernel)",
   "language": "python",
   "name": "python3"
  },
  "language_info": {
   "codemirror_mode": {
    "name": "ipython",
    "version": 3
   },
   "file_extension": ".py",
   "mimetype": "text/x-python",
   "name": "python",
   "nbconvert_exporter": "python",
   "pygments_lexer": "ipython3",
   "version": "3.9.7"
  }
 },
 "nbformat": 4,
 "nbformat_minor": 5
}
