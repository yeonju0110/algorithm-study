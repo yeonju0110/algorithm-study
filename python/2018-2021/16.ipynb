{
 "cells": [
  {
   "cell_type": "markdown",
   "id": "3f175ea0",
   "metadata": {},
   "source": [
    "## 16. 메뉴 리뉴얼 (정답률: 25.4%)\n",
    "- 문제: https://school.programmers.co.kr/learn/courses/30/lessons/72411"
   ]
  },
  {
   "cell_type": "code",
   "execution_count": 8,
   "id": "ba008ddd",
   "metadata": {},
   "outputs": [
    {
     "data": {
      "text/plain": [
       "[('A', 'B', 'C'),\n",
       " ('A', 'B', 'F'),\n",
       " ('A', 'B', 'G'),\n",
       " ('A', 'B', 'K'),\n",
       " ('A', 'C', 'F'),\n",
       " ('A', 'C', 'G'),\n",
       " ('A', 'C', 'K'),\n",
       " ('A', 'F', 'G'),\n",
       " ('A', 'F', 'K'),\n",
       " ('A', 'G', 'K'),\n",
       " ('B', 'C', 'F'),\n",
       " ('B', 'C', 'G'),\n",
       " ('B', 'C', 'K'),\n",
       " ('B', 'F', 'G'),\n",
       " ('B', 'F', 'K'),\n",
       " ('B', 'G', 'K'),\n",
       " ('C', 'F', 'G'),\n",
       " ('C', 'F', 'K'),\n",
       " ('C', 'G', 'K'),\n",
       " ('F', 'G', 'K')]"
      ]
     },
     "execution_count": 8,
     "metadata": {},
     "output_type": "execute_result"
    }
   ],
   "source": [
    "import itertools\n",
    "\n",
    "test = [\"KABCFG\", \"AC\", \"CDE\", \"ACDE\", \"BCFG\", \"ACDEH\"]\n",
    "test = [sorted(i) for i in test]\n",
    "test\n",
    "\n",
    "전체조합 = []\n",
    "\n",
    "list(itertools.combinations(test[0], 1))\n",
    "list(itertools.combinations(test[0], 2))\n",
    "list(itertools.combinations(test[0], 3))"
   ]
  },
  {
   "cell_type": "code",
   "execution_count": 11,
   "id": "a07f6990",
   "metadata": {},
   "outputs": [
    {
     "name": "stdout",
     "output_type": "stream",
     "text": [
      "x: ['Jo', 'Yeon', 'Ju', ['Song', 'Chae']]\n",
      "x: ['Jo', 'Yeon', 'Ju', 'Song', 'Chae']\n"
     ]
    }
   ],
   "source": [
    "x = ['Jo', 'Yeon', 'Ju']\n",
    "y = ['Song', 'Chae']\n",
    "x.append(y)\n",
    "print('x:', x) # x: ['Jo', 'Yeon', 'Ju', ['Song', 'Chae']]\n",
    "\n",
    "x = ['Jo', 'Yeon', 'Ju']\n",
    "y = ['Song', 'Chae']\n",
    "x.extend(y)\n",
    "print('x:', x) # x: ['Jo', 'Yeon', 'Ju', 'Song', 'Chae']"
   ]
  },
  {
   "cell_type": "code",
   "execution_count": 16,
   "id": "2ec77980",
   "metadata": {},
   "outputs": [
    {
     "data": {
      "text/plain": [
       "[('A',),\n",
       " ('B',),\n",
       " ('C',),\n",
       " ('F',),\n",
       " ('G',),\n",
       " ('K',),\n",
       " ('A', 'B'),\n",
       " ('A', 'C'),\n",
       " ('A', 'F'),\n",
       " ('A', 'G'),\n",
       " ('A', 'K'),\n",
       " ('B', 'C'),\n",
       " ('B', 'F'),\n",
       " ('B', 'G'),\n",
       " ('B', 'K'),\n",
       " ('C', 'F'),\n",
       " ('C', 'G'),\n",
       " ('C', 'K'),\n",
       " ('F', 'G'),\n",
       " ('F', 'K'),\n",
       " ('G', 'K'),\n",
       " ('A', 'B', 'C'),\n",
       " ('A', 'B', 'F'),\n",
       " ('A', 'B', 'G'),\n",
       " ('A', 'B', 'K'),\n",
       " ('A', 'C', 'F'),\n",
       " ('A', 'C', 'G'),\n",
       " ('A', 'C', 'K'),\n",
       " ('A', 'F', 'G'),\n",
       " ('A', 'F', 'K'),\n",
       " ('A', 'G', 'K'),\n",
       " ('B', 'C', 'F'),\n",
       " ('B', 'C', 'G'),\n",
       " ('B', 'C', 'K'),\n",
       " ('B', 'F', 'G'),\n",
       " ('B', 'F', 'K'),\n",
       " ('B', 'G', 'K'),\n",
       " ('C', 'F', 'G'),\n",
       " ('C', 'F', 'K'),\n",
       " ('C', 'G', 'K'),\n",
       " ('F', 'G', 'K'),\n",
       " ('A', 'B', 'C', 'F'),\n",
       " ('A', 'B', 'C', 'G'),\n",
       " ('A', 'B', 'C', 'K'),\n",
       " ('A', 'B', 'F', 'G'),\n",
       " ('A', 'B', 'F', 'K'),\n",
       " ('A', 'B', 'G', 'K'),\n",
       " ('A', 'C', 'F', 'G'),\n",
       " ('A', 'C', 'F', 'K'),\n",
       " ('A', 'C', 'G', 'K'),\n",
       " ('A', 'F', 'G', 'K'),\n",
       " ('B', 'C', 'F', 'G'),\n",
       " ('B', 'C', 'F', 'K'),\n",
       " ('B', 'C', 'G', 'K'),\n",
       " ('B', 'F', 'G', 'K'),\n",
       " ('C', 'F', 'G', 'K'),\n",
       " ('A', 'B', 'C', 'F', 'G'),\n",
       " ('A', 'B', 'C', 'F', 'K'),\n",
       " ('A', 'B', 'C', 'G', 'K'),\n",
       " ('A', 'B', 'F', 'G', 'K'),\n",
       " ('A', 'C', 'F', 'G', 'K'),\n",
       " ('B', 'C', 'F', 'G', 'K'),\n",
       " ('A', 'B', 'C', 'F', 'G', 'K'),\n",
       " ('A',),\n",
       " ('C',),\n",
       " ('A', 'C'),\n",
       " ('C',),\n",
       " ('D',),\n",
       " ('E',),\n",
       " ('C', 'D'),\n",
       " ('C', 'E'),\n",
       " ('D', 'E'),\n",
       " ('C', 'D', 'E'),\n",
       " ('A',),\n",
       " ('C',),\n",
       " ('D',),\n",
       " ('E',),\n",
       " ('A', 'C'),\n",
       " ('A', 'D'),\n",
       " ('A', 'E'),\n",
       " ('C', 'D'),\n",
       " ('C', 'E'),\n",
       " ('D', 'E'),\n",
       " ('A', 'C', 'D'),\n",
       " ('A', 'C', 'E'),\n",
       " ('A', 'D', 'E'),\n",
       " ('C', 'D', 'E'),\n",
       " ('A', 'C', 'D', 'E'),\n",
       " ('B',),\n",
       " ('C',),\n",
       " ('F',),\n",
       " ('G',),\n",
       " ('B', 'C'),\n",
       " ('B', 'F'),\n",
       " ('B', 'G'),\n",
       " ('C', 'F'),\n",
       " ('C', 'G'),\n",
       " ('F', 'G'),\n",
       " ('B', 'C', 'F'),\n",
       " ('B', 'C', 'G'),\n",
       " ('B', 'F', 'G'),\n",
       " ('C', 'F', 'G'),\n",
       " ('B', 'C', 'F', 'G'),\n",
       " ('A',),\n",
       " ('C',),\n",
       " ('D',),\n",
       " ('E',),\n",
       " ('H',),\n",
       " ('A', 'C'),\n",
       " ('A', 'D'),\n",
       " ('A', 'E'),\n",
       " ('A', 'H'),\n",
       " ('C', 'D'),\n",
       " ('C', 'E'),\n",
       " ('C', 'H'),\n",
       " ('D', 'E'),\n",
       " ('D', 'H'),\n",
       " ('E', 'H'),\n",
       " ('A', 'C', 'D'),\n",
       " ('A', 'C', 'E'),\n",
       " ('A', 'C', 'H'),\n",
       " ('A', 'D', 'E'),\n",
       " ('A', 'D', 'H'),\n",
       " ('A', 'E', 'H'),\n",
       " ('C', 'D', 'E'),\n",
       " ('C', 'D', 'H'),\n",
       " ('C', 'E', 'H'),\n",
       " ('D', 'E', 'H'),\n",
       " ('A', 'C', 'D', 'E'),\n",
       " ('A', 'C', 'D', 'H'),\n",
       " ('A', 'C', 'E', 'H'),\n",
       " ('A', 'D', 'E', 'H'),\n",
       " ('C', 'D', 'E', 'H'),\n",
       " ('A', 'C', 'D', 'E', 'H')]"
      ]
     },
     "execution_count": 16,
     "metadata": {},
     "output_type": "execute_result"
    }
   ],
   "source": [
    "import itertools\n",
    "\n",
    "test = [\"KABCFG\", \"AC\", \"CDE\", \"ACDE\", \"BCFG\", \"ACDEH\"]\n",
    "test = [sorted(i) for i in test]\n",
    "전체조합 = []\n",
    "\n",
    "for i in test:\n",
    "    for j in range(1, len(i) + 1):\n",
    "        전체조합.extend(list(itertools.combinations(i, j)))\n",
    "\n",
    "전체조합"
   ]
  },
  {
   "cell_type": "code",
   "execution_count": 18,
   "id": "9f179323",
   "metadata": {},
   "outputs": [
    {
     "data": {
      "text/plain": [
       "4"
      ]
     },
     "execution_count": 18,
     "metadata": {},
     "output_type": "execute_result"
    }
   ],
   "source": [
    "import itertools\n",
    "from collections import Counter\n",
    "\n",
    "test = [\"KABCFG\", \"AC\", \"CDE\", \"ACDE\", \"BCFG\", \"ACDEH\"]\n",
    "test = [sorted(i) for i in test]\n",
    "전체조합 = []\n",
    "\n",
    "for i in test:\n",
    "    for j in range(1, len(i) + 1):\n",
    "        전체조합.extend(list(itertools.combinations(i, j)))\n",
    "\n",
    "Counter(전체조합)\n",
    "Counter(전체조합)[('A',)]"
   ]
  },
  {
   "cell_type": "code",
   "execution_count": 24,
   "id": "9e4eb758",
   "metadata": {},
   "outputs": [
    {
     "data": {
      "text/plain": [
       "['AC', 'ACDE', 'BCFG', 'CDE']"
      ]
     },
     "execution_count": 24,
     "metadata": {},
     "output_type": "execute_result"
    }
   ],
   "source": [
    "import itertools\n",
    "from collections import Counter\n",
    "\n",
    "def solution(orders, course):\n",
    "    answer = []\n",
    "    orders = [sorted(i) for i in orders]\n",
    "    \n",
    "    for 조합수 in course:\n",
    "        전체조합 = []\n",
    "        for 메뉴 in orders:\n",
    "            전체조합.extend(list(itertools.combinations(메뉴, 조합수)))\n",
    "            \n",
    "        전체조합 = Counter(전체조합)\n",
    "        if len(전체조합) != 0 and max(전체조합.values()) != 1:\n",
    "            for 개별조합 in 전체조합:\n",
    "                if 전체조합[개별조합] == max(전체조합.values()):\n",
    "                    answer.append(''.join(개별조합))\n",
    "                \n",
    "    return sorted(answer)\n",
    "\n",
    "solution([\"KABCFG\", \"AC\", \"CDE\", \"ACDE\", \"BCFG\", \"ACDEH\"], [2, 3, 4])"
   ]
  },
  {
   "cell_type": "code",
   "execution_count": null,
   "id": "5aab2d18",
   "metadata": {},
   "outputs": [],
   "source": []
  }
 ],
 "metadata": {
  "kernelspec": {
   "display_name": "Python 3 (ipykernel)",
   "language": "python",
   "name": "python3"
  },
  "language_info": {
   "codemirror_mode": {
    "name": "ipython",
    "version": 3
   },
   "file_extension": ".py",
   "mimetype": "text/x-python",
   "name": "python",
   "nbconvert_exporter": "python",
   "pygments_lexer": "ipython3",
   "version": "3.9.7"
  }
 },
 "nbformat": 4,
 "nbformat_minor": 5
}
