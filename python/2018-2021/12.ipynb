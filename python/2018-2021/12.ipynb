{
 "cells": [
  {
   "cell_type": "markdown",
   "id": "6bc13e70",
   "metadata": {},
   "source": [
    "## 12. 무지의 먹방 라이브 (정답률: 정확성 42.08% / 효율성 5.52%)\n",
    "- 문제: https://school.programmers.co.kr/learn/courses/30/lessons/42891"
   ]
  },
  {
   "cell_type": "code",
   "execution_count": 1,
   "id": "16ec226a",
   "metadata": {},
   "outputs": [
    {
     "data": {
      "text/plain": [
       "deque(['a', 'b', 'c', 'd', 'e'])"
      ]
     },
     "execution_count": 1,
     "metadata": {},
     "output_type": "execute_result"
    }
   ],
   "source": [
    "from collections import deque\n",
    "\n",
    "deq = deque('abcde')\n",
    "deq"
   ]
  },
  {
   "cell_type": "code",
   "execution_count": 7,
   "id": "6a97c942",
   "metadata": {},
   "outputs": [
    {
     "data": {
      "text/plain": [
       "deque(['e', 'a', 'b', 'c', 'd'])"
      ]
     },
     "execution_count": 7,
     "metadata": {},
     "output_type": "execute_result"
    }
   ],
   "source": [
    "deq.rotate(1)\n",
    "deq"
   ]
  },
  {
   "cell_type": "code",
   "execution_count": 10,
   "id": "3d452425",
   "metadata": {},
   "outputs": [
    {
     "name": "stdout",
     "output_type": "stream",
     "text": [
      "[ True  True  True False False  True  True  True False False  True  True\n",
      "  True False False  True  True  True False False  True  True  True False\n",
      " False  True  True  True False False  True  True False False False  True\n",
      "  True False False False  True  True False False False  True  True False\n",
      " False False  True  True False False False]\n"
     ]
    }
   ],
   "source": [
    "import numpy as np\n",
    "\n",
    "def solution(food_times, k):\n",
    "    if sum(food_times) <= k:\n",
    "        return -1\n",
    "    \n",
    "    길이 = len(food_times)\n",
    "    \n",
    "    table = food_times.copy()\n",
    "    \n",
    "    food_times = np.array(food_times)\n",
    "    table = np.array(table)\n",
    "    \n",
    "    for i in range(k):\n",
    "        food_times -= 1\n",
    "        table = np.r_[table, food_times]\n",
    "    \n",
    "    table_bool = table > 0\n",
    "    print(table_bool)\n",
    "    \n",
    "solution([1006, 96, 6, 0, 0], 10)"
   ]
  },
  {
   "cell_type": "code",
   "execution_count": 11,
   "id": "acfd3451",
   "metadata": {},
   "outputs": [
    {
     "data": {
      "text/plain": [
       "[25, 5, 0]"
      ]
     },
     "execution_count": 11,
     "metadata": {},
     "output_type": "execute_result"
    }
   ],
   "source": [
    "[30, 10, 4]\n",
    "[29, 9, 3]\n",
    "[28, 8, 2]\n",
    "[27, 7, 1]\n",
    "[26, 6, 0]\n",
    "[25, 5, 0]"
   ]
  },
  {
   "cell_type": "code",
   "execution_count": 14,
   "id": "f8959e81",
   "metadata": {},
   "outputs": [
    {
     "data": {
      "text/plain": [
       "[26, 6, 0]"
      ]
     },
     "execution_count": 14,
     "metadata": {},
     "output_type": "execute_result"
    }
   ],
   "source": [
    "# 리스트 안에 가장 작은 값으로 빼주기 => 이 방법도 효율성 통과 못함\n",
    "[30, 10, 4]\n",
    "[26, 6, 0]"
   ]
  },
  {
   "cell_type": "code",
   "execution_count": 16,
   "id": "bc68dc9d",
   "metadata": {},
   "outputs": [
    {
     "data": {
      "text/plain": [
       "[21, 1, 0, 0]"
      ]
     },
     "execution_count": 16,
     "metadata": {},
     "output_type": "execute_result"
    }
   ],
   "source": [
    "# k = 30 / 길이 4 / 나머지 2 => 30/4 = 7 => 7로 빼주기\n",
    "[30, 10, 4, 1] # 빼기 7\n",
    "[23, 3, -3, 0] # 마이너스 값을 나머지와 합산(3+2)해서, k값으로 바꿔줌\n",
    "[23, 3, 0, 0]\n",
    "\n",
    "# k = 5 (기존 나머지에 마이너스 값을 누적) / 길이 2(0의 값을 제외한) / 나머지 1\n",
    "[23, 3, 0, 0]\n",
    "[21, 1, 0, 0]\n",
    "\n",
    "    # k = 1 (기존 나머지에 마이너스 값을 누적) / 길이 2(0의 값을 제외한)\n",
    "    [21, 1, 0, 0]"
   ]
  },
  {
   "cell_type": "code",
   "execution_count": 30,
   "id": "2724727a",
   "metadata": {},
   "outputs": [
    {
     "data": {
      "text/plain": [
       "1"
      ]
     },
     "execution_count": 30,
     "metadata": {},
     "output_type": "execute_result"
    }
   ],
   "source": [
    "def solution(food_times, k):\n",
    "    answer = 0\n",
    "    \n",
    "    while k >= 0:\n",
    "        if sum(food_times) <= k:\n",
    "            return -1\n",
    "\n",
    "        영외에남은테이블 = len(food_times) - food_times.count(0)\n",
    "        회전수 = k // 영외에남은테이블\n",
    "        회전한나머지수 = k % 영외에남은테이블\n",
    "\n",
    "        for 인덱스, 값 in enumerate(food_times):\n",
    "            if food_times[인덱스] != 0:\n",
    "                food_times[인덱스] = 값 - 회전수\n",
    "                if food_times[인덱스] < 0:\n",
    "                    회전한나머지수 -= food_times[인덱스]\n",
    "                    food_times[인덱스] = 0\n",
    "\n",
    "        k = 회전한나머지수\n",
    "\n",
    "        영외에남은테이블 = len(food_times) - food_times.count(0)\n",
    "        if k + 1 <= 영외에남은테이블:\n",
    "            for i in food_times:\n",
    "                answer += 1\n",
    "                if i != 0: k -= 1\n",
    "                if k == -1: return answer\n",
    "    \n",
    "solution([10, 1, 30, 1000], 10)"
   ]
  },
  {
   "cell_type": "code",
   "execution_count": null,
   "id": "3e261834",
   "metadata": {},
   "outputs": [],
   "source": []
  }
 ],
 "metadata": {
  "kernelspec": {
   "display_name": "Python 3 (ipykernel)",
   "language": "python",
   "name": "python3"
  },
  "language_info": {
   "codemirror_mode": {
    "name": "ipython",
    "version": 3
   },
   "file_extension": ".py",
   "mimetype": "text/x-python",
   "name": "python",
   "nbconvert_exporter": "python",
   "pygments_lexer": "ipython3",
   "version": "3.9.7"
  }
 },
 "nbformat": 4,
 "nbformat_minor": 5
}
