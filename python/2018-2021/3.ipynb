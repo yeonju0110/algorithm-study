{
 "cells": [
  {
   "cell_type": "markdown",
   "id": "c814326e",
   "metadata": {},
   "source": [
    "## 3 비밀지도 (난이도: 하)\n",
    "문제: https://tech.kakao.com/2017/09/27/kakao-blind-recruitment-round-1/"
   ]
  },
  {
   "cell_type": "code",
   "execution_count": 3,
   "id": "fd6225d3",
   "metadata": {},
   "outputs": [
    {
     "data": {
      "text/plain": [
       "'0b1001'"
      ]
     },
     "execution_count": 3,
     "metadata": {},
     "output_type": "execute_result"
    }
   ],
   "source": [
    "bin(9)"
   ]
  },
  {
   "cell_type": "code",
   "execution_count": 4,
   "id": "ba4e461f",
   "metadata": {},
   "outputs": [
    {
     "data": {
      "text/plain": [
       "'0b11110'"
      ]
     },
     "execution_count": 4,
     "metadata": {},
     "output_type": "execute_result"
    }
   ],
   "source": [
    "bin(30)"
   ]
  },
  {
   "cell_type": "code",
   "execution_count": 6,
   "id": "78f95fc0",
   "metadata": {},
   "outputs": [
    {
     "data": {
      "text/plain": [
       "'0b11111'"
      ]
     },
     "execution_count": 6,
     "metadata": {},
     "output_type": "execute_result"
    }
   ],
   "source": [
    "bin(9 | 30)"
   ]
  },
  {
   "cell_type": "code",
   "execution_count": 8,
   "id": "9d788ca6",
   "metadata": {},
   "outputs": [
    {
     "data": {
      "text/plain": [
       "'#####'"
      ]
     },
     "execution_count": 8,
     "metadata": {},
     "output_type": "execute_result"
    }
   ],
   "source": [
    "bin(9 | 30)[2:].replace('1', '#').replace('0', ' ')"
   ]
  },
  {
   "cell_type": "code",
   "execution_count": 21,
   "id": "7eea2678",
   "metadata": {},
   "outputs": [
    {
     "name": "stdout",
     "output_type": "stream",
     "text": [
      "#####\n",
      "# # #\n",
      "### #\n",
      "#  ##\n",
      "#####\n"
     ]
    }
   ],
   "source": [
    "arr1 = [9, 20, 28, 18, 11]\n",
    "arr2 = [30, 1, 21, 17, 28]\n",
    "n = 5\n",
    "\n",
    "for arr in zip(arr1,arr2):\n",
    "    print(bin(arr[0] | arr[1])[2:].replace('1', '#').replace('0', ' '))"
   ]
  },
  {
   "cell_type": "code",
   "execution_count": 23,
   "id": "a25d1fca",
   "metadata": {},
   "outputs": [
    {
     "name": "stdout",
     "output_type": "stream",
     "text": [
      "#####\n",
      "# # #\n",
      "### #\n",
      "#  ##\n",
      "#####\n"
     ]
    }
   ],
   "source": [
    "for i, j in zip(arr1, arr2):\n",
    "    print(bin(i | j)[2:].replace('1', '#').replace('0', ' '))"
   ]
  },
  {
   "cell_type": "markdown",
   "id": "3269b4af",
   "metadata": {},
   "source": [
    "- 주의: 자릿수가 안맞을때"
   ]
  },
  {
   "cell_type": "code",
   "execution_count": 24,
   "id": "148650f3",
   "metadata": {},
   "outputs": [],
   "source": [
    "# 3: 11\n",
    "# 5: 101\n",
    "#    ----\n",
    "#    111"
   ]
  },
  {
   "cell_type": "code",
   "execution_count": 26,
   "id": "ce038067",
   "metadata": {},
   "outputs": [
    {
     "name": "stdout",
     "output_type": "stream",
     "text": [
      "###\n",
      "# # #\n",
      "### #\n",
      "#  ##\n",
      "#####\n"
     ]
    }
   ],
   "source": [
    "arr1 = [3, 20, 28, 18, 11]\n",
    "arr2 = [5, 1, 21, 17, 28]\n",
    "n = 5\n",
    "\n",
    "for i, j in zip(arr1, arr2):\n",
    "    print(bin(i | j)[2:].replace('1', '#').replace('0', ' '))"
   ]
  },
  {
   "cell_type": "code",
   "execution_count": 28,
   "id": "9ac32950",
   "metadata": {},
   "outputs": [
    {
     "name": "stdout",
     "output_type": "stream",
     "text": [
      "  ###\n",
      "# # #\n",
      "### #\n",
      "#  ##\n",
      "#####\n"
     ]
    }
   ],
   "source": [
    "arr1 = [3, 20, 28, 18, 11]\n",
    "arr2 = [5, 1, 21, 17, 28]\n",
    "n = 5\n",
    "\n",
    "for i, j in zip(arr1, arr2):\n",
    "    print(bin(i | j)[2:].zfill(n).replace('1', '#').replace('0', ' '))"
   ]
  },
  {
   "cell_type": "code",
   "execution_count": 37,
   "id": "a6053553",
   "metadata": {},
   "outputs": [
    {
     "name": "stdout",
     "output_type": "stream",
     "text": [
      "['#####', '# # #', '### #', '#  ##', '#####']\n"
     ]
    }
   ],
   "source": [
    "def solution(n, arr1, arr2):\n",
    "    answer = []\n",
    "    for i, j in zip(arr1, arr2):\n",
    "        answer.append(bin(i | j)[2:].zfill(n).replace('1', '#').replace('0', ' '))\n",
    "    return answer\n",
    "\n",
    "testcase = [(5, [9, 20, 28, 18, 11], [30, 1, 21, 17, 28])]\n",
    "\n",
    "for i, j, k in testcase:\n",
    "    print(solution(i, j, k))"
   ]
  },
  {
   "cell_type": "code",
   "execution_count": null,
   "id": "3e0dcd19",
   "metadata": {},
   "outputs": [],
   "source": []
  }
 ],
 "metadata": {
  "kernelspec": {
   "display_name": "Python 3 (ipykernel)",
   "language": "python",
   "name": "python3"
  },
  "language_info": {
   "codemirror_mode": {
    "name": "ipython",
    "version": 3
   },
   "file_extension": ".py",
   "mimetype": "text/x-python",
   "name": "python",
   "nbconvert_exporter": "python",
   "pygments_lexer": "ipython3",
   "version": "3.9.7"
  }
 },
 "nbformat": 4,
 "nbformat_minor": 5
}
