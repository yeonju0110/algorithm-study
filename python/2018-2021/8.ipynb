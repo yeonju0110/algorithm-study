{
 "cells": [
  {
   "cell_type": "markdown",
   "id": "a7a04c38",
   "metadata": {},
   "source": [
    "## 8. 프렌즈4블록 (난이도: 상)\n",
    "- 문제: https://tech.kakao.com/2017/09/27/kakao-blind-recruitment-round-1/"
   ]
  },
  {
   "cell_type": "code",
   "execution_count": 1,
   "id": "58b52ae2",
   "metadata": {},
   "outputs": [
    {
     "data": {
      "text/plain": [
       "[['C', 'C', 'B', 'D', 'E'],\n",
       " ['A', 'A', 'A', 'D', 'E'],\n",
       " ['A', 'A', 'A', 'B', 'F'],\n",
       " ['C', 'C', 'B', 'B', 'F']]"
      ]
     },
     "execution_count": 1,
     "metadata": {},
     "output_type": "execute_result"
    }
   ],
   "source": [
    "[list(i) for i in ['CCBDE', 'AAADE', 'AAABF', 'CCBBF']]"
   ]
  },
  {
   "cell_type": "code",
   "execution_count": 23,
   "id": "cb4f5e1b",
   "metadata": {},
   "outputs": [
    {
     "data": {
      "text/plain": [
       "14"
      ]
     },
     "execution_count": 23,
     "metadata": {},
     "output_type": "execute_result"
    }
   ],
   "source": [
    "import numpy as np\n",
    "\n",
    "행 = 4\n",
    "열 = 5\n",
    "\n",
    "s = [list(i) for i in ['CCBDE', 'AAADE', 'AAABF', 'CCBBF']]\n",
    "s = np.array(s)\n",
    "\n",
    "캐릭터 = [chr(i) for i in range(65, 91)]\n",
    "\n",
    "\n",
    "while True:\n",
    "    지울값 = []\n",
    "\n",
    "    for i in range(행-1):\n",
    "        for j in range(열-1):\n",
    "            for k in 캐릭터:\n",
    "                if np.all(s[i:i+2, j:j+2] == k) == True:\n",
    "                    지울값.append([i, j])\n",
    "    \n",
    "    if not 지울값:\n",
    "        break\n",
    "\n",
    "    for i, j in 지울값:\n",
    "        s[i:i+2, j:j+2] = '_'\n",
    "        \n",
    "    for _ in range(행):\n",
    "        for j in range(열):\n",
    "            for i in range(1, 행):\n",
    "                if s[i, j] == '_':\n",
    "                    s[i, j], s[i-1, j] = s[i-1, j], '_'\n",
    "    \n",
    "(s == '_').sum()"
   ]
  },
  {
   "cell_type": "code",
   "execution_count": null,
   "id": "935d9e58",
   "metadata": {},
   "outputs": [],
   "source": []
  }
 ],
 "metadata": {
  "kernelspec": {
   "display_name": "Python 3 (ipykernel)",
   "language": "python",
   "name": "python3"
  },
  "language_info": {
   "codemirror_mode": {
    "name": "ipython",
    "version": 3
   },
   "file_extension": ".py",
   "mimetype": "text/x-python",
   "name": "python",
   "nbconvert_exporter": "python",
   "pygments_lexer": "ipython3",
   "version": "3.9.7"
  }
 },
 "nbformat": 4,
 "nbformat_minor": 5
}
