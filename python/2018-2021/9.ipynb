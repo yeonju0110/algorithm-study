{
 "cells": [
  {
   "cell_type": "markdown",
   "id": "3276417b",
   "metadata": {},
   "source": [
    "## 9. 오픈채팅방\n",
    "- 문제: https://school.programmers.co.kr/learn/courses/30/lessons/42888\n",
    "https://tech.kakao.com/2018/09/21/kakao-blind-recruitment-for2019-round-1/"
   ]
  },
  {
   "cell_type": "code",
   "execution_count": 13,
   "id": "8f1e8d4a",
   "metadata": {},
   "outputs": [
    {
     "name": "stdout",
     "output_type": "stream",
     "text": [
      "['Prodo님이 들어왔습니다.', 'Ryan님이 들어왔습니다.', 'Prodo님이 나갔습니다.', 'Prodo님이 들어왔습니다.']\n"
     ]
    }
   ],
   "source": [
    "def solution(record):\n",
    "    answer = []\n",
    "    user ={}\n",
    "    \n",
    "    for log in record:\n",
    "        logSplit = log.split(' ')\n",
    "        if logSplit[0] == 'Enter':\n",
    "            user[logSplit[1]] = logSplit[2]\n",
    "            answer.append([logSplit[1], '님이 들어왔습니다.'])\n",
    "        elif logSplit[0] == 'Leave':\n",
    "            answer.append([logSplit[1], '님이 나갔습니다.'])\n",
    "        elif logSplit[0] == 'Change':\n",
    "            user[logSplit[1]] = logSplit[2]\n",
    "\n",
    "    answer = [user[i[0]] + i[1] for i in answer]\n",
    "        \n",
    "    return answer\n",
    "\n",
    "testcase = [\n",
    "    \"Enter uid1234 Muzi\",\n",
    "    \"Enter uid4567 Prodo\",\n",
    "    \"Leave uid1234\",\n",
    "    \"Enter uid1234 Prodo\",\n",
    "    \"Change uid4567 Ryan\"\n",
    "]\n",
    "    \n",
    "print(solution(testcase))"
   ]
  },
  {
   "cell_type": "code",
   "execution_count": null,
   "id": "5a4a50bc",
   "metadata": {},
   "outputs": [],
   "source": []
  }
 ],
 "metadata": {
  "kernelspec": {
   "display_name": "Python 3 (ipykernel)",
   "language": "python",
   "name": "python3"
  },
  "language_info": {
   "codemirror_mode": {
    "name": "ipython",
    "version": 3
   },
   "file_extension": ".py",
   "mimetype": "text/x-python",
   "name": "python",
   "nbconvert_exporter": "python",
   "pygments_lexer": "ipython3",
   "version": "3.9.7"
  }
 },
 "nbformat": 4,
 "nbformat_minor": 5
}
