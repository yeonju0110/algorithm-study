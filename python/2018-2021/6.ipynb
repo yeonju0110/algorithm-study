{
 "cells": [
  {
   "cell_type": "markdown",
   "id": "d45a39fb",
   "metadata": {},
   "source": [
    "## 6. 셔틀버스 (난이도: 중)\n",
    "- 문제: https://tech.kakao.com/2017/09/27/kakao-blind-recruitment-round-1/"
   ]
  },
  {
   "cell_type": "code",
   "execution_count": 18,
   "id": "1fe5b884",
   "metadata": {},
   "outputs": [
    {
     "name": "stdout",
     "output_type": "stream",
     "text": [
      "09:00\n",
      "09:09\n",
      "08:59\n"
     ]
    }
   ],
   "source": [
    "def solution(n, t, m, timetable):\n",
    "    # timetable 정렬\n",
    "    timetable = sorted([int(i[:2]) * 60 + int(i[3:]) for i in timetable])\n",
    "    \n",
    "    콘의출근시간 = 540\n",
    "    셔틀버스시간 = 540\n",
    "    \n",
    "    for i in range(n):\n",
    "        for j in range(m):\n",
    "            if timetable and timetable[0] <= 셔틀버스시간:\n",
    "                콘의출근시간 = timetable.pop(0) - 1\n",
    "            else:\n",
    "                콘의출근시간 = 셔틀버스시간\n",
    "        셔틀버스시간 += t\n",
    "                \n",
    "    return f'{str(콘의출근시간//60).zfill(2)}:{str(콘의출근시간%60).zfill(2)}'\n",
    "\n",
    "testcase = [\n",
    "    (1, 1, 5, ['08:00', '08:01', '08:02', '08:03']),\n",
    "    (2, 10, 2, ['09:10', '09:09', '08:00']),\n",
    "    (1, 2, 1, ['09:00', '09:00', '09:00', '09:00'])\n",
    "]\n",
    "\n",
    "for n, t, m, timetable in testcase:\n",
    "    print(solution(n, t, m, timetable))"
   ]
  },
  {
   "cell_type": "code",
   "execution_count": null,
   "id": "dbce1d51",
   "metadata": {},
   "outputs": [],
   "source": []
  }
 ],
 "metadata": {
  "kernelspec": {
   "display_name": "Python 3 (ipykernel)",
   "language": "python",
   "name": "python3"
  },
  "language_info": {
   "codemirror_mode": {
    "name": "ipython",
    "version": 3
   },
   "file_extension": ".py",
   "mimetype": "text/x-python",
   "name": "python",
   "nbconvert_exporter": "python",
   "pygments_lexer": "ipython3",
   "version": "3.9.7"
  }
 },
 "nbformat": 4,
 "nbformat_minor": 5
}
