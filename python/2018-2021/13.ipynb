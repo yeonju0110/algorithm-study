{
 "cells": [
  {
   "cell_type": "markdown",
   "id": "5cdf7c01",
   "metadata": {},
   "source": [
    "## 13. 문자열 압축 (정답률: 25.9%)\n",
    "- 문제: https://school.programmers.co.kr/learn/courses/30/lessons/60057"
   ]
  },
  {
   "cell_type": "code",
   "execution_count": 5,
   "id": "e70622cf",
   "metadata": {},
   "outputs": [
    {
     "name": "stdout",
     "output_type": "stream",
     "text": [
      "['a', 'a', 'b', 'b', 'a', 'c', 'c', 'c']\n",
      "2a2b3c\n",
      "['aa', 'bb', 'ac', 'cc']\n",
      "\n",
      "['aab', 'bac']\n",
      "\n",
      "['aabb', 'accc']\n",
      "\n"
     ]
    }
   ],
   "source": [
    "import re\n",
    "\n",
    "s = 'aabbaccc'\n",
    "for i in range(1, len(s)//2+1): #절반보다 패턴이라는 의미 상실\n",
    "    패턴 = f'[a-z]{{{i}}}'\n",
    "    패턴 = re.compile(패턴)\n",
    "    print(패턴.findall(s))\n",
    "    압축문자열 = ''\n",
    "    잘려진문자열 = 패턴.findall(s)\n",
    "    count = 1\n",
    "    for i in range(len(잘려진문자열)-1):\n",
    "        if 잘려진문자열[i] == 잘려진문자열[i+1]:\n",
    "            count += 1\n",
    "        else:\n",
    "            if count > 1:\n",
    "                압축문자열 += f'{count}{잘려진문자열[i]}'\n",
    "            count = 1\n",
    "        if i == len(잘려진문자열)-2:\n",
    "            if count > 1:\n",
    "                압축문자열 += f'{count}{잘려진문자열[i]}'\n",
    "            else:\n",
    "                pass\n",
    "            \n",
    "    print(압축문자열)\n",
    "    "
   ]
  },
  {
   "cell_type": "code",
   "execution_count": 8,
   "id": "279f3597",
   "metadata": {},
   "outputs": [
    {
     "ename": "SyntaxError",
     "evalue": "invalid syntax (559753950.py, line 25)",
     "output_type": "error",
     "traceback": [
      "\u001b[0;36m  File \u001b[0;32m\"/var/folders/5b/w0h4h3hx0b13bntvxdvd_l040000gn/T/ipykernel_83707/559753950.py\"\u001b[0;36m, line \u001b[0;32m25\u001b[0m\n\u001b[0;31m    압축문자열 += s-[(len(s) % 슬라이스개수:)]\u001b[0m\n\u001b[0m                                ^\u001b[0m\n\u001b[0;31mSyntaxError\u001b[0m\u001b[0;31m:\u001b[0m invalid syntax\n"
     ]
    }
   ],
   "source": [
    "import re\n",
    "\n",
    "s = 'ababcdcdababcdcd'\n",
    "for 슬라이스개수 in range(1, len(s)//2+1): #절반보다 패턴이라는 의미 상실\n",
    "    패턴 = f'[a-z]{{{슬라이스개수}}}'\n",
    "    패턴 = re.compile(패턴)\n",
    "    print(패턴.findall(s))\n",
    "    압축문자열 = ''\n",
    "    잘려진문자열 = 패턴.findall(s)\n",
    "    count = 1\n",
    "    for i in range(len(잘려진문자열)-1):\n",
    "        if 잘려진문자열[i] == 잘려진문자열[i+1]:\n",
    "            count += 1\n",
    "        else:\n",
    "            if count > 1:\n",
    "                압축문자열 += f'{count}{잘려진문자열[i]}'\n",
    "            count = 1\n",
    "        if i == len(잘려진문자열)-2:\n",
    "            if count > 1:\n",
    "                압축문자열 += f'{count}{잘려진문자열[i]}'\n",
    "            else:\n",
    "                pass\n",
    "    \n",
    "    if len(s) % 슬라이스개수 != 0:\n",
    "        압축문자열 += s-[(len(s) % 슬라이스개수:)]\n",
    "            \n",
    "    print(압축문자열)\n",
    "    "
   ]
  },
  {
   "cell_type": "code",
   "execution_count": null,
   "id": "e3413529",
   "metadata": {},
   "outputs": [],
   "source": []
  }
 ],
 "metadata": {
  "kernelspec": {
   "display_name": "Python 3 (ipykernel)",
   "language": "python",
   "name": "python3"
  },
  "language_info": {
   "codemirror_mode": {
    "name": "ipython",
    "version": 3
   },
   "file_extension": ".py",
   "mimetype": "text/x-python",
   "name": "python",
   "nbconvert_exporter": "python",
   "pygments_lexer": "ipython3",
   "version": "3.9.7"
  }
 },
 "nbformat": 4,
 "nbformat_minor": 5
}
