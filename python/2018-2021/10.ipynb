{
 "cells": [
  {
   "cell_type": "markdown",
   "id": "b3942046",
   "metadata": {},
   "source": [
    "## 10. 실패율 (정답률: 55.57%)\n",
    "- 문제: https://school.programmers.co.kr/learn/courses/30/lessons/42889"
   ]
  },
  {
   "cell_type": "code",
   "execution_count": 20,
   "id": "4b566cc3",
   "metadata": {},
   "outputs": [
    {
     "name": "stdout",
     "output_type": "stream",
     "text": [
      "[3, 4, 2, 1, 5]\n"
     ]
    }
   ],
   "source": [
    "from collections import Counter\n",
    "\n",
    "def solution(스테이지수, 스테이지):\n",
    "    전체인원 = len(스테이지)\n",
    "    스테이지에_머물고_있는_사람 = Counter(스테이지)\n",
    "    \n",
    "    answer = {}\n",
    "    for i in range(1, 스테이지수+1):\n",
    "        answer[i] = 0\n",
    "        \n",
    "    for i in answer:\n",
    "        # 예외처리\n",
    "        if 스테이지에_머물고_있는_사람[i] != 0 and 전체인원 != 0:\n",
    "            answer[i] = 스테이지에_머물고_있는_사람[i]/전체인원\n",
    "            전체인원 -= 스테이지에_머물고_있는_사람[i]\n",
    "        else:\n",
    "            answer[i] = 0\n",
    "    \n",
    "    return sorted(answer, key=lambda x:answer[x],reverse=True)\n",
    "\n",
    "n, stages = 5, [2, 1, 2, 6, 2, 4, 3, 3]\n",
    "print(solution(n, stages))"
   ]
  },
  {
   "cell_type": "code",
   "execution_count": null,
   "id": "782b4b47",
   "metadata": {},
   "outputs": [],
   "source": []
  }
 ],
 "metadata": {
  "kernelspec": {
   "display_name": "Python 3 (ipykernel)",
   "language": "python",
   "name": "python3"
  },
  "language_info": {
   "codemirror_mode": {
    "name": "ipython",
    "version": 3
   },
   "file_extension": ".py",
   "mimetype": "text/x-python",
   "name": "python",
   "nbconvert_exporter": "python",
   "pygments_lexer": "ipython3",
   "version": "3.9.7"
  }
 },
 "nbformat": 4,
 "nbformat_minor": 5
}
