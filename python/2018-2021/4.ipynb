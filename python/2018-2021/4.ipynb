{
 "cells": [
  {
   "cell_type": "markdown",
   "id": "9cc04d3b",
   "metadata": {},
   "source": [
    "## 3번 다트게임\n",
    "- 문제: https://tech.kakao.com/2017/09/27/kakao-blind-recruitment-round-1/"
   ]
  },
  {
   "cell_type": "code",
   "execution_count": 2,
   "id": "5f13f18a",
   "metadata": {},
   "outputs": [],
   "source": [
    "def solution(dartResult):\n",
    "    점수 = []\n",
    "    for i in dartResult:\n",
    "        if i == 'S':\n",
    "            pass\n",
    "        if i == 'D':\n",
    "            pass\n",
    "        if i == 'T':\n",
    "            pass\n",
    "        if i == '*':\n",
    "            pass\n",
    "        if i == '#':\n",
    "            pass\n",
    "        else:\n",
    "            pass"
   ]
  },
  {
   "cell_type": "code",
   "execution_count": 18,
   "id": "c924b3b8",
   "metadata": {},
   "outputs": [
    {
     "name": "stdout",
     "output_type": "stream",
     "text": [
      "37\n",
      "9\n"
     ]
    }
   ],
   "source": [
    "def solution(dartResult):\n",
    "    answer = []\n",
    "    for num, i in enumerate(dartResult, 1):\n",
    "        if i == 'S':\n",
    "            answer[-1] **= 1\n",
    "        elif i == 'D':\n",
    "            answer[-1] **= 2\n",
    "        elif i == 'T':\n",
    "            answer[-1] **= 3\n",
    "        elif i == '*':\n",
    "            answer[-1] *= 2\n",
    "            if len(answer) == 2:\n",
    "                answer[-2] *= 2\n",
    "        elif i == '#':\n",
    "            answer[-1] *= -1\n",
    "        else:\n",
    "            if dartResult[num-1:num+1] == '10':\n",
    "                answer.append(10)\n",
    "            elif dartResult[num-2:num] != '10':\n",
    "                answer.append(int(i))\n",
    "            \n",
    "    return sum(answer)\n",
    "            \n",
    "print(solution('1S2D*3T'))\n",
    "print(solution('1D2S#10S'))"
   ]
  },
  {
   "cell_type": "code",
   "execution_count": 20,
   "id": "cc13ef0e",
   "metadata": {},
   "outputs": [
    {
     "data": {
      "text/plain": [
       "[('1', 'D', ''), ('2', 'S', '#'), ('10', 'S', '')]"
      ]
     },
     "execution_count": 20,
     "metadata": {},
     "output_type": "execute_result"
    }
   ],
   "source": [
    "import re\n",
    "\n",
    "testcase = ['1S2D*3T', '1D2S#10S']\n",
    "패턴 = re.compile(r'([0-9]|10)([SDT])([\\*\\#]?)')\n",
    "패턴.findall(testcase[1])"
   ]
  },
  {
   "cell_type": "code",
   "execution_count": 27,
   "id": "fc1f3f15",
   "metadata": {},
   "outputs": [
    {
     "name": "stdout",
     "output_type": "stream",
     "text": [
      "1 S \n",
      "2 D *\n",
      "3 T \n",
      "37\n",
      "1 D \n",
      "2 S #\n",
      "10 S \n",
      "9\n"
     ]
    }
   ],
   "source": [
    "import re\n",
    "\n",
    "def solution(dartResult):\n",
    "    패턴 = re.compile(r'([0-9]|10)([SDT])([\\*\\#]?)')\n",
    "    answer = []\n",
    "    계산식 = {\n",
    "        'S': lambda 값:값,\n",
    "        'D': lambda 값:값**2,\n",
    "        'T': lambda 값:값**3,\n",
    "    }\n",
    "    for 숫자, 승수, 상 in 패턴.findall(dartResult):\n",
    "        print(숫자, 승수, 상)\n",
    "        if 승수 == 'S':\n",
    "            점수 = 계산식['S'](int(숫자))\n",
    "        elif 승수 == 'D':\n",
    "            점수 = 계산식['D'](int(숫자))\n",
    "        elif 승수 == 'T':\n",
    "            점수 = 계산식['T'](int(숫자))\n",
    "            \n",
    "        if 상 == '*':\n",
    "            점수 *= 2\n",
    "            if answer:\n",
    "                answer[-1] *= 2\n",
    "        elif 상 == '#':\n",
    "            점수 *= -1\n",
    "        answer.append(점수)\n",
    "            \n",
    "    return sum(answer)\n",
    "            \n",
    "print(solution('1S2D*3T'))\n",
    "print(solution('1D2S#10S'))"
   ]
  },
  {
   "cell_type": "code",
   "execution_count": null,
   "id": "ba24335e",
   "metadata": {},
   "outputs": [],
   "source": []
  },
  {
   "cell_type": "code",
   "execution_count": null,
   "id": "76de6833",
   "metadata": {},
   "outputs": [],
   "source": []
  }
 ],
 "metadata": {
  "kernelspec": {
   "display_name": "Python 3 (ipykernel)",
   "language": "python",
   "name": "python3"
  },
  "language_info": {
   "codemirror_mode": {
    "name": "ipython",
    "version": 3
   },
   "file_extension": ".py",
   "mimetype": "text/x-python",
   "name": "python",
   "nbconvert_exporter": "python",
   "pygments_lexer": "ipython3",
   "version": "3.9.7"
  }
 },
 "nbformat": 4,
 "nbformat_minor": 5
}
