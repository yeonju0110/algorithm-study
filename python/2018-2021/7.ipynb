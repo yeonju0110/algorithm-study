{
 "cells": [
  {
   "cell_type": "markdown",
   "id": "c4420415",
   "metadata": {},
   "source": [
    "## 7. 뉴스 클러스터링 (난이도: 중)\n",
    "- 문제: https://tech.kakao.com/2017/09/27/kakao-blind-recruitment-round-1/"
   ]
  },
  {
   "cell_type": "code",
   "execution_count": 34,
   "id": "30d61998",
   "metadata": {},
   "outputs": [
    {
     "name": "stdout",
     "output_type": "stream",
     "text": [
      "16384\n",
      "65536\n",
      "43690\n",
      "65536\n"
     ]
    }
   ],
   "source": [
    "# 다중 집합으로 풀었을 때(collections counter를 사용하면 편리하게 풀 수 있음)\n",
    "\n",
    "import re\n",
    "\n",
    "def solution(str1, str2):\n",
    "    # \n",
    "    str1 = str1.lower()\n",
    "    str2 = str2.lower()\n",
    "    \n",
    "    str1List = []\n",
    "    str2List = []\n",
    "    \n",
    "    패턴 = re.compile(r'[a-z]{2}')\n",
    "    \n",
    "    for i in range(len(str1)-1):\n",
    "        문자열 = str1[i]+str1[i+1]\n",
    "        if 패턴.findall(문자열):\n",
    "            str1List.append(문자열)\n",
    "\n",
    "    for i in range(len(str2)-1):\n",
    "        문자열 = str2[i]+str2[i+1]\n",
    "        if 패턴.findall(문자열):\n",
    "            str2List.append(문자열)\n",
    "        \n",
    "    교집합 = set(str1List) & set(str2List)\n",
    "    합집합 = set(str1List) | set(str2List)\n",
    "    \n",
    "    교집합추가수 = 0\n",
    "    \n",
    "    for i in 교집합:\n",
    "        if str1List.count(i) > 1 and str2List.count(i) > 1:\n",
    "            if str1List.count(i) > str2List.count(i):\n",
    "                교집합추가수 += str2List.count(i)-1\n",
    "            else:\n",
    "                교집합추가수 += str1List.count(i)-1\n",
    "                \n",
    "    합집합추가수 = 0\n",
    "    for i in 합집합:\n",
    "        if str1List.count(i) > 1 or str2List.count(i) > 1:\n",
    "            if str1List.count(i) > str2List.count(i):\n",
    "                합집합추가수 += str1List.count(i)-1\n",
    "            else:\n",
    "                합집합추가수 += str2List.count(i)-1\n",
    "                \n",
    "    자카드교집합수 = (len(교집합) + 교집합추가수)\n",
    "    자카드합집합수 = (len(합집합) + 합집합추가수)\n",
    "    \n",
    "    # 예외처리\n",
    "    if 자카드합집합수 == 0: # 이거 먼저 해야함 !!\n",
    "        return 65536\n",
    "    if 자카드교집합수 == 0:\n",
    "        return 0\n",
    "\n",
    "\n",
    "    return int(자카드교집합수 / 자카드합집합수 * 65536)\n",
    "\n",
    "testcase = [\n",
    "    ['FRANCE', 'french'],\n",
    "    ['handshake', 'shake hands'],\n",
    "    ['aa1+aa2', 'AAAA12'],\n",
    "    ['E=M*C^2', 'e=m*c^2']\n",
    "]\n",
    "\n",
    "for str1, str2 in testcase:\n",
    "    print(solution(str1, str2))"
   ]
  },
  {
   "cell_type": "code",
   "execution_count": null,
   "id": "cdea22ac",
   "metadata": {},
   "outputs": [],
   "source": []
  }
 ],
 "metadata": {
  "kernelspec": {
   "display_name": "Python 3 (ipykernel)",
   "language": "python",
   "name": "python3"
  },
  "language_info": {
   "codemirror_mode": {
    "name": "ipython",
    "version": 3
   },
   "file_extension": ".py",
   "mimetype": "text/x-python",
   "name": "python",
   "nbconvert_exporter": "python",
   "pygments_lexer": "ipython3",
   "version": "3.9.7"
  }
 },
 "nbformat": 4,
 "nbformat_minor": 5
}
