{
 "cells": [
  {
   "cell_type": "markdown",
   "id": "00cdc5af",
   "metadata": {},
   "source": [
    "## [BOJ] 10819 차이를 최대로\n",
    "- 문제: https://www.acmicpc.net/problem/10819"
   ]
  },
  {
   "cell_type": "markdown",
   "id": "095eb4dd",
   "metadata": {},
   "source": [
    "## 순열풀이"
   ]
  },
  {
   "cell_type": "code",
   "execution_count": 53,
   "id": "55ccb0da",
   "metadata": {},
   "outputs": [
    {
     "name": "stdout",
     "output_type": "stream",
     "text": [
      "CPU times: user 879 µs, sys: 6 µs, total: 885 µs\n",
      "Wall time: 889 µs\n"
     ]
    },
    {
     "data": {
      "text/plain": [
       "62"
      ]
     },
     "execution_count": 53,
     "metadata": {},
     "output_type": "execute_result"
    }
   ],
   "source": [
    "%%time\n",
    "import math\n",
    "import itertools\n",
    "\n",
    "def solution(n, arr):\n",
    "    max = 0\n",
    "    \n",
    "    # 순열\n",
    "    prms = list(itertools.permutations(arr, n))\n",
    "    for prm in prms:\n",
    "        sum = 0\n",
    "        for i in range(1, n):\n",
    "            sum += abs(prm[i] - prm[i-1])\n",
    "        if max < sum:\n",
    "            max = sum\n",
    "    \n",
    "    return max\n",
    "\n",
    "\n",
    "solution(6, [20, 1, 15, 8, 4, 10])"
   ]
  },
  {
   "cell_type": "code",
   "execution_count": 54,
   "id": "f5440d03",
   "metadata": {},
   "outputs": [
    {
     "name": "stdout",
     "output_type": "stream",
     "text": [
      "CPU times: user 977 µs, sys: 6 µs, total: 983 µs\n",
      "Wall time: 986 µs\n"
     ]
    },
    {
     "data": {
      "text/plain": [
       "62"
      ]
     },
     "execution_count": 54,
     "metadata": {},
     "output_type": "execute_result"
    }
   ],
   "source": [
    "%%time\n",
    "import math\n",
    "import itertools\n",
    "\n",
    "def solution(n, arr):\n",
    "    max_x = 0\n",
    "    \n",
    "    # 순열\n",
    "    prms = list(itertools.permutations(arr, n))\n",
    "    for prm in prms:\n",
    "        sum = 0\n",
    "        for i in range(1, n):\n",
    "            sum += abs(prm[i] - prm[i-1])\n",
    "        max_x = max(max_x, sum)\n",
    "    \n",
    "    return max_x\n",
    "\n",
    "\n",
    "solution(6, [20, 1, 15, 8, 4, 10])"
   ]
  },
  {
   "cell_type": "markdown",
   "id": "03dde9bb",
   "metadata": {},
   "source": [
    "### ✨ 제출"
   ]
  },
  {
   "cell_type": "code",
   "execution_count": null,
   "id": "0f267159",
   "metadata": {},
   "outputs": [],
   "source": [
    "from itertools import permutations\n",
    "import sys\n",
    "\n",
    "n = int(sys.stdin.readline())\n",
    "arr = list(map(int, sys.stdin.readline().split()))\n",
    "\n",
    "max_x = 0\n",
    "\n",
    "# 순열\n",
    "prms = list(permutations(arr, n))\n",
    "for prm in prms:\n",
    "    sum = 0\n",
    "    for i in range(1, n):\n",
    "        sum += abs(prm[i] - prm[i-1])\n",
    "    max_x = max(max_x, sum)\n",
    "    \n",
    "print(max_x)\n"
   ]
  }
 ],
 "metadata": {
  "kernelspec": {
   "display_name": "Python 3 (ipykernel)",
   "language": "python",
   "name": "python3"
  },
  "language_info": {
   "codemirror_mode": {
    "name": "ipython",
    "version": 3
   },
   "file_extension": ".py",
   "mimetype": "text/x-python",
   "name": "python",
   "nbconvert_exporter": "python",
   "pygments_lexer": "ipython3",
   "version": "3.9.7"
  }
 },
 "nbformat": 4,
 "nbformat_minor": 5
}
