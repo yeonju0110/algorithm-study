{
 "cells": [
  {
   "cell_type": "markdown",
   "id": "bbf3c9dd",
   "metadata": {},
   "source": [
    "## 9663\n",
    "- 문제: https://www.acmicpc.net/problem/9663"
   ]
  },
  {
   "cell_type": "markdown",
   "id": "606c75e0",
   "metadata": {},
   "source": [
    "### 풀이"
   ]
  },
  {
   "cell_type": "markdown",
   "id": "4f2d3389",
   "metadata": {},
   "source": [
    "- 퀸은 가로, 세로, 대각선 8방향으로 원하는 만큼 움직일 수 있음\n",
    "- 종료조건\n",
    "    - 어느 줄에라도 퀸을 놓을 수 없는 줄이 존재하면 바로 종료\n",
    "    - 마지막 줄에 다다르면 종료"
   ]
  },
  {
   "cell_type": "markdown",
   "id": "6ab9b66f",
   "metadata": {},
   "source": [
    "### 코드"
   ]
  },
  {
   "cell_type": "code",
   "execution_count": 19,
   "id": "8be0ea23",
   "metadata": {},
   "outputs": [
    {
     "data": {
      "text/plain": [
       "92"
      ]
     },
     "execution_count": 19,
     "metadata": {},
     "output_type": "execute_result"
    }
   ],
   "source": [
    "res = 0\n",
    "\n",
    "def solution(n):\n",
    "    board = [0]*n\n",
    "    \n",
    "    def isPromising(x):\n",
    "        for i in range(x):\n",
    "            if board[x] == board[i] or abs(board[x] - board[i]) == x - i:\n",
    "                return False\n",
    "        return True\n",
    "    \n",
    "    def dfs(x):\n",
    "        global res\n",
    "        \n",
    "        if x == n:\n",
    "            res += 1\n",
    "            return\n",
    "        else:\n",
    "            for i in range(n):\n",
    "                board[x] = i\n",
    "                if isPromising(x):\n",
    "                    dfs(x+1)\n",
    "                    \n",
    "    dfs(0)\n",
    "    return res\n",
    "\n",
    "solution(8)"
   ]
  },
  {
   "cell_type": "code",
   "execution_count": null,
   "id": "18a907dd",
   "metadata": {},
   "outputs": [],
   "source": []
  }
 ],
 "metadata": {
  "kernelspec": {
   "display_name": "Python 3 (ipykernel)",
   "language": "python",
   "name": "python3"
  },
  "language_info": {
   "codemirror_mode": {
    "name": "ipython",
    "version": 3
   },
   "file_extension": ".py",
   "mimetype": "text/x-python",
   "name": "python",
   "nbconvert_exporter": "python",
   "pygments_lexer": "ipython3",
   "version": "3.9.7"
  }
 },
 "nbformat": 4,
 "nbformat_minor": 5
}
