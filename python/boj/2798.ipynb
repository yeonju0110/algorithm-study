{
 "cells": [
  {
   "cell_type": "markdown",
   "id": "943b2b9e",
   "metadata": {},
   "source": [
    "## 2798\n",
    "- 문제: https://www.acmicpc.net/problem/2798"
   ]
  },
  {
   "cell_type": "code",
   "execution_count": 17,
   "id": "d11f16f2",
   "metadata": {},
   "outputs": [
    {
     "name": "stdout",
     "output_type": "stream",
     "text": [
      "CPU times: user 185 µs, sys: 1e+03 ns, total: 186 µs\n",
      "Wall time: 190 µs\n"
     ]
    },
    {
     "data": {
      "text/plain": [
       "497"
      ]
     },
     "execution_count": 17,
     "metadata": {},
     "output_type": "execute_result"
    }
   ],
   "source": [
    "%%time\n",
    "from itertools import permutations\n",
    "\n",
    "def solution(n, m, arr):\n",
    "    prms = list(permutations(arr, 3))\n",
    "    \n",
    "    max_sum = 0\n",
    "    \n",
    "    for prm in prms:\n",
    "        prm_sum = sum(prm)\n",
    "        if prm_sum <= m and prm_sum > max_sum:\n",
    "            max_sum = prm_sum\n",
    "    return max_sum\n",
    "\n",
    "solution(10, 500, [93, 181, 245, 214, 315, 36, 185, 138, 216, 295])"
   ]
  },
  {
   "cell_type": "code",
   "execution_count": 18,
   "id": "df65e782",
   "metadata": {},
   "outputs": [
    {
     "name": "stdout",
     "output_type": "stream",
     "text": [
      "CPU times: user 204 µs, sys: 1 µs, total: 205 µs\n",
      "Wall time: 209 µs\n"
     ]
    },
    {
     "data": {
      "text/plain": [
       "497"
      ]
     },
     "execution_count": 18,
     "metadata": {},
     "output_type": "execute_result"
    }
   ],
   "source": [
    "%%time\n",
    "from itertools import permutations\n",
    "\n",
    "def solution(n, m, arr):\n",
    "    arr = sorted(arr, reverse=True)\n",
    "    prms = list(permutations(arr, 3))\n",
    "    \n",
    "    sums = [sum(prm) for prm in prms if sum(prm) <= m]\n",
    "    \n",
    "    return max(sums)\n",
    "\n",
    "solution(10, 500, [93, 181, 245, 214, 315, 36, 185, 138, 216, 295])"
   ]
  },
  {
   "cell_type": "code",
   "execution_count": 19,
   "id": "cc9586c3",
   "metadata": {},
   "outputs": [
    {
     "name": "stdout",
     "output_type": "stream",
     "text": [
      "CPU times: user 84 µs, sys: 9 µs, total: 93 µs\n",
      "Wall time: 114 µs\n"
     ]
    },
    {
     "data": {
      "text/plain": [
       "497"
      ]
     },
     "execution_count": 19,
     "metadata": {},
     "output_type": "execute_result"
    }
   ],
   "source": [
    "%%time\n",
    "from itertools import combinations\n",
    "\n",
    "def solution(n, m, arr):\n",
    "    prms = list(combinations(arr, 3))\n",
    "    \n",
    "    max_sum = 0\n",
    "    \n",
    "    for prm in prms:\n",
    "        prm_sum = sum(prm)\n",
    "        if prm_sum <= m and prm_sum > max_sum:\n",
    "            max_sum = prm_sum\n",
    "    return max_sum\n",
    "\n",
    "solution(10, 500, [93, 181, 245, 214, 315, 36, 185, 138, 216, 295])"
   ]
  },
  {
   "cell_type": "markdown",
   "id": "1a2a4042",
   "metadata": {},
   "source": [
    "### ✨ 제출"
   ]
  },
  {
   "cell_type": "code",
   "execution_count": null,
   "id": "6db6796a",
   "metadata": {},
   "outputs": [],
   "source": [
    "from itertools import combinations\n",
    "import sys\n",
    "\n",
    "input = sys.stdin.readline\n",
    "\n",
    "n, m = map(int, input().split())\n",
    "arr = list(map(int, input().split()))\n",
    "\n",
    "prms = list(combinations(arr, 3))\n",
    "\n",
    "max_sum = 0\n",
    "\n",
    "for prm in prms:\n",
    "    prm_sum = sum(prm)\n",
    "    if prm_sum <= m and prm_sum > max_sum:\n",
    "        max_sum = prm_sum\n",
    "\n",
    "print(max_sum)"
   ]
  }
 ],
 "metadata": {
  "kernelspec": {
   "display_name": "Python 3 (ipykernel)",
   "language": "python",
   "name": "python3"
  },
  "language_info": {
   "codemirror_mode": {
    "name": "ipython",
    "version": 3
   },
   "file_extension": ".py",
   "mimetype": "text/x-python",
   "name": "python",
   "nbconvert_exporter": "python",
   "pygments_lexer": "ipython3",
   "version": "3.9.7"
  }
 },
 "nbformat": 4,
 "nbformat_minor": 5
}
