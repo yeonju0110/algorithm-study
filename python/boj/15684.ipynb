{
 "cells": [
  {
   "cell_type": "markdown",
   "id": "bf01e378",
   "metadata": {},
   "source": [
    "## 사다리조작\n",
    "- 문제: https://www.acmicpc.net/problem/15684"
   ]
  },
  {
   "cell_type": "markdown",
   "id": "bc39f61a",
   "metadata": {},
   "source": [
    "- 백트래킹 + 시뮬레이션 이용\n",
    "1. 입력을 받아들인 후, 주어진 세 가지 경우(가로선 추가, 아무 조치도 취하지 않음, 추가한 가로선 제거)에 대하여 각각 재귀적으로 탐색\n",
    "\n",
    "    a. 가로선을 추가하는 경우: 추가할 수 있는 위치를 모두 탐색하며 추가함.\n",
    "        - 이 때, 추가한 가로선이 조건에 부합하는지 검사 필요.\n",
    "        - 모든 출발점이 자신의 도착점에 도달할 수 있는지도 검사 필요.\n",
    "    b. 아무 조치도 취하지 않는 경우: 현재 상태에서 모든 출발점이 자신의 도착점에 도달할 수 있는지 검사.\n",
    "    \n",
    "    c. 추가한 가로선을 제거하는 경우: 추가한 가로선을 찾아서 제거하고, 모든 출발점이 자신의 도착점에 도달할 수 있는지 검사."
   ]
  },
  {
   "cell_type": "code",
   "execution_count": 5,
   "id": "53bf5116",
   "metadata": {},
   "outputs": [
    {
     "ename": "IndexError",
     "evalue": "list index out of range",
     "output_type": "error",
     "traceback": [
      "\u001b[0;31m---------------------------------------------------------------------------\u001b[0m",
      "\u001b[0;31mIndexError\u001b[0m                                Traceback (most recent call last)",
      "\u001b[0;32m/var/folders/5b/w0h4h3hx0b13bntvxdvd_l040000gn/T/ipykernel_33604/2197964582.py\u001b[0m in \u001b[0;36m<module>\u001b[0;34m\u001b[0m\n\u001b[1;32m     61\u001b[0m     \u001b[0;32mreturn\u001b[0m\u001b[0;34m\u001b[0m\u001b[0;34m\u001b[0m\u001b[0m\n\u001b[1;32m     62\u001b[0m \u001b[0;34m\u001b[0m\u001b[0m\n\u001b[0;32m---> 63\u001b[0;31m \u001b[0msolution\u001b[0m\u001b[0;34m(\u001b[0m\u001b[0;36m2\u001b[0m\u001b[0;34m,\u001b[0m \u001b[0;36m0\u001b[0m\u001b[0;34m,\u001b[0m \u001b[0;36m3\u001b[0m\u001b[0;34m,\u001b[0m \u001b[0;34m[\u001b[0m\u001b[0;34m[\u001b[0m\u001b[0;34m]\u001b[0m\u001b[0;34m]\u001b[0m\u001b[0;34m)\u001b[0m\u001b[0;34m\u001b[0m\u001b[0;34m\u001b[0m\u001b[0m\n\u001b[0m\u001b[1;32m     64\u001b[0m \u001b[0msolution\u001b[0m\u001b[0;34m(\u001b[0m\u001b[0;36m2\u001b[0m\u001b[0;34m,\u001b[0m \u001b[0;36m1\u001b[0m\u001b[0;34m,\u001b[0m \u001b[0;36m3\u001b[0m\u001b[0;34m,\u001b[0m \u001b[0;34m[\u001b[0m\u001b[0;34m[\u001b[0m\u001b[0;36m1\u001b[0m\u001b[0;34m,\u001b[0m \u001b[0;36m1\u001b[0m\u001b[0;34m]\u001b[0m\u001b[0;34m]\u001b[0m\u001b[0;34m)\u001b[0m\u001b[0;34m\u001b[0m\u001b[0;34m\u001b[0m\u001b[0m\n\u001b[1;32m     65\u001b[0m \u001b[0msolution\u001b[0m\u001b[0;34m(\u001b[0m\u001b[0;36m5\u001b[0m\u001b[0;34m,\u001b[0m \u001b[0;36m5\u001b[0m\u001b[0;34m,\u001b[0m \u001b[0;36m6\u001b[0m\u001b[0;34m,\u001b[0m \u001b[0;34m[\u001b[0m\u001b[0;34m[\u001b[0m\u001b[0;36m1\u001b[0m\u001b[0;34m,\u001b[0m \u001b[0;36m1\u001b[0m\u001b[0;34m]\u001b[0m\u001b[0;34m,\u001b[0m \u001b[0;34m[\u001b[0m\u001b[0;36m3\u001b[0m\u001b[0;34m,\u001b[0m \u001b[0;36m2\u001b[0m\u001b[0;34m]\u001b[0m\u001b[0;34m,\u001b[0m \u001b[0;34m[\u001b[0m\u001b[0;36m2\u001b[0m\u001b[0;34m,\u001b[0m \u001b[0;36m3\u001b[0m\u001b[0;34m]\u001b[0m\u001b[0;34m,\u001b[0m \u001b[0;34m[\u001b[0m\u001b[0;36m5\u001b[0m\u001b[0;34m,\u001b[0m \u001b[0;36m1\u001b[0m\u001b[0;34m]\u001b[0m\u001b[0;34m,\u001b[0m \u001b[0;34m[\u001b[0m\u001b[0;36m5\u001b[0m\u001b[0;34m,\u001b[0m \u001b[0;36m4\u001b[0m\u001b[0;34m]\u001b[0m\u001b[0;34m]\u001b[0m\u001b[0;34m)\u001b[0m\u001b[0;34m\u001b[0m\u001b[0;34m\u001b[0m\u001b[0m\n",
      "\u001b[0;32m/var/folders/5b/w0h4h3hx0b13bntvxdvd_l040000gn/T/ipykernel_33604/2197964582.py\u001b[0m in \u001b[0;36msolution\u001b[0;34m(n, m, h, arrs)\u001b[0m\n\u001b[1;32m     56\u001b[0m \u001b[0;34m\u001b[0m\u001b[0m\n\u001b[1;32m     57\u001b[0m \u001b[0;34m\u001b[0m\u001b[0m\n\u001b[0;32m---> 58\u001b[0;31m     \u001b[0mdfs\u001b[0m\u001b[0;34m(\u001b[0m\u001b[0;36m0\u001b[0m\u001b[0;34m,\u001b[0m \u001b[0;36m0\u001b[0m\u001b[0;34m,\u001b[0m \u001b[0;36m0\u001b[0m\u001b[0;34m)\u001b[0m\u001b[0;34m\u001b[0m\u001b[0;34m\u001b[0m\u001b[0m\n\u001b[0m\u001b[1;32m     59\u001b[0m     \u001b[0mprint\u001b[0m\u001b[0;34m(\u001b[0m\u001b[0mans\u001b[0m \u001b[0;32mif\u001b[0m \u001b[0mans\u001b[0m \u001b[0;34m<\u001b[0m \u001b[0;36m4\u001b[0m \u001b[0;32melse\u001b[0m \u001b[0;34m-\u001b[0m\u001b[0;36m1\u001b[0m\u001b[0;34m)\u001b[0m\u001b[0;34m\u001b[0m\u001b[0;34m\u001b[0m\u001b[0m\n\u001b[1;32m     60\u001b[0m \u001b[0;34m\u001b[0m\u001b[0m\n",
      "\u001b[0;32m/var/folders/5b/w0h4h3hx0b13bntvxdvd_l040000gn/T/ipykernel_33604/2197964582.py\u001b[0m in \u001b[0;36mdfs\u001b[0;34m(cnt, x, y)\u001b[0m\n\u001b[1;32m     42\u001b[0m         \u001b[0;32mif\u001b[0m \u001b[0mcnt\u001b[0m \u001b[0;34m==\u001b[0m \u001b[0mans\u001b[0m\u001b[0;34m:\u001b[0m\u001b[0;34m\u001b[0m\u001b[0;34m\u001b[0m\u001b[0m\n\u001b[1;32m     43\u001b[0m             \u001b[0;32mreturn\u001b[0m\u001b[0;34m\u001b[0m\u001b[0;34m\u001b[0m\u001b[0m\n\u001b[0;32m---> 44\u001b[0;31m         \u001b[0;32mif\u001b[0m \u001b[0mcheck\u001b[0m\u001b[0;34m(\u001b[0m\u001b[0;34m)\u001b[0m\u001b[0;34m:\u001b[0m\u001b[0;34m\u001b[0m\u001b[0;34m\u001b[0m\u001b[0m\n\u001b[0m\u001b[1;32m     45\u001b[0m             \u001b[0mans\u001b[0m \u001b[0;34m=\u001b[0m \u001b[0mmin\u001b[0m\u001b[0;34m(\u001b[0m\u001b[0mans\u001b[0m\u001b[0;34m,\u001b[0m \u001b[0mcnt\u001b[0m\u001b[0;34m)\u001b[0m\u001b[0;34m\u001b[0m\u001b[0;34m\u001b[0m\u001b[0m\n\u001b[1;32m     46\u001b[0m             \u001b[0;32mreturn\u001b[0m\u001b[0;34m\u001b[0m\u001b[0;34m\u001b[0m\u001b[0m\n",
      "\u001b[0;32m/var/folders/5b/w0h4h3hx0b13bntvxdvd_l040000gn/T/ipykernel_33604/2197964582.py\u001b[0m in \u001b[0;36mcheck\u001b[0;34m()\u001b[0m\n\u001b[1;32m     16\u001b[0m             \u001b[0mpos\u001b[0m \u001b[0;34m=\u001b[0m \u001b[0mi\u001b[0m\u001b[0;34m\u001b[0m\u001b[0;34m\u001b[0m\u001b[0m\n\u001b[1;32m     17\u001b[0m             \u001b[0;32mfor\u001b[0m \u001b[0mj\u001b[0m \u001b[0;32min\u001b[0m \u001b[0mrange\u001b[0m\u001b[0;34m(\u001b[0m\u001b[0mh\u001b[0m\u001b[0;34m)\u001b[0m\u001b[0;34m:\u001b[0m\u001b[0;34m\u001b[0m\u001b[0;34m\u001b[0m\u001b[0m\n\u001b[0;32m---> 18\u001b[0;31m                 \u001b[0;32mif\u001b[0m \u001b[0mlines\u001b[0m\u001b[0;34m[\u001b[0m\u001b[0mj\u001b[0m\u001b[0;34m]\u001b[0m\u001b[0;34m[\u001b[0m\u001b[0mpos\u001b[0m\u001b[0;34m]\u001b[0m\u001b[0;34m:\u001b[0m\u001b[0;34m\u001b[0m\u001b[0;34m\u001b[0m\u001b[0m\n\u001b[0m\u001b[1;32m     19\u001b[0m                     \u001b[0mpos\u001b[0m \u001b[0;34m+=\u001b[0m \u001b[0;36m1\u001b[0m\u001b[0;34m\u001b[0m\u001b[0;34m\u001b[0m\u001b[0m\n\u001b[1;32m     20\u001b[0m                 \u001b[0;32melif\u001b[0m \u001b[0mpos\u001b[0m \u001b[0;34m>\u001b[0m \u001b[0;36m0\u001b[0m \u001b[0;32mand\u001b[0m \u001b[0mlines\u001b[0m\u001b[0;34m[\u001b[0m\u001b[0mj\u001b[0m\u001b[0;34m]\u001b[0m\u001b[0;34m[\u001b[0m\u001b[0mpos\u001b[0m\u001b[0;34m-\u001b[0m\u001b[0;36m1\u001b[0m\u001b[0;34m]\u001b[0m\u001b[0;34m:\u001b[0m\u001b[0;34m\u001b[0m\u001b[0;34m\u001b[0m\u001b[0m\n",
      "\u001b[0;31mIndexError\u001b[0m: list index out of range"
     ]
    }
   ],
   "source": [
    "# 추가한 가로선의 개수를 저장하는 변수\n",
    "ans = 4\n",
    "\n",
    "def solution(n, m, h, arrs):\n",
    "    # 가로선을 놓을 수 있는 위치를 저장하는 리스트\n",
    "    lines = [[False] * (n - 1) for _ in range(h)]\n",
    "    \n",
    "    for _ in range(m):\n",
    "        for arr in arrs:\n",
    "            a, b = arr\n",
    "            lines[a-1][b-1] = True\n",
    "        \n",
    "    # 현재 상태에서 모든 출발점이 자신의 도착점에 도달할 수 있는지 검사하는 함수\n",
    "    def check():\n",
    "        for i in range(n):\n",
    "            pos = i\n",
    "            for j in range(h):\n",
    "                if lines[j][pos]:\n",
    "                    pos += 1\n",
    "                elif pos > 0 and lines[j][pos-1]:\n",
    "                    pos -= 1\n",
    "            if pos != i:\n",
    "                return False\n",
    "        return True\n",
    "    \n",
    "    # 추가한 가로선이 조건에 부합하는지 검사하는 함수\n",
    "    def put_line():\n",
    "        for i in range(n-1):\n",
    "            pos = i\n",
    "            for j in range(h):\n",
    "                if lines[j][pos]:\n",
    "                    pos += 1\n",
    "                elif pos > 0 and lines[j][pos-1]:\n",
    "                    pos -= 1\n",
    "            if pos != i:\n",
    "                return False\n",
    "        return True\n",
    "    \n",
    "    # 가로선을 추가하는 함수\n",
    "    def dfs(cnt, x, y):\n",
    "        global ans\n",
    "        if cnt == ans:\n",
    "            return\n",
    "        if check():\n",
    "            ans = min(ans, cnt)\n",
    "            return\n",
    "        if cnt == 3:\n",
    "            return\n",
    "        for i in range(x, h):\n",
    "            k = y if i == x else 0\n",
    "            for j in range(k, n-1):\n",
    "                if not lines[i][j] and (j == 0 or not lines[i][j-1]) and (j == n-2 or not lines[i][j+1]):\n",
    "                    lines[i][j] = True\n",
    "                    dfs(cnt+1, i, j+2)\n",
    "                    lines[i][j] = False\n",
    "    \n",
    "\n",
    "    dfs(0, 0, 0)\n",
    "    print(ans if ans < 4 else -1)\n",
    "    \n",
    "    return\n",
    "\n",
    "solution(2, 0, 3, [[]])\n",
    "solution(2, 1, 3, [[1, 1]])\n",
    "solution(5, 5, 6, [[1, 1], [3, 2], [2, 3], [5, 1], [5, 4]])"
   ]
  },
  {
   "cell_type": "code",
   "execution_count": null,
   "id": "2f0abbe5",
   "metadata": {},
   "outputs": [],
   "source": []
  }
 ],
 "metadata": {
  "kernelspec": {
   "display_name": "Python 3 (ipykernel)",
   "language": "python",
   "name": "python3"
  },
  "language_info": {
   "codemirror_mode": {
    "name": "ipython",
    "version": 3
   },
   "file_extension": ".py",
   "mimetype": "text/x-python",
   "name": "python",
   "nbconvert_exporter": "python",
   "pygments_lexer": "ipython3",
   "version": "3.9.7"
  }
 },
 "nbformat": 4,
 "nbformat_minor": 5
}
