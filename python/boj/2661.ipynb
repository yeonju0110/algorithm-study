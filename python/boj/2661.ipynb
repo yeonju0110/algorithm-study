{
 "cells": [
  {
   "cell_type": "markdown",
   "id": "d1513721",
   "metadata": {},
   "source": [
    "## 2661\n",
    "- 문제: https://www.acmicpc.net/problem/2661"
   ]
  },
  {
   "cell_type": "code",
   "execution_count": 99,
   "id": "08dc5d7a",
   "metadata": {},
   "outputs": [
    {
     "name": "stdout",
     "output_type": "stream",
     "text": [
      "1213121CPU times: user 390 µs, sys: 302 µs, total: 692 µs\n",
      "Wall time: 479 µs\n"
     ]
    }
   ],
   "source": [
    "%%time\n",
    "def solution(n):\n",
    "    s = []\n",
    "    \n",
    "    def back(idx):\n",
    "        for i in range(1, (idx//2) + 1):\n",
    "            if s[-i:] == s[-2*i:-i]:\n",
    "                return -1\n",
    "        \n",
    "        if idx == n:\n",
    "            for i in range(n):\n",
    "                print(s[i], end = '')\n",
    "            return 0\n",
    "        \n",
    "        for i in range(1, 4):\n",
    "            s.append(i)\n",
    "            if back(idx + 1) == 0:\n",
    "                return 0\n",
    "            s.pop()\n",
    "    \n",
    "    back(0)\n",
    "\n",
    "solution(7)"
   ]
  },
  {
   "cell_type": "code",
   "execution_count": null,
   "id": "ef844afd",
   "metadata": {},
   "outputs": [],
   "source": []
  },
  {
   "cell_type": "code",
   "execution_count": null,
   "id": "8425c7a9",
   "metadata": {},
   "outputs": [],
   "source": []
  }
 ],
 "metadata": {
  "kernelspec": {
   "display_name": "Python 3 (ipykernel)",
   "language": "python",
   "name": "python3"
  },
  "language_info": {
   "codemirror_mode": {
    "name": "ipython",
    "version": 3
   },
   "file_extension": ".py",
   "mimetype": "text/x-python",
   "name": "python",
   "nbconvert_exporter": "python",
   "pygments_lexer": "ipython3",
   "version": "3.9.7"
  }
 },
 "nbformat": 4,
 "nbformat_minor": 5
}
