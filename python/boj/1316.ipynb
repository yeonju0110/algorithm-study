{
 "cells": [
  {
   "cell_type": "markdown",
   "id": "b9546506",
   "metadata": {},
   "source": [
    "- 문제: https://www.acmicpc.net/problem/1316"
   ]
  },
  {
   "cell_type": "code",
   "execution_count": 23,
   "id": "9ea852d1",
   "metadata": {},
   "outputs": [
    {
     "name": "stdout",
     "output_type": "stream",
     "text": [
      "4 1\n",
      "4 1\n"
     ]
    },
    {
     "data": {
      "text/plain": [
       "0"
      ]
     },
     "execution_count": 23,
     "metadata": {},
     "output_type": "execute_result"
    }
   ],
   "source": [
    "def solution(n, arr):\n",
    "    res = 0\n",
    "    \n",
    "    for a in arr:\n",
    "        s = len(set(list(a))) # 알파벳 종류\n",
    "        t = 0\n",
    "        for i in range(len(a)-1): # 연달아 있는 두 문자가 서로 다를 때\n",
    "            if a[i] != a[i+1]:\n",
    "                t += 1\n",
    "        if t == (s - 1):\n",
    "            res += 1\n",
    "            \n",
    "    return res\n",
    "\n",
    "\n",
    "# solution(3, ['happy', 'new', 'year']) # 3\n",
    "# solution(4, ['aba', 'abab', 'abcabc', 'a']) # 1\n",
    "# solution(5, ['ab', 'aa', 'aca', 'ba', 'bb']) # 4\n",
    "solution(2, ['yzyzy', 'zyzyz']) # 0\n",
    "# solution(1, ['z']) # 1"
   ]
  },
  {
   "cell_type": "code",
   "execution_count": null,
   "id": "68c92faa",
   "metadata": {},
   "outputs": [],
   "source": [
    "import sys\n",
    "\n",
    "input = sys.stdin.readline\n",
    "\n",
    "n = int(input())\n",
    "res = n\n",
    "\n",
    "for i in range(n):\n",
    "    a = input()\n",
    "\n",
    "    for j in range(0, len(a)-1):\n",
    "        if a[j] == a[j+1]:\n",
    "            pass\n",
    "        elif a[j] in a[j+1:]: # 알파벳이 연달아 있지 않고 건너뛰어서 존재한다면\n",
    "            res -= 1\n",
    "            break\n",
    "\n",
    "print(res)"
   ]
  }
 ],
 "metadata": {
  "kernelspec": {
   "display_name": "Python 3 (ipykernel)",
   "language": "python",
   "name": "python3"
  },
  "language_info": {
   "codemirror_mode": {
    "name": "ipython",
    "version": 3
   },
   "file_extension": ".py",
   "mimetype": "text/x-python",
   "name": "python",
   "nbconvert_exporter": "python",
   "pygments_lexer": "ipython3",
   "version": "3.9.7"
  }
 },
 "nbformat": 4,
 "nbformat_minor": 5
}
