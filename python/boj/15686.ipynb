{
 "cells": [
  {
   "cell_type": "markdown",
   "id": "2a58db32",
   "metadata": {},
   "source": [
    "## 15686\n",
    "- 문제: https://www.acmicpc.net/problem/15686"
   ]
  },
  {
   "cell_type": "code",
   "execution_count": 4,
   "id": "57bddfcd",
   "metadata": {},
   "outputs": [
    {
     "name": "stdout",
     "output_type": "stream",
     "text": [
      "5\n"
     ]
    }
   ],
   "source": [
    "from itertools import combinations\n",
    "\n",
    "def solution(n, m, city):\n",
    "    result = 999999\n",
    "    house = [] # 집의 좌표\n",
    "    chick = [] # 치킨집의 좌표\n",
    "    \n",
    "    for i in range(n):\n",
    "        for j in range(n):\n",
    "            if city[i][j] == 1:\n",
    "                house.append([i, j])\n",
    "            elif city[i][j] == 2:\n",
    "                chick.append([i, j])\n",
    "                \n",
    "    for chi in combinations(chick, m): # m개의 치킨집 선택\n",
    "        temp = 0\n",
    "        for h in house:\n",
    "            chi_len = 999\n",
    "            for j in range(m):\n",
    "                chi_len = min(chi_len, abs(h[0] - chi[j][0]) + abs(h[1] - chi[j][1]))\n",
    "            temp += chi_len\n",
    "        result = min(result, temp)\n",
    "        \n",
    "    print(result)\n",
    "    \n",
    "    return\n",
    "\n",
    "solution(5, 3, [[0, 0, 1, 0, 0], [0, 0, 2, 0, 1], [0, 1, 2, 0, 0], [0, 0, 1, 0, 0], [0, 0, 0, 0, 2]])"
   ]
  },
  {
   "cell_type": "code",
   "execution_count": null,
   "id": "926cd253",
   "metadata": {},
   "outputs": [],
   "source": []
  }
 ],
 "metadata": {
  "kernelspec": {
   "display_name": "Python 3 (ipykernel)",
   "language": "python",
   "name": "python3"
  },
  "language_info": {
   "codemirror_mode": {
    "name": "ipython",
    "version": 3
   },
   "file_extension": ".py",
   "mimetype": "text/x-python",
   "name": "python",
   "nbconvert_exporter": "python",
   "pygments_lexer": "ipython3",
   "version": "3.9.7"
  }
 },
 "nbformat": 4,
 "nbformat_minor": 5
}
