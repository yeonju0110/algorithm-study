{
 "cells": [
  {
   "cell_type": "markdown",
   "id": "bc4c6efd",
   "metadata": {},
   "source": [
    "## 14888\n",
    "- 문제: https://www.acmicpc.net/problem/14888"
   ]
  },
  {
   "cell_type": "code",
   "execution_count": 17,
   "id": "b2569a10",
   "metadata": {},
   "outputs": [
    {
     "name": "stdout",
     "output_type": "stream",
     "text": [
      "30\n",
      "30\n",
      "35\n",
      "17\n",
      "54\n",
      "-24\n",
      "CPU times: user 719 µs, sys: 202 µs, total: 921 µs\n",
      "Wall time: 820 µs\n"
     ]
    }
   ],
   "source": [
    "%%time\n",
    "from itertools import permutations\n",
    "\n",
    "def solution(n, arr, op_num):\n",
    "    prms = list(permutations(arr, n))\n",
    "    op_list = ['+', '-', '*', '//']\n",
    "    op = []\n",
    "       \n",
    "    for i in range(4):\n",
    "        for j in range(op_num[i]):\n",
    "            op.append(op_list[i])\n",
    "    \n",
    "    max_x = int(-1e9)\n",
    "    min_x = int(1e9)\n",
    "    \n",
    "    for prm in permutations(op, n - 1):\n",
    "        total = arr[0]\n",
    "        for r in range(1, n):\n",
    "            if prm[r - 1] == '+':\n",
    "                total += arr[r]\n",
    "            elif prm[r - 1] == '-':\n",
    "                total -= arr[r]\n",
    "            elif prm[r - 1] == '*':\n",
    "                total *= arr[r]\n",
    "            elif prm[r - 1] == '//':\n",
    "                total = int(total / arr[r]) # ✨ C++14의 기준\n",
    "                \n",
    "        max_x = max(total, max_x)\n",
    "        min_x = min(total, min_x)\n",
    "        \n",
    "    print(max_x)\n",
    "    print(min_x)\n",
    "        \n",
    "    return\n",
    "\n",
    "solution(2, [5, 6], [0, 0, 1, 0]) \n",
    "solution(3, [3, 4, 5], [1, 0, 1, 0])\n",
    "solution(6, [1, 2, 3, 4, 5, 6], [2, 1, 1, 1])"
   ]
  },
  {
   "cell_type": "markdown",
   "id": "be11471e",
   "metadata": {},
   "source": [
    "## 백트래킹 이용"
   ]
  },
  {
   "cell_type": "code",
   "execution_count": 20,
   "id": "27fe7fb9",
   "metadata": {},
   "outputs": [
    {
     "name": "stdout",
     "output_type": "stream",
     "text": [
      "30\n",
      "30\n",
      "35\n",
      "17\n",
      "54\n",
      "-24\n",
      "CPU times: user 458 µs, sys: 223 µs, total: 681 µs\n",
      "Wall time: 561 µs\n"
     ]
    }
   ],
   "source": [
    "%%time\n",
    "\n",
    "min_x = int(1e9)\n",
    "max_x = int(-1e9)\n",
    "\n",
    "def solution(n, arr, op_num):\n",
    "    def dfs(index, total, plus, minus, multiply, divide):\n",
    "        global min_x, max_x\n",
    "        \n",
    "        if index == n:\n",
    "            max_x = max(total, max_x)\n",
    "            min_x = min(total, min_x)\n",
    "            return\n",
    "        \n",
    "        if plus:\n",
    "            dfs(index + 1, total + arr[index], plus - 1, minus, multiply, divide)\n",
    "        if minus:\n",
    "            dfs(index + 1, total - arr[index], plus, minus - 1, multiply, divide)\n",
    "        if multiply:\n",
    "            dfs(index + 1, total * arr[index], plus, minus, multiply - 1, divide)\n",
    "        if divide:\n",
    "            dfs(index + 1, int(total / arr[index]), plus, minus, multiply, divide - 1)\n",
    "    \n",
    "    dfs(1, arr[0], op_num[0], op_num[1], op_num[2], op_num[3])\n",
    "    print(max_x)\n",
    "    print(min_x)\n",
    "    return\n",
    "\n",
    "solution(2, [5, 6], [0, 0, 1, 0]) \n",
    "solution(3, [3, 4, 5], [1, 0, 1, 0])\n",
    "solution(6, [1, 2, 3, 4, 5, 6], [2, 1, 1, 1])"
   ]
  },
  {
   "cell_type": "code",
   "execution_count": null,
   "id": "42358c64",
   "metadata": {},
   "outputs": [],
   "source": []
  }
 ],
 "metadata": {
  "kernelspec": {
   "display_name": "Python 3 (ipykernel)",
   "language": "python",
   "name": "python3"
  },
  "language_info": {
   "codemirror_mode": {
    "name": "ipython",
    "version": 3
   },
   "file_extension": ".py",
   "mimetype": "text/x-python",
   "name": "python",
   "nbconvert_exporter": "python",
   "pygments_lexer": "ipython3",
   "version": "3.9.7"
  }
 },
 "nbformat": 4,
 "nbformat_minor": 5
}
