{
 "cells": [
  {
   "cell_type": "markdown",
   "id": "648f5f7d",
   "metadata": {},
   "source": [
    "- 문제: https://www.acmicpc.net/problem/1244"
   ]
  },
  {
   "cell_type": "code",
   "execution_count": 27,
   "id": "907f342a",
   "metadata": {},
   "outputs": [
    {
     "data": {
      "text/plain": [
       "[1, 0, 0, 0, 1, 1, 0, 1]"
      ]
     },
     "execution_count": 27,
     "metadata": {},
     "output_type": "execute_result"
    }
   ],
   "source": [
    "def toggle(n):\n",
    "    if n == 1:\n",
    "        return 0\n",
    "    else:\n",
    "        return 1\n",
    "\n",
    "def solution(switches, students):\n",
    "    m, n = len(switches), len(students)\n",
    "    switches = [0] + switches\n",
    "    \n",
    "    for stu in students:\n",
    "        gender, k = stu\n",
    "        \n",
    "        if gender == 1: # men\n",
    "            for i in range(k, m+1, k):\n",
    "                switches[i] = toggle(switches[i])\n",
    "                \n",
    "        else: # women\n",
    "            switches[k] = toggle(switches[k])\n",
    "            \n",
    "            l, r = k - 1, k + 1\n",
    "            \n",
    "            while l >= 1 and r <= m + 1:\n",
    "                if switches[l] == switches[r]:\n",
    "                    switches[l] = toggle(switches[l])\n",
    "                    switches[r] = toggle(switches[r])\n",
    "                    l -= 1\n",
    "                    r += 1\n",
    "                else:\n",
    "                    break\n",
    "    \n",
    "    \n",
    "    return switches[1:]\n",
    "\n",
    "solution([0, 1, 0, 1, 0, 0, 0, 1],[[1, 3], [2, 3]]) # 1 0 0 0 1 1 0 1"
   ]
  },
  {
   "cell_type": "code",
   "execution_count": null,
   "id": "54ec6ae9",
   "metadata": {},
   "outputs": [],
   "source": []
  }
 ],
 "metadata": {
  "kernelspec": {
   "display_name": "Python 3 (ipykernel)",
   "language": "python",
   "name": "python3"
  },
  "language_info": {
   "codemirror_mode": {
    "name": "ipython",
    "version": 3
   },
   "file_extension": ".py",
   "mimetype": "text/x-python",
   "name": "python",
   "nbconvert_exporter": "python",
   "pygments_lexer": "ipython3",
   "version": "3.9.7"
  }
 },
 "nbformat": 4,
 "nbformat_minor": 5
}
