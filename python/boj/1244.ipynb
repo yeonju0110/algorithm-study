{
 "cells": [
  {
   "cell_type": "markdown",
   "id": "9f43dd39",
   "metadata": {},
   "source": [
    "- 문제: https://www.acmicpc.net/problem/1244"
   ]
  },
  {
   "cell_type": "markdown",
   "id": "3d80d266",
   "metadata": {},
   "source": [
    "1. 출력형식에 유의해야하는 문제였다."
   ]
  },
  {
   "cell_type": "markdown",
   "id": "c2baebd0",
   "metadata": {},
   "source": [
    "2. python에서 값을 토글하는 방법\n",
    "    \n",
    "    a. toggle함수를 직접 구현 (처음 시도한 방식)\n",
    "    \n",
    "    b. NOT을 사용한 방식 (값이 부울일 경우)\n",
    "        x = not x\n",
    "        \n",
    "    c. XOR을 사용한 방식 (값이 0과 1일 경우)\n",
    "        x ^= 1"
   ]
  },
  {
   "cell_type": "code",
   "execution_count": 29,
   "id": "5c28ec21",
   "metadata": {},
   "outputs": [
    {
     "name": "stdout",
     "output_type": "stream",
     "text": [
      "8\n",
      "0 1 0 1 0 0 0 1\n",
      "2\n",
      "1 3\n",
      "2 3\n",
      "1 0 0 0 1 1 0 1 "
     ]
    }
   ],
   "source": [
    "def toggle(n):\n",
    "    if n == 1:\n",
    "        return 0\n",
    "    else:\n",
    "        return 1\n",
    "\n",
    "m = int(input())\n",
    "switches = list(map(int, input().split()))\n",
    "switches = [0] + switches # index를 편하게 처리하기 위해 앞에 패딩을 붙임\n",
    "n = int(input())\n",
    "\n",
    "for i in range(n):\n",
    "    gender, k = list(map(int, input().split()))\n",
    "    \n",
    "    if gender == 1: # men\n",
    "        for i in range(k, m+1, k):\n",
    "            switches[i] = toggle(switches[i])\n",
    "            \n",
    "    else: # women\n",
    "        if k < 1 or k > m:\n",
    "            continue\n",
    "        switches[k] = toggle(switches[k])\n",
    "        l, r = k - 1, k + 1\n",
    "        \n",
    "        while l >= 1 and r <= m:\n",
    "            if switches[l] == switches[r]:\n",
    "                switches[l] = toggle(switches[l])\n",
    "                switches[r] = toggle(switches[r])\n",
    "                l -= 1\n",
    "                r += 1\n",
    "            else:\n",
    "                break\n",
    "    \n",
    "for i in range(1, m + 1):\n",
    "    if i % 20 == 1 and i != 1:\n",
    "        print('')\n",
    "    print(switches[i], end=' ')"
   ]
  },
  {
   "cell_type": "code",
   "execution_count": 27,
   "id": "355c64e8",
   "metadata": {},
   "outputs": [
    {
     "data": {
      "text/plain": [
       "[1, 0, 0, 0, 1, 1, 0, 1]"
      ]
     },
     "execution_count": 27,
     "metadata": {},
     "output_type": "execute_result"
    }
   ],
   "source": [
    "def toggle(n):\n",
    "    if n == 1:\n",
    "        return 0\n",
    "    else:\n",
    "        return 1\n",
    "\n",
    "def solution(switches, students):\n",
    "    m, n = len(switches), len(students)\n",
    "    switches = [0] + switches\n",
    "    \n",
    "    for stu in students:\n",
    "        gender, k = stu\n",
    "        \n",
    "        if gender == 1: # men\n",
    "            for i in range(k, m+1, k):\n",
    "                switches[i] = toggle(switches[i])\n",
    "                \n",
    "        else: # women\n",
    "            switches[k] = toggle(switches[k])\n",
    "            \n",
    "            l, r = k - 1, k + 1\n",
    "            \n",
    "            while l >= 1 and r <= m:\n",
    "                if switches[l] == switches[r]:\n",
    "                    switches[l] = toggle(switches[l])\n",
    "                    switches[r] = toggle(switches[r])\n",
    "                    l -= 1\n",
    "                    r += 1\n",
    "                else:\n",
    "                    break\n",
    "    \n",
    "    \n",
    "    return switches[1:]\n",
    "\n",
    "solution([0, 1, 0, 1, 0, 0, 0, 1],[[1, 3], [2, 3]]) # 1 0 0 0 1 1 0 1"
   ]
  },
  {
   "cell_type": "code",
   "execution_count": 34,
   "id": "68d8c9ef",
   "metadata": {},
   "outputs": [
    {
     "data": {
      "text/plain": [
       "[1, 0, 0, 0, 1, 1, 0, 1]"
      ]
     },
     "execution_count": 34,
     "metadata": {},
     "output_type": "execute_result"
    }
   ],
   "source": [
    "# 2-c 번의 토글방식 이용\n",
    "def solution(switches, students):\n",
    "    m, n = len(switches), len(students)\n",
    "    switches = [0] + switches\n",
    "    \n",
    "    for stu in students:\n",
    "        gender, k = stu\n",
    "        \n",
    "        if gender == 1: # men\n",
    "            for i in range(k, m+1, k):\n",
    "                switches[i] ^= 1\n",
    "                \n",
    "        else: # women\n",
    "            switches[k] ^= 1\n",
    "            \n",
    "            l, r = k - 1, k + 1\n",
    "            \n",
    "            while l >= 1 and r <= m:\n",
    "                if switches[l] == switches[r]:\n",
    "                    switches[l] ^= 1\n",
    "                    switches[r] ^= 1\n",
    "                    l -= 1\n",
    "                    r += 1\n",
    "                else:\n",
    "                    break\n",
    "    \n",
    "    \n",
    "    return switches[1:]\n",
    "\n",
    "solution([0, 1, 0, 1, 0, 0, 0, 1],[[1, 3], [2, 3]]) # 1 0 0 0 1 1 0 1"
   ]
  },
  {
   "cell_type": "code",
   "execution_count": null,
   "id": "218fca88",
   "metadata": {},
   "outputs": [],
   "source": []
  }
 ],
 "metadata": {
  "kernelspec": {
   "display_name": "Python 3 (ipykernel)",
   "language": "python",
   "name": "python3"
  },
  "language_info": {
   "codemirror_mode": {
    "name": "ipython",
    "version": 3
   },
   "file_extension": ".py",
   "mimetype": "text/x-python",
   "name": "python",
   "nbconvert_exporter": "python",
   "pygments_lexer": "ipython3",
   "version": "3.9.7"
  }
 },
 "nbformat": 4,
 "nbformat_minor": 5
}
