{
 "cells": [
  {
   "cell_type": "markdown",
   "id": "21da9f73",
   "metadata": {},
   "source": [
    "- 문제: https://www.acmicpc.net/problem/1212"
   ]
  },
  {
   "cell_type": "code",
   "execution_count": 30,
   "id": "ed07c773",
   "metadata": {},
   "outputs": [
    {
     "name": "stdout",
     "output_type": "stream",
     "text": [
      "CPU times: user 2 µs, sys: 1 µs, total: 3 µs\n",
      "Wall time: 5.96 µs\n"
     ]
    },
    {
     "data": {
      "text/plain": [
       "'11001100'"
      ]
     },
     "execution_count": 30,
     "metadata": {},
     "output_type": "execute_result"
    }
   ],
   "source": [
    "%time\n",
    "def solution(n):\n",
    "    answer = bin(int(str(n), 8))[2:]\n",
    "        \n",
    "    return answer\n",
    "\n",
    "solution(314) # 11001100"
   ]
  },
  {
   "cell_type": "markdown",
   "id": "d35d1edd",
   "metadata": {},
   "source": [
    "- 시간초과 풀이"
   ]
  },
  {
   "cell_type": "code",
   "execution_count": 37,
   "id": "33fcd5f9",
   "metadata": {},
   "outputs": [
    {
     "name": "stdout",
     "output_type": "stream",
     "text": [
      "CPU times: user 3 µs, sys: 0 ns, total: 3 µs\n",
      "Wall time: 4.77 µs\n"
     ]
    },
    {
     "data": {
      "text/plain": [
       "11001100"
      ]
     },
     "execution_count": 37,
     "metadata": {},
     "output_type": "execute_result"
    }
   ],
   "source": [
    "%time\n",
    "from collections import deque\n",
    "\n",
    "def fun(k):\n",
    "    q = deque()\n",
    "    for _ in range(3):\n",
    "        q.appendleft(k % 2)\n",
    "        k = k // 2\n",
    "    \n",
    "    str_q = list(map(str, q))\n",
    "    str_q = ''.join(str_q)\n",
    "    \n",
    "    return str_q\n",
    "\n",
    "def solution(n):\n",
    "    answer = ''\n",
    "    list_n = list(map(int, str(n)))\n",
    "    \n",
    "    for l in list_n:\n",
    "        answer += fun(l)\n",
    "        \n",
    "    return int(answer)\n",
    "\n",
    "solution(314) # 11001100"
   ]
  },
  {
   "cell_type": "code",
   "execution_count": null,
   "id": "46b4eeef",
   "metadata": {},
   "outputs": [],
   "source": []
  }
 ],
 "metadata": {
  "kernelspec": {
   "display_name": "Python 3 (ipykernel)",
   "language": "python",
   "name": "python3"
  },
  "language_info": {
   "codemirror_mode": {
    "name": "ipython",
    "version": 3
   },
   "file_extension": ".py",
   "mimetype": "text/x-python",
   "name": "python",
   "nbconvert_exporter": "python",
   "pygments_lexer": "ipython3",
   "version": "3.9.7"
  }
 },
 "nbformat": 4,
 "nbformat_minor": 5
}
